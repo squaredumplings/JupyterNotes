{
 "cells": [
  {
   "cell_type": "markdown",
   "metadata": {},
   "source": [
    "# Programming Lesson and Exercises - DMM\n",
    "\n",
    "The goal of these programming lesson and exercises is to teach you how to model data using Python.\n",
    "In particular, you will learn how to fit regression, classification, and clustering models to a data set."
   ]
  },
  {
   "cell_type": "markdown",
   "metadata": {},
   "source": [
    "\n",
    "This notebook has the following structure:\n",
    "\n",
    "- The first part introduces the concepts for this week. The theory is interleaved with small exercises, which have the goal of letting you practice the concepts that were just intruduced.\n",
    "- At the end there are one or more larger exercises, which have the goal to test what you have learned earlier. These will be more difficult and will require more independent work than the exercises in the first part.\n",
    "\n",
    "All exercises can be solved with the concepts that were introduced earlier. Since there are often more than one correct way to solve a programming problem, we try to accept various correct anwers. However, many of the automatic tests in Momotor (see _How to submit your work_ below) assume that your answers are constructed using the concepts introduced in these notebooks. If you look for answers on the Internet (e.g. if you import other libraries) you run the risk that your answers will be rejected.\n",
    "\n",
    "Some of the small exercises can be solved by copy-pasting code from the examples. However, it is up to you to try to solve the exercises yourself, which will help you learn, before copy-pasting the answers. The ease of looking up answers is meant to provide guidance when you get stuck, especially for those of you who are new to programming.\n",
    "\n",
    "For your convenience, in the `support` directory you will find a summary of the Python methods introduced in this notebook.\n"
   ]
  },
  {
   "cell_type": "markdown",
   "metadata": {},
   "source": [
    "\n",
    "# Introduction to This Template Notebook\n",
    "\n",
    "* This is a **personal** notebook.\n",
    "* Make sure you work in a **copy** of `...-template.ipynb`,\n",
    "**renamed** to `...-yourIDnr.ipynb`,\n",
    "where `yourIDnr` is your TU/e identification number.\n",
    "\n",
    "<div class=\"alert alert-danger\" role=\"danger\">\n",
    "<h3>Integrity</h3>\n",
    "<ul>\n",
    "    <li>In this course you must act according to the rules of the TU/e code of scientific conduct.</li>\n",
    "    <li>All the exercises and the graded assignments are to be executed individually and independently.</li>\n",
    "    <li>You must not copy from the Internet, your friends, books... If you represent other people's work as your own, then that constitutes fraud and will be reported to the Examination Committee.</li>\n",
    "    <li>Making your work available to others (complicity) also constitutes fraud.</li>\n",
    "</ul>\n",
    "</div>\n",
    "\n",
    "You are expected to work with Python code in this notebook.\n",
    "\n",
    "The locations where you should write your solutions can be recognized by\n",
    "**marker lines**,\n",
    "which look like this:\n",
    "\n",
    ">`#//`\n",
    ">    `BEGIN_TODO [Label]` `Description` `(n points)`\n",
    ">\n",
    ">`#//`\n",
    ">    `END_TODO [Label]`\n",
    "\n",
    "<div class=\"alert alert-warning\" role=\"alert\">Do NOT modify or delete these marker lines.  Keep them as they are.<br/>\n",
    "NEVER write code <i>outside</i> the marked blocks.\n",
    "Such code cannot be evaluated.\n",
    "</div>\n",
    "\n",
    "Proceed in this notebook as follows:\n",
    "* **Read** the text.\n",
    "* **Fill in** your solutions between `BEGIN_TODO` and `END_TODO` marker lines.\n",
    "* **Run** _all_ code cells (also the ones _without_ your code),\n",
    "    _in linear order_ from the first code cell.\n",
    "\n",
    "**Personalize your notebook**:\n",
    "1. Copy the following three lines of code:\n",
    "\n",
    "  ```python\n",
    "  AUTHOR_NAME = 'Your Full Name'\n",
    "  AUTHOR_ID_NR = '1234567'\n",
    "  AUTHOR_DATE = 'YYYY-MM-DD'\n",
    "  ```\n",
    "1. Paste them between the marker lines in the next code cell.\n",
    "1. Fill in your _full name_, _identification number_, and the current _date_ (i.e. when you first modified this notebook, e.g. '2023-11-01') as strings between the `Author` markers.\n",
    "1. Run the code cell by putting the cursor there and typing **Control-Enter**.\n"
   ]
  },
  {
   "cell_type": "code",
   "execution_count": null,
   "metadata": {},
   "outputs": [],
   "source": [
    "#// BEGIN_TODO [Author] Name, Id.nr., Date, as strings (1 point)\n",
    "\n",
    "# ===== =====> Replace this line by your code. <===== ===== #\n",
    "\n",
    "#// END_TODO [Author]"
   ]
  },
  {
   "cell_type": "markdown",
   "metadata": {},
   "source": [
    "## Table of Contents\n",
    "\n",
    "- [Learning Objectives](#Learning-Objectives)\n",
    "- [Loading the Libraries](#Loading-the-Libraries)\n",
    "- [Data Sets](#Data-Sets) \n",
    "  - [Example Data Set](#Example-Data-Set) \n",
    "    - [Training and Test Data Set](#Training-and-Test-Data-Set)\n",
    "  - [Auto MPG Data Set](#Auto-MPG-Data-Set) \n",
    "    - [Training and Test Data Set](#Training-and-Test-Data-Set)\n",
    "  - [Wheat Seeds Data Set](#Wheat-Seeds-Data-Set)\n",
    "- [1. Linear Regression](#1.-Linear-Regression) \n",
    "  - [Step 1. Select the Data](#Step-1.-Select-the-Data)\n",
    "  - [Step 2. Create the Regression Object](#Step-2.-Create-the-Regression-Object)\n",
    "  - [Step 3. Fit the Model](#Step-3.-Fit-the-Model)\n",
    "  - [Step 4. Extract Model Parameters](#Step-4.-Extract-Model-Parameters)\n",
    "  - [Step 5. Visualze the Model](#Step-5.-Visualize-the-Model)\n",
    "  - [Step 6. Make Predictions](#Step-6.-Make-Predictions)\n",
    "  - [Step 7. Assess the Model's Quality](#Step-7.-Assess-the-Model's-Quality) \n",
    "    - [Step 7.a Goodness of Fit](#Step-7.a-Goodness-of-Fit)\n",
    "    - [Step 7.b Predictive Performance](#Step-7.b-Predictive-Performance)\n",
    "  - [Exercises on Linear Regression](#Exercises-on-Linear-Regression) \n",
    "    - [Exercise 1.a: Fit a Linear Model for `mpg`](#Exercise-1.a:-Fit-a-Linear-Model-for-mpg)\n",
    "    - [Exercise 1.b: Visualize the Model](#Exercise-1.b:-Visualize-the-Model)\n",
    "    - [Exercise 1.c: Interpret the Model](#Exercise-1.c:-Interpret-the-Model)\n",
    "    - [Exercise 1.d: Assess the Goodness of Fit](#Exercise-1.d:-Assess-the-Goodness-of-Fit)\n",
    "    - [Residual Plot](#Residual-Plot)\n",
    "    - [Exercise 1.e: Fit a Linear Model with a Quadratic Term](#Exercise-1.e:-Fit-a-Linear-Model-with-a-Quadratic-Term)\n",
    "    - [Exercise 1.f: Extract Model Parameters](#Exercise-1.f:-Extract-Model-Parameters)\n",
    "    - [Exercise 1.g: Visualize the Model with a Quadratic Term](#Exercise-1.g:-Visualize-the-Model-with-a-Quadratic-Term)\n",
    "    - [Exercise 1.h: Did the Goodness of Fit Improve?](#Exercise-1.h:-Did-the-Goodness-of-Fit-Improve?)\n",
    "    - [Exercise 1.i: Make Predictions](#Exercise-1.i:-Make-Predictions)\n",
    "    - [Exercise 1.j: Assess the Predictive Performance](#Exercise-1.j:-Assess-the-Predictive-Performance)\n",
    "- [2. Decision Tree Mining](#2.-Decision-Tree-Mining) \n",
    "  - [Step 1. Select the Data](#Step-1.-Select-the-Data)\n",
    "  - [Step 2. Create the Decision-tree Classifier](#Step-2.-Create-the-Decision--tree-Classifier)\n",
    "  - [Step 3. Do the Fitting](#Step-3.-Do-the-Fitting)\n",
    "  - [Step 4. Extract Model Parameters](#Step-4.-Extract-Model-Parameters)\n",
    "  - [Step 5. Visualze the Model](#Step-5.-Visualize-the-Model)\n",
    "  - [Step 6. Make Predictions](#Step-6.-Make-Predictions)\n",
    "  - [Step 7. Assess the Model's Quality](#Step-7.-Assess-the-Model's-Quality) \n",
    "    - [Step 7.a Goodness of Fit](#Step-7.a-Goodness-of-Fit)\n",
    "    - [Step 7.b Predictive Performance](#Step-7.b-Predictive-Performance)\n",
    "  - [Exercises on Decision Trees](#Exercises-on-Decision-Trees) \n",
    "    - [Exercise 2.a: Fit a Decision Tree for `origin`](#Exercise-2.a:-Fit-a-Decision-Tree-for-origin)\n",
    "    - [Exercise 2.b: Assess the Goodness of Fit](#Exercise-2.b:-Assess-the-Goodness-of-Fit)\n",
    "    - [Exercise 2.c: Visualize the Model](#Exercise-2.c:-Visualize-the-Model)\n",
    "    - [Exercise 2.d: Assess the Predictive Performance](#Exercise-2.d:-Assess-the-Predicitve-Performance)\n",
    "- [3. Clustering](#3.-Clustering) \n",
    "  - [Step 1. Select the Data](#Step-1.-Select-the-Data)\n",
    "  - [Step 2. Create the Cluster Object](#Step-2.-Create-the-Cluster-Object)\n",
    "  - [Step 3. Fit the Model](#Step-3.-Fit-the-Model)\n",
    "  - [Step 4. Extract Model Parameters](#Step-4.-Extract-Model-Parameters)\n",
    "  - [Step 5. Visualze the Model](#Step-5.-Visualize-the-Model)\n",
    "  - [Step 6. Make Predictions](#Step-6.-Make-Predictions)\n",
    "  - [Step 7. Assess the Model's Quality](#Step-7.-Assess-the-Model's-Quality) \n",
    "  - [Exercises on Clustering](#Exercises-on-Clustering) \n",
    "    - [Exercise 3.a: Cluster the Wheat Seeds](#Exercise-3.a:-Cluster-the-Wheat-Seeds)\n",
    "    - [Exercise 3.b: Visualize the Cluster](#Exercise-3.b:-Visualize-the-Cluster)\n",
    "    - [Exercise 3.c: Make Predictions](#Exercise-3.c-Make-Predictions)\n",
    "    - [Exercise 3.d: Assess the Model's Quality](#Exercise-3.d:-Assess-the-Model's-Quality)\n",
    "    - [Exercise 3.e: Compare with the Actual Seeds Varieties](#Exercise-3.e:-Compare-with-the-Actual-Seeds-Varieties)\n",
    "- [4. Exercise: Different Models for Linear Regression](#4.-Exercise:-Different-Models-for-Linear-Regression) \n",
    "  - [Exercise 4.a: Fit a Linear Model for `mpg` with a Cross Term and a Quadratic Term](#Exercise-4.a:-Fit-a-Linear-Model-for-mpg-with-a-Cross-Term-and-a-Quadratic-Term)\n",
    "  - [Exercise 4.b: Did the Goodness of Fit Improve](#Exercise-4.b:-Did-the-Goodness-of-Fit-Improve)\n",
    "  - [Exercise 4.c: Did the Predictive Performance Improve?](#Exercise-4.c:-Did-the-Predictive-Performance-Improve?)\n",
    "- [5. Exercise: Depths of Decision Trees](#5.-Exercise:-Depths-of-Decision-Trees) \n",
    "  - [Exercise 5.a: Fit a Decision Tree of Unbounded Maximum Depth](#Exercise-5.a:-Fit-a-Decision-Tree-of-Unbounded-Maximum-Depth)\n",
    "  - [Exercise 5.b: Extract Model Parameters](#Exercise-5.b:-Extract-Model-Parameters)\n",
    "  - [Exercise 5.c: Assess the Goodness of Fit](#Exercise-5.c:-Assess-the-Goodness-of-Fit)\n",
    "  - [Exercise 5.d: Assess the Predictive Performance](#Exercise-5.d:-Assess-the-Predictive-Performance)\n",
    "  - [Exercise 5.e: Which Tree is More Appropriate?](#Exercise-5.e:-Which-Tree-is-More-Appropriate?)"
   ]
  },
  {
   "cell_type": "markdown",
   "metadata": {},
   "source": [
    "## Learning Objectives\n",
    "\n",
    "After this lesson, you should\n",
    "\n",
    "* know how to do **linear regression** on data frames\n",
    "* know how to do **decision tree mining** on data frames\n",
    "* know how to do **k-means clustering** on data frames\n",
    "* know how to determine the **$R^2$** statistic of a linear regression model\n",
    "* know how to determine the **accuracy** of a classification model"
   ]
  },
  {
   "cell_type": "markdown",
   "metadata": {},
   "source": [
    "## Loading the Libraries\n",
    "\n",
    "Execute the following code cell to load and initialize the relevant data analytics libraries."
   ]
  },
  {
   "cell_type": "code",
   "execution_count": null,
   "metadata": {},
   "outputs": [],
   "source": [
    "import numpy as np\n",
    "import pandas as pd\n",
    "import matplotlib as mpl\n",
    "import matplotlib.pyplot as plt\n",
    "import seaborn as sns                       # also improves the look of plots\n",
    "\n",
    "# Configure plots\n",
    "sns.set()                                   # set Seaborn defaults\n",
    "plt.rcParams['figure.figsize'] = 10, 5      # default hor./vert. size of plots, in inches\n",
    "\n",
    "# Reveal a hint only while holding the mouse down\n",
    "from IPython.display import HTML\n",
    "HTML('<style>.h,.c{display:none}.t{color:#296eaa}.t:active+.h{display:block;}</style>')"
   ]
  },
  {
   "cell_type": "markdown",
   "metadata": {},
   "source": [
    "In these exercises, we will rely on `sklearn` (*SciKit Learn*), a Python library for machine learning. Now, we selectively import the relevant classes and functions from `sklearn`. Its documentation can be found here: http://scikit-learn.org/."
   ]
  },
  {
   "cell_type": "code",
   "execution_count": null,
   "metadata": {},
   "outputs": [],
   "source": [
    "from sklearn.linear_model import LinearRegression                   # for linear regression\n",
    "from sklearn.cluster import KMeans                                  # for clustering\n",
    "from sklearn.tree import DecisionTreeClassifier                     # for decision tree mining\n",
    "from sklearn.metrics import mean_absolute_error, confusion_matrix, ConfusionMatrixDisplay\n",
    "from sklearn.model_selection import train_test_split\n",
    "from files.treeviz import tree_print                                # to print a decision tree\n",
    "\n",
    "# KMeans: Suppress a FutureWarning about a default argument and a UserWarning about an unlikely (in our setting) memory leak\n",
    "import warnings\n",
    "warnings.filterwarnings('ignore', message=\"The default value of `n_init`*.\", category=FutureWarning)\n",
    "warnings.filterwarnings('ignore', message=\"KMeans is known to*.\", category=UserWarning)"
   ]
  },
  {
   "cell_type": "markdown",
   "metadata": {},
   "source": [
    "> **Warning:** Data mining methods often include a random component and are therefore **non-deterministic**. This means that some of the data mining methods can return different answers every time they are executed, even when the same input data is used."
   ]
  },
  {
   "cell_type": "markdown",
   "metadata": {},
   "source": [
    "## Data Sets\n",
    "\n",
    "Throughout this notebook, we will use three data sets:\n",
    "- The **example** data set will be used to introduce the data mining techniques;\n",
    "- the **auto MPG** data set will be used in the exercises for linear regression and decision tree mining, and;\n",
    "- the **wheat seeds** data set will be used in the exercises for clustering."
   ]
  },
  {
   "cell_type": "markdown",
   "metadata": {},
   "source": [
    "### Example Data Set\n",
    "\n",
    "We will use a small idealized data set to demonstrate the use of the methods in the SciKit Learn library. The example data set has two numeric columns labeled `'a'` and `'b'`, one categorical column labeled `'c'`, and twelve rows."
   ]
  },
  {
   "cell_type": "code",
   "execution_count": null,
   "metadata": {},
   "outputs": [],
   "source": [
    "df_example = pd.DataFrame([[0, 1, 'red'], [1, 2, 'red'], [2, 1, 'red'],\n",
    "                           [3, 3, 'blue'], [4, 2, 'blue'], [5, 3, 'blue'],\n",
    "                           [4, 7, 'orange'], [5, 8, 'orange'], [6, 7, 'orange'],\n",
    "                           [7, 9, 'black'], [8, 8, 'black'], [9, 9, 'black']],\n",
    "                        columns=['a', 'b', 'c'])\n",
    "df_example"
   ]
  },
  {
   "cell_type": "markdown",
   "metadata": {},
   "source": [
    "Here is a scatter plot of the example data set:"
   ]
  },
  {
   "cell_type": "code",
   "execution_count": null,
   "metadata": {},
   "outputs": [],
   "source": [
    "df_example.plot(kind='scatter', x='a', y='b', s=50, c=df_example['c'])\n",
    "plt.title('Example Data Set', weight='bold', size=16);"
   ]
  },
  {
   "cell_type": "markdown",
   "metadata": {},
   "source": [
    "#### Training and Test Data Set\n",
    "\n",
    "After training a model on a given data set, we usually want to use it to predict something about new data points.\n",
    "For evaluating the predictive performance of a trained model, we thus need a test set that is separate from the training set.\n",
    "For this purpose, we divide the whole data set into a _training set_ and a _test set_.\n",
    "The models are then fit using the _training set_ alone, and the predictions are evaluated using the *test set*.\n",
    "\n",
    "The easiest way to make this division is to randomly assign each data point to either the training or the test set.\n",
    "In the next code cell, we use the built-in `sklearn` function `train_test_split()` to randomly split the data in `df_example` into two data frames `df_example_train` and `df_example_test`.\n",
    "The `test_size` parameter causes 20% of the data points to be assigned to the test set.\n",
    "We also fix the random state, which ensures replicability. \n",
    "\n",
    "> **Note:** Randomly splitting a data set is not always the best approach. The `sklearn` library contains many more sophisticated methods, some of which are well suited for specific types of data.\n",
    "For example, data that is chronologically ordered (time series data) should be separated chronologically into consecutive training and test sets.\n",
    "See the SciKit Learn [User Guide](https://scikit-learn.org/stable/modules/cross_validation.html) for more information.\n",
    "In this set of exercises however, we only consider random splitting using `train_test_split`."
   ]
  },
  {
   "cell_type": "code",
   "execution_count": null,
   "metadata": {},
   "outputs": [],
   "source": [
    "df_example_train, df_example_test = train_test_split(df_example, test_size=0.2, random_state=7)"
   ]
  },
  {
   "cell_type": "markdown",
   "metadata": {},
   "source": [
    "Here is a scatter plot of the training and test data sets."
   ]
  },
  {
   "cell_type": "code",
   "execution_count": null,
   "metadata": {},
   "outputs": [],
   "source": [
    "ax = df_example_train.plot(kind='scatter', x='a', y='b', s=50, c='red')\n",
    "df_example_test.plot(kind='scatter', x='a', y='b', s=50, c='red', alpha=0.2, ax=ax)\n",
    "ax.legend(['Training set', 'Test set'])\n",
    "ax.set_title('Example Data Set', weight='bold', size=16);"
   ]
  },
  {
   "cell_type": "markdown",
   "metadata": {},
   "source": [
    "> **Important:** We will use the *training set* for training the models, and the *test set* for testing the trained models."
   ]
  },
  {
   "cell_type": "markdown",
   "metadata": {},
   "source": [
    "### Auto MPG Data Set\n",
    "\n",
    "The **Auto MPG** data set (see the file `auto-mpg.csv`) explores the fuel efficiency of cars, measured in Miles Per Gallon (MPG);\n",
    "the higher this number, the more efficient the car. In the following exercises, we will use this data set to make predictions about the fuel efficiency of a car based on its other properties. \n",
    "\n",
    "Find below an overview of the data set columns.\n",
    "\n",
    "|Column  | Type | Description | \n",
    "|:-------|:----|:----|\n",
    "|mpg|          continuous| fuel efficiency in miles per gallon; higher value is more efficient|\n",
    "|cylinders|     multi-valued discrete| number of cylinders|\n",
    "|displacement|  continuous| volume of cylinders; in cubic inches|\n",
    "|horsepower|    continuous| engine power; in horsepower (hp)|\n",
    "|weight|        continuous| car mass; in pounds (lbs)|\n",
    "|acceleration|  continuous| time to accelerate from 0 to 60 mph; in seconds (s)|\n",
    "|year|    multi-valued discrete| last two digits of the model year|\n",
    "|origin|        multi-valued discrete| 1. American, 2. European, 3. Japanese|\n",
    "|name|      string| make and model; not unique|\n",
    "\n",
    "#### Training and Test Data Set\n",
    "\n",
    "In the next code cell, we load the full data set into the data frame `df_mpg`. Next, we use the built-in `sklearn` function `train_test_split()` to split the data into data frames `df_mpg_train` and `df_mpg_test`.\n",
    "\n",
    "> **Important:** We will use the former for training the models, and the latter for testing the trained models."
   ]
  },
  {
   "cell_type": "code",
   "execution_count": null,
   "metadata": {},
   "outputs": [],
   "source": [
    "df_mpg = pd.read_csv('datasets/auto-mpg.csv')\n",
    "df_mpg_train, df_mpg_test = train_test_split(df_mpg, test_size=0.2, random_state=7)\n",
    "\n",
    "# Create a copy(), in case train_test_split() returns a view\n",
    "df_mpg_train = df_mpg_train.copy()\n",
    "df_mpg_test = df_mpg_test.copy()\n",
    "\n",
    "df_mpg_train.head()"
   ]
  },
  {
   "cell_type": "markdown",
   "metadata": {},
   "source": [
    "Consider the following columns:\n",
    "\n",
    "* mpg, cylinders, displacement, horsepower, weight, acceleration\n",
    "\n",
    "Which correlations do you expect?\n",
    "\n",
    "You can check your expectations against the following scatter plots."
   ]
  },
  {
   "cell_type": "code",
   "execution_count": null,
   "metadata": {},
   "outputs": [],
   "source": [
    "pd.plotting.scatter_matrix(df_mpg_train[['mpg', 'cylinders', 'displacement', 'horsepower', 'weight', 'acceleration']],\n",
    "                           diagonal='kde', figsize=(10, 10))\n",
    "plt.suptitle('Scatter matrix of the MPG data set', size=16, weight='bold')\n",
    "plt.tight_layout();     # this makes the subplots fit nicer in the figure"
   ]
  },
  {
   "cell_type": "markdown",
   "metadata": {},
   "source": [
    "### Wheat Seeds Data Set\n",
    "\n",
    "The **wheat seeds** data set contains six geometrical measurements of 210 different seeds. Here is a summary of the columns:\n",
    "\n",
    "|Column  | Type | Description | \n",
    "|:-------|:----|:----|\n",
    "|area| continuous|area of the kernel in mm $\\hspace{-0.1cm}{}^2$|\n",
    "|perimeter| continuous|perimeter of the kernel in mm|\n",
    "|kernel_length| continuous|length of the kernel in mm|\n",
    "|kernel_width| continuous|width of the kernel in mm|\n",
    "|asymmetry| continuous|asymmetry coefficient |\n",
    "|groove_length| continuous|length of the groove in the kernel in mm|\n",
    "\n",
    "We load the data into the data frame `df_seeds`."
   ]
  },
  {
   "cell_type": "code",
   "execution_count": null,
   "metadata": {},
   "outputs": [],
   "source": [
    "df_seeds = pd.read_csv('datasets/seeds.csv')\n",
    "df_seeds.head()"
   ]
  },
  {
   "cell_type": "markdown",
   "metadata": {},
   "source": [
    "# 1. Linear Regression\n",
    "\n",
    "The goal of _linear regression_ is to come up with a _linear model_ that best fits the data.\n",
    "It is a _supervised learning_ method\n",
    "that seeks to \"explain\" the dependent variable based on the independent variables\n",
    "using a _linear model_.\n",
    "\n",
    "> **Note**:\n",
    "> The term _variable_ means something else in statistics than in programming.\n",
    "> A (statistical) variable is any characteristic,\n",
    "> number, or quantity that can be measured or counted.\n",
    "> Its value can vary from individual to individual in the population.\n",
    ">\n",
    "> In statistics, we distinguish _dependent_ variables (also referred to as output or response variables) and\n",
    "> _independent_ variables (also referred to as input or explanatory variables).\n",
    "> The values of the _dependent_ variables are considered to be influenced by the\n",
    "> values of the _independent_ variables.\n",
    "\n",
    "In this lesson,\n",
    "we will use the **Ordinary Least Squares** (OLS) algorithm for linear regression. If you are interested in more details,\n",
    "then you can consult the SciKit Learn documentation:\n",
    "\n",
    "* [Ordinary Least Squares algorithm](http://scikit-learn.org/stable/modules/linear_model.html)\n",
    "* [The `sklearn.linear_model.LinearRegression` object](http://scikit-learn.org/stable/modules/generated/sklearn.linear_model.LinearRegression.html)\n",
    "\n",
    "In the case of our example data set,\n",
    "we see a tendency that larger values of `a` correspond to larger values of `b`\n",
    "and vice versa. Can we quantify this relationship?"
   ]
  },
  {
   "cell_type": "markdown",
   "metadata": {},
   "source": [
    "### Step 1. Select the Data\n",
    "\n",
    "We first need to identify in the data the dependent variable and the independent variables.\n",
    "\n",
    "In this example, we (fairly arbitrarily) _choose_ `a` to be the _independent_ variable\n",
    "and `b` the _dependent_ variable. In real-life applications, it is often more obvious how to make that distinction.\n",
    "\n",
    "We select the data for training and testing the linear regression model as follows."
   ]
  },
  {
   "cell_type": "code",
   "execution_count": null,
   "metadata": {},
   "outputs": [],
   "source": [
    "X_reg_train = df_example_train[['a']].copy()  # independent variable; just one column in this case\n",
    "y_reg_train = df_example_train[['b']].copy()  # dependent variable; just one column\n",
    "\n",
    "X_reg_test = df_example_test[['a']].copy()  # independent variable; just one column in this case\n",
    "y_reg_test = df_example_test[['b']].copy()  # dependent variable; just one column"
   ]
  },
  {
   "cell_type": "markdown",
   "metadata": {},
   "source": [
    "> **Notes:** \n",
    "> - It is good practice to copy the data (as we have done above). That way, when you start to play around with the selected data (e.g., to add new independent variables), you will not accidentally modify the original data.\n",
    "> - `X_reg_train` and  `y_reg_train` should be data frames, even if they contain only one column (therefore we use double square brackets in `df_example[['a']]`).\n",
    "> - In case of **multiple independent variables**, the `X_reg_train` data frame will contain several columns, one for each variable (e.g. `X_reg_train = df[['a', 'b', 'c']]`). This explains the capitalization of the `X`, which indicates that, in general, it refers to a matrix (2-dimensional). The lowercase `y` indicates that it refers to a vector (1-dimensional)."
   ]
  },
  {
   "cell_type": "markdown",
   "metadata": {},
   "source": [
    "### Step 2. Create the Regression Object\n",
    "\n",
    "Next, we create the _regression object_ for **linear regression**\n",
    "and store it in the variable `reg`."
   ]
  },
  {
   "cell_type": "code",
   "execution_count": null,
   "metadata": {},
   "outputs": [],
   "source": [
    "reg = LinearRegression()"
   ]
  },
  {
   "cell_type": "markdown",
   "metadata": {},
   "source": [
    "### Step 3. Fit the Model\n",
    "\n",
    "To fit a linear model to the data, we invoke the **`fit(X, y)`** method of the regression object, with `X` being the training data for the independent variables and `y` being the training data for the dependent variables:"
   ]
  },
  {
   "cell_type": "code",
   "execution_count": null,
   "metadata": {},
   "outputs": [],
   "source": [
    "# Only pass values without headers to avoid UserWarning\n",
    "reg.fit(X_reg_train.values, y_reg_train)"
   ]
  },
  {
   "cell_type": "markdown",
   "metadata": {},
   "source": [
    "The regression object `reg` is now fitted to the given data, modeling the values in `y_reg_train` in terms of the values in `X_reg_train`."
   ]
  },
  {
   "cell_type": "markdown",
   "metadata": {},
   "source": [
    "### Step 4. Extract Model Parameters\n",
    "\n",
    "The regression object stores the model parameters that it fitted in the previous step. These parameters can be accessed via attributes of the regression object:\n",
    "\n",
    "* **`reg.intercept_`**: a list containing a single *intercept*, that is, the constant term (additive offset);\n",
    "* **`reg.coef_`**: a list of *coefficients*, one for each of the independent variables.\n",
    "\n",
    "Recall that a linear model with $m$ independent variables can be written as:\n",
    "\n",
    "$y = \\beta_0 + \\sum_{i = 1}^m \\beta_i x_i$\n",
    "\n",
    "where $\\beta_0$ and $\\beta_i$ are the fitted parameters, $y$ is the dependent variable and $x_i$ are the independent variables. The single element in `reg.intercept_` corresponds to the $\\beta_0$ parameter, and the elements in `reg.coef_` correspond to the parameters $\\beta_i$ for $1 \\leq i \\leq m$.\n",
    "\n",
    "For our example data, we get the following coefficient and intercept:"
   ]
  },
  {
   "cell_type": "code",
   "execution_count": null,
   "metadata": {},
   "outputs": [],
   "source": [
    "reg.intercept_, reg.coef_"
   ]
  },
  {
   "cell_type": "markdown",
   "metadata": {},
   "source": [
    "which means that $\\beta_0 = 0.60243056$ and $\\beta_1 = 0.96354167$."
   ]
  },
  {
   "cell_type": "markdown",
   "metadata": {},
   "source": [
    "### Step 5. Visualize the Model\n",
    "\n",
    "In the case of a linear model where we have one independent variable and one dependent variable,\n",
    "we can visualize that model as a _line_ in the scatter plot.\n",
    "\n",
    "For higher-dimensional linear models (with multiple independent variables), such a visualization is more complex and outside the scope of this lesson.\n",
    "\n",
    "Visualizing this line could be done based on the extracted _coefficient_ and _intercept_. However, for the specific case of a single independent variable and a single dependent variable,\n",
    "Seaborn offers the function **`regplot()`** that produces a **scatter plot with a regression line**."
   ]
  },
  {
   "cell_type": "code",
   "execution_count": null,
   "metadata": {},
   "outputs": [],
   "source": [
    "ax = sns.regplot(x=X_reg_train['a'], y=y_reg_train['b'], line_kws={'color': 'orange'}, ci=None)\n",
    "ax.legend(['training data', 'trained model'])\n",
    "ax.set_title(\"Linear Model Predicting 'b' from 'a' in the Example Data Set\", weight='bold', size=16);"
   ]
  },
  {
   "cell_type": "markdown",
   "metadata": {},
   "source": [
    "By providing the argument `line_kws={'color': 'orange'}`, we set the color of the line to orange.\n",
    "\n",
    "We also provided the argument `ci = None`, to indicate that Seaborn should not draw a confidence interval (confidence intervals will be covered later in the course). \n",
    "\n",
    "> **Note:** `sns.regplot()` does not use the regression object. Rather, Seaborn recomputes the parameters for the linear regression from the data using the same OLS algorithm."
   ]
  },
  {
   "cell_type": "markdown",
   "metadata": {},
   "source": [
    "### Step 6. Make Predictions\n",
    "\n",
    "Once you have fitted a model to the training data set, you can use it to predict the dependent values for given independent values, also outside the training set. For that purpose, the regression object provides a function **`predict()`**.\n",
    "\n",
    "Let us use it in our example to predict the outcomes for all given `a` values.\n",
    "We store the predictions in a new column labeled `'b_predicted'`."
   ]
  },
  {
   "cell_type": "code",
   "execution_count": null,
   "metadata": {},
   "outputs": [],
   "source": [
    "# Pass values without headers to avoid UserWarning\n",
    "df_example['b_predicted'] = reg.predict(df_example[['a']].values) \n",
    "df_example[['b', 'b_predicted']]"
   ]
  },
  {
   "cell_type": "markdown",
   "metadata": {},
   "source": [
    "> **Note**:\n",
    "> `reg.predict()` requires a two-dimensional structure as an argument,\n",
    "> such as a `DataFrame`, and it also returns a two-dimensional result.\n",
    "\n",
    "If you want a prediction for a single independent value, then you need to _wrap_ that value in a `DataFrame`, as done below."
   ]
  },
  {
   "cell_type": "code",
   "execution_count": null,
   "metadata": {},
   "outputs": [],
   "source": [
    "reg.predict(pd.DataFrame([4.5]))"
   ]
  },
  {
   "cell_type": "markdown",
   "metadata": {},
   "source": [
    "To obtain the prediction as a single value,\n",
    "you can extract it from the result by *indexing*."
   ]
  },
  {
   "cell_type": "code",
   "execution_count": null,
   "metadata": {},
   "outputs": [],
   "source": [
    "reg.predict(pd.DataFrame([4.5]))[0, 0]"
   ]
  },
  {
   "cell_type": "markdown",
   "metadata": {},
   "source": [
    "### Step 7. Assess the Model's Quality\n",
    "\n",
    "There are various ways to assess the quality of a trained model.\n",
    "\n",
    "#### Step 7a. Goodness of Fit\n",
    "\n",
    "One way is to look at how well the model fits the **training set**. A common metric for the *goodness of fit* is $R^2$, also known as the _coefficient of determination_.\n",
    "$R^2$ typically takes values between 0 and 1, with 1 indicating a perfect fit and 0 indicating a fit that is as good as the horizontal line through the mean value of the dependent variable. Note that $R^2$ can also take on negative values, when the model is a poorer fit than the horizontal line through the mean.\n",
    "\n",
    "$R^2$ can be computed as follows:"
   ]
  },
  {
   "cell_type": "code",
   "execution_count": null,
   "metadata": {},
   "outputs": [],
   "source": [
    "# Pass values without headers to avoid UserWarning\n",
    "reg.score(X_reg_train.values, y_reg_train)"
   ]
  },
  {
   "cell_type": "markdown",
   "metadata": {},
   "source": [
    "> **Note:** If you add more independent variables to the selected data,\n",
    "the value of $R^2$ stays the same or goes up (it never goes down).\n",
    "\n",
    "Another way to evaluate the goodness of fit is to use a **residual plot**, plotting the *residuals*. Residuals are computed by taking the difference between the true value and the predicted value for the dependent variable:"
   ]
  },
  {
   "cell_type": "code",
   "execution_count": null,
   "metadata": {},
   "outputs": [],
   "source": [
    "# Pass values without headers to avoid UserWarning\n",
    "residuals = y_reg_train - reg.predict(X_reg_train.values)\n",
    "residuals"
   ]
  },
  {
   "cell_type": "markdown",
   "metadata": {},
   "source": [
    "We can plot the residuals on the $y$-axis against an independent variable on the $x$-axis, to see if the model fits the independent variable well. A good fit is indicated by dots that are distributed randomly relative to the horizontal zero line:"
   ]
  },
  {
   "cell_type": "code",
   "execution_count": null,
   "metadata": {},
   "outputs": [],
   "source": [
    "plt.scatter(x=X_reg_train['a'], y=residuals, s=50)\n",
    "plt.axhline()\n",
    "plt.title(\"Residual Plot for the Linear Model Predicting 'b' from 'a' in the Example Data Set\", weight='bold', size=14)\n",
    "plt.xlabel('a')\n",
    "plt.ylabel('Residual');"
   ]
  },
  {
   "cell_type": "markdown",
   "metadata": {},
   "source": [
    "A structure in the residuals (e.g. a V-shape or a trend) would indicate that the dependent variable contains information about the independent variable that is not included in the model."
   ]
  },
  {
   "cell_type": "markdown",
   "metadata": {},
   "source": [
    "#### Step 7b. Predictive Performance\n",
    "\n",
    "We are often interested in how well a trained model generalizes, i.e. how well it will perform on data *outside of the training set*. We can try to measure how well a model generalizes by computing different metrics on a held-out **test set**. One such metric is the *mean absolute error*, which is the average absolute difference between the *true* value and the *predicted* value. It can be computed using SciKit Learn function `mean_absolute_error()`:"
   ]
  },
  {
   "cell_type": "code",
   "execution_count": null,
   "metadata": {},
   "outputs": [],
   "source": [
    "# Pass values without headers to avoid UserWarning\n",
    "mean_absolute_error(y_reg_test, reg.predict(X_reg_test.values))"
   ]
  },
  {
   "cell_type": "markdown",
   "metadata": {},
   "source": [
    "where `y_reg_test` are the true values and `reg.predict(X_reg_test.values)` are the predicted values. This indicates that on average we can expect the predictions of the model to be off by approximately 1.47."
   ]
  },
  {
   "cell_type": "markdown",
   "metadata": {},
   "source": [
    "## Exercises on Linear Regression\n",
    "\n",
    "Now it is time to apply linear regression to the Auto MPG data set."
   ]
  },
  {
   "cell_type": "markdown",
   "metadata": {},
   "source": [
    "### Exercise 1.a: Fit a Linear Model for `mpg`\n",
    "\n",
    "Fit a linear regression model for predicting the fuel efficiency of cars using the *training data set* `df_mpg_train`, with `'mpg'` as the _dependent variable_ and\n",
    "`'weight'` as the _independent variable_. Perform the following steps:\n",
    "\n",
    "**Step 1. Select the data**\n",
    "\n",
    "* Assign the training data for the independent variable to `X_mpg_train` as a data frame.\n",
    "* Assign the training data for the dependent variable to `y_mpg_train` as a data frame.\n",
    "* Assign the test data for the independent variable to `X_mpg_test` as a data frame.\n",
    "* Assign the test data for the dependent variable to `y_mpg_test` as a data frame.\n",
    "\n",
    "**Step 2. Create the regression object**\n",
    "\n",
    "* Assign the regression object to `reg_mpg`.\n",
    "\n",
    "**Step 3. Fit the regression model**\n",
    "\n",
    "**Step 4. Extract the regression parameters**\n",
    "\n",
    "* Assign the **single** coefficient to `coef_mpg` as a **float**.\n",
    "* Assign the intercept to `intercept_mpg` as a **float**."
   ]
  },
  {
   "cell_type": "code",
   "execution_count": null,
   "metadata": {},
   "outputs": [],
   "source": [
    "#// BEGIN_TODO [DMM_1a] Linear regression (4 points)\n",
    "\n",
    "# ===== =====> Replace this line by your code. <===== ===== #\n",
    "\n",
    "#// END_TODO [DMM_1a]\n",
    "\n",
    "coef_mpg, intercept_mpg"
   ]
  },
  {
   "cell_type": "markdown",
   "metadata": {},
   "source": [
    "### Exercise 1.b: Visualize the Model\n",
    "\n",
    "Create a scatter plot with a regression line for the linear model.  \n",
    "\n",
    "> **Hint:** Use `sns.regplot()`."
   ]
  },
  {
   "cell_type": "code",
   "execution_count": null,
   "metadata": {},
   "outputs": [],
   "source": [
    "#// BEGIN_TODO [DMM_1b] Scatter plot with regression line (2 points)\n",
    "\n",
    "# ===== =====> Replace this line by your code. <===== ===== #\n",
    "\n",
    "#// END_TODO [DMM_1b]"
   ]
  },
  {
   "cell_type": "markdown",
   "metadata": {},
   "source": [
    "### Exercise 1.c: Interpret the Model\n",
    "\n",
    "Does the fitted model suggest that a _higher_ weight corresponds to a _higher_ number of miles per gallon? Assign your (boolean) answer to `higher_weight_higher_mpg`."
   ]
  },
  {
   "cell_type": "code",
   "execution_count": null,
   "metadata": {},
   "outputs": [],
   "source": [
    "#// BEGIN_TODO [DMM_1c] Linear regression (1 point)\n",
    "\n",
    "# ===== =====> Replace this line by your code. <===== ===== #\n",
    "\n",
    "#// END_TODO [DMM_1c]\n",
    "\n",
    "higher_weight_higher_mpg"
   ]
  },
  {
   "cell_type": "markdown",
   "metadata": {},
   "source": [
    "### Exercise 1.d: Assess the Goodness of Fit\n",
    "\n",
    "How well does the model fit the training data, i.e. what is the coefficient of determination $R^2$?\n",
    "Assign your (numeric) answer to `R2_mpg`."
   ]
  },
  {
   "cell_type": "code",
   "execution_count": null,
   "metadata": {},
   "outputs": [],
   "source": [
    "#// BEGIN_TODO [DMM_1d] R squared (2 points)\n",
    "\n",
    "# ===== =====> Replace this line by your code. <===== ===== #\n",
    "\n",
    "#// END_TODO [DMM_1d]\n",
    "\n",
    "R2_mpg"
   ]
  },
  {
   "cell_type": "markdown",
   "metadata": {},
   "source": [
    "### Residual Plot\n",
    "\n",
    "We can use a residual plot to see if there is any structure in the residuals, indicating that the training data can be modeled more accurately with a different model."
   ]
  },
  {
   "cell_type": "code",
   "execution_count": null,
   "metadata": {},
   "outputs": [],
   "source": [
    "plt.scatter(x=X_mpg_train['weight'], y=(y_mpg_train - reg_mpg.predict(X_mpg_train.values)), s=50)\n",
    "plt.axhline()\n",
    "plt.title(\"Residual Plot for the Linear Model Prediciting 'mpg' from 'weight'\", weight='bold', size=14)\n",
    "plt.xlabel('Weight')\n",
    "plt.ylabel('Residual');"
   ]
  },
  {
   "cell_type": "markdown",
   "metadata": {},
   "source": [
    "We can see that the residuals are not distributed randomly relative to the zero line (e.g. the variance of the residuals increases for lower `'weight'` values), suggesting that a more complex model in terms of `'weight'` may result in a better fit."
   ]
  },
  {
   "cell_type": "markdown",
   "metadata": {},
   "source": [
    "### Exercise 1.e: Fit a Linear Model with a Quadratic Term\n",
    "\n",
    "When we look at the initial plot of `mpg` versus `weight`,\n",
    "it does not look linear, but curved.\n",
    "This suggests including higher-order terms,\n",
    "such as the square of `weight`. In this exercise, we will try to find coefficients $a$, $b$ and $c$ such that\n",
    "\n",
    "  `mpg` $\\approx a$ `weight`$^2$ + $b$ `weight` + $c$\n",
    "\n",
    "To this end, create a new data frame named `X_mpg_qt_train` containing the `'weight'` column of `df_mpg_train`. Then add a column `'weight^2'` containing the squared weight values.\n",
    "\n",
    "Next, fit a linear regression model with `mpg` as the dependent variable,\n",
    "and both `weight` and `weight^2` as independent variables.\n",
    "\n",
    "Assign\n",
    "\n",
    "* the data for the independent variable (a data frame with the `'weight'` and `'weight^2'` columns) to `X_mpg_qt_train`,\n",
    "* the regression object to `reg_mpg_qt`,\n",
    "* the coefficients to `coef_mpg_qt` (as an **array**),\n",
    "* the intercept to `intercept_mpg_qt` (as a **float**), and\n",
    "* $R^2$ (for the training set `X_mpg_qt_train`) to `R2_mpg_qt`.\n",
    "\n",
    "> **Hint:** You can reuse `y_mpg_train` created earlier as the dependent variable for fitting the model."
   ]
  },
  {
   "cell_type": "code",
   "execution_count": null,
   "metadata": {},
   "outputs": [],
   "source": [
    "#// BEGIN_TODO [DMM_1e] Model with quadratic term explaining mpg from weight (5 points)\n",
    "\n",
    "# ===== =====> Replace this line by your code. <===== ===== #\n",
    "\n",
    "#// END_TODO [DMM_1e]\n",
    "\n",
    "coef_mpg_qt, intercept_mpg_qt, R2_mpg_qt"
   ]
  },
  {
   "cell_type": "markdown",
   "metadata": {},
   "source": [
    "### Exercise 1.f: Extract Model Parameters\n",
    "\n",
    "From the linear regression, we can extract coefficients $a$, $b$ and $c$ such that\n",
    "\n",
    "`mpg` $\\approx a$ `weight`${}^2$ + $b$ `weight` + $c$\n",
    "\n",
    "Assign the values of $a$, $b$, and $c$ to the Python variables `a`, `b`, and `c`. Use the equation to compute the predicted `mpg` when `weight` equals $4000$ lbs, and assign the result to `y_mpg_4000`.\n",
    "\n",
    "<span class=\"t\">Hint<span class=\"c\">:</span></span>\n",
    "<span class=\"h\">\n",
    "The coefficients are in the same order as the columns of the fitted data frame with independent variables, in this case `X_mpg_qt_train`.\n",
    "</span>"
   ]
  },
  {
   "cell_type": "code",
   "execution_count": null,
   "metadata": {},
   "outputs": [],
   "source": [
    "#// BEGIN_TODO [DMM_1f] Extract model parameters for the quadratic model (2 points)\n",
    "\n",
    "# ===== =====> Replace this line by your code. <===== ===== #\n",
    "\n",
    "#// END_TODO [DMM_1f]\n",
    "\n",
    "a, b, c, y_mpg_4000"
   ]
  },
  {
   "cell_type": "markdown",
   "metadata": {},
   "source": [
    "### Exercise 1.g: Visualize the Model with a Quadratic Term\n",
    "\n",
    "Create a scatter plot with a regression line for this quadratic model (use `sns.regplot()` with argument `order=2` for a linear model with a quadratic term). Add the test data to the plot in a different color.\n",
    "\n",
    "> **Hint:** Use `X_mpg_train` as the independent variable. Revisit superimposing plots in VIS exercises for adding the test data."
   ]
  },
  {
   "cell_type": "code",
   "execution_count": null,
   "metadata": {},
   "outputs": [],
   "source": [
    "#// BEGIN_TODO [DMM_1g] Scatter plot and quadratic model (2 points)\n",
    "\n",
    "# ===== =====> Replace this line by your code. <===== ===== #\n",
    "\n",
    "#// END_TODO [DMM_1g]"
   ]
  },
  {
   "cell_type": "markdown",
   "metadata": {},
   "source": [
    "### Exercise 1.h: Did the Goodness of Fit Improve?\n",
    "\n",
    "Is the value of $R^2$ for new model better than in [Exercise 1.d](#Exercise-1.d)? Assign your boolean answer to `R2_improved_for_qt`."
   ]
  },
  {
   "cell_type": "code",
   "execution_count": null,
   "metadata": {},
   "outputs": [],
   "source": [
    "#// BEGIN_TODO [DMM_1h] Is this better than the linear model from 1.a? (1 point)\n",
    "\n",
    "# ===== =====> Replace this line by your code. <===== ===== #\n",
    "\n",
    "#// END_TODO [DMM_1h]\n",
    "\n",
    "R2_improved_for_qt"
   ]
  },
  {
   "attachments": {
    "mpg100.png": {
     "image/png": "[encoded data removed]"
    }
   },
   "cell_type": "markdown",
   "metadata": {},
   "source": [
    "> **Warning**: In fact, if you add more independent variables, the value of $R^2$ will **always** increase. \n",
    "> This does not necessarily mean that the model gets better. If you add too many variables, the model will **overfit**: although predictions for seen (training) data are good, predictions on new (test) data will be poor.\n",
    ">\n",
    "> Below is an example of fitting a high-order polynomial. It is a plot of a linear regression model explaining `mpg` from `weight` of order 100. Note that the predictions of `mpg` for previously unseen weights (e.g. between 4500 and 5500 lbs) will be poor.\n",
    ">\n",
    "> ![mpg100.png](attachment:mpg100.png)"
   ]
  },
  {
   "cell_type": "markdown",
   "metadata": {},
   "source": [
    "### Exercise 1.i: Make Predictions\n",
    "\n",
    "Predict the fuel efficiency (in mpg) of the cars in the test set.\n",
    "To this end, create a new data frame `X_mpg_qt_test` containing the `'weight'` column of `df_mpg_test`. Then add a column `'weight^2'` containing the squared weight values.\n",
    "\n",
    "Assign your answer as a new column labeled `'predicted_mpg'` to the data frame `df_mpg_test`. \n",
    "\n",
    "> **Hint:** Use `reg_mpg_qt.predict()`."
   ]
  },
  {
   "cell_type": "code",
   "execution_count": null,
   "metadata": {},
   "outputs": [],
   "source": [
    "#// BEGIN_TODO [DMM_1i] Predict fuel efficiency (2 points)\n",
    "\n",
    "# ===== =====> Replace this line by your code. <===== ===== #\n",
    "\n",
    "#// END_TODO [DMM_1i]\n",
    "\n",
    "df_mpg_test.head()"
   ]
  },
  {
   "cell_type": "markdown",
   "metadata": {},
   "source": [
    "### Exercise 1.j: Assess the Predictive Performance\n",
    "\n",
    "Let us see how good the predictions really are. Evaluate the mean absolute error on the **_test set_** and assign its value to the variable `MAE_mpg_qt`. \n",
    "\n",
    "> **Hint:** You can reuse `y_mpg_test` for the true values."
   ]
  },
  {
   "cell_type": "code",
   "execution_count": null,
   "metadata": {},
   "outputs": [],
   "source": [
    "#// BEGIN_TODO [DMM_1j] Prediction accuracy (1 point)\n",
    "\n",
    "# ===== =====> Replace this line by your code. <===== ===== #\n",
    "\n",
    "#// END_TODO [DMM_1j]\n",
    "\n",
    "MAE_mpg_qt"
   ]
  },
  {
   "cell_type": "markdown",
   "metadata": {},
   "source": [
    "# 2. Decision Tree Mining\n",
    "\n",
    "The goal of _decision tree mining_ is to come up with a _decision tree_ that best fits the data. It is a _supervised learning_ method that seeks to predict a dependent variable from independent variables, where\n",
    "\n",
    "* each decision is based on the value of one variable, and\n",
    "* the tree has minimal depth\n",
    "  (each decision is most informative).\n",
    "\n",
    "In this lesson, we will use (an optimized version of) the **CART** algorithm\n",
    "for decision tree mining. It can be started with a bound on the tree depth.\n",
    "\n",
    "> **Note**: the decision tree implementation in sklearn is non-deterministic, i.e. it contains a random component. Consequently, the fitted model may differ each time you call the fitting function. You can see it by executing multiple times the cells with the code fitting the tree and extracting the model parameters.\n",
    "\n",
    "If you are interested in more details, you can consult the documentation at SciKit Learn:\n",
    "\n",
    "* [Decision Trees](http://scikit-learn.org/stable/modules/tree.html)\n",
    "* [The `sklearn.tree.DecisionTreeClassifier` decision-tree object](http://scikit-learn.org/stable/modules/generated/sklearn.tree.DecisionTreeClassifier.html)"
   ]
  },
  {
   "cell_type": "markdown",
   "metadata": {},
   "source": [
    "### Step 1. Select the Data\n",
    "\n",
    "We illustrate how to train a decision tree classifier, by using the data frame `df_example`. The following scatter plot visualizes the training set, using the dependent variable `'c'` to color the dots."
   ]
  },
  {
   "cell_type": "code",
   "execution_count": null,
   "metadata": {},
   "outputs": [],
   "source": [
    "ax = df_example_train.plot(kind='scatter', x='a', y='b', s=50, c=df_example_train['c'])\n",
    "ax.set_title('Training a Subset of the Example Data Set', weight='bold', size=16);"
   ]
  },
  {
   "cell_type": "markdown",
   "metadata": {},
   "source": [
    "We choose `'a'` and `'b'` to be the *independent* variables and `'c'` to be the *dependent* variable:."
   ]
  },
  {
   "cell_type": "code",
   "execution_count": null,
   "metadata": {},
   "outputs": [],
   "source": [
    "X_dtc_train = df_example_train[['a', 'b']].copy()\n",
    "y_dtc_train = df_example_train[['c']].copy()\n",
    "\n",
    "X_dtc_test = df_example_test[['a', 'b']].copy()\n",
    "y_dtc_test = df_example_test[['c']].copy()"
   ]
  },
  {
   "cell_type": "markdown",
   "metadata": {},
   "source": [
    "Note that again we store that the dependent variable data in a data frame by using double square brackets. A series would also work as an alternative."
   ]
  },
  {
   "cell_type": "markdown",
   "metadata": {},
   "source": [
    "### Step 2. Create the Decision-tree Classifier\n",
    "\n",
    "Next, we create the _decision-tree object_ for **decision tree mining**\n",
    "and store it in the variable `dtc`.\n",
    "We supply an upper bound on the tree depth as an argument."
   ]
  },
  {
   "cell_type": "code",
   "execution_count": null,
   "metadata": {},
   "outputs": [],
   "source": [
    "dtc = DecisionTreeClassifier(max_depth=3)"
   ]
  },
  {
   "cell_type": "markdown",
   "metadata": {},
   "source": [
    "If you do not supply an upper bound,\n",
    "then the decision tree will grow as far as is \"necessary\" to get the best result.\n",
    "\n",
    "A larger tree is not necessarily better. Large trees may **overfit**: produce good results on training data but poor results on test data."
   ]
  },
  {
   "cell_type": "markdown",
   "metadata": {},
   "source": [
    "### Step 3. Do the Fitting\n",
    "\n",
    "Invoke the **`fit()`** function of the decision-tree object,\n",
    "supplying the selected data/"
   ]
  },
  {
   "cell_type": "code",
   "execution_count": null,
   "metadata": {},
   "outputs": [],
   "source": [
    "dtc.fit(X_dtc_train, y_dtc_train)"
   ]
  },
  {
   "cell_type": "markdown",
   "metadata": {},
   "source": [
    "### Step 4. Extract Model Parameters\n",
    "\n",
    "In the case of decision tree mining,\n",
    "the relevant attributes of the decision-tree classifier `dtc` are:\n",
    "\n",
    "* **`dtc.tree_`**: the _mined decision tree_.\n",
    "  * **`dtc.tree_.node_count`**: the _number of nodes_ in the tree.\n",
    "  * **`dtc.tree_.max_depth`**: the _depth_ of the tree, that is, the maximum distance from the root to any leaf.\n",
    "* **`dtc.feature_importances_`**: the _relative importance_ of each independent variable.\n",
    "* **`dtc.classes_`**: the _inferred dependent values_ for the dependent variable(s)  .\n",
    "\n",
    "It is convenient\n",
    "\n",
    "* to visualize the tree (see Step 5), and\n",
    "* to convert the feature importances to a data frame\n",
    "    with the same column labels as the original data."
   ]
  },
  {
   "cell_type": "code",
   "execution_count": null,
   "metadata": {},
   "outputs": [],
   "source": [
    "dtc.tree_.node_count, dtc.tree_.max_depth"
   ]
  },
  {
   "cell_type": "code",
   "execution_count": null,
   "metadata": {},
   "outputs": [],
   "source": [
    "feature_importances = pd.DataFrame([dtc.feature_importances_], columns=X_dtc_train.columns)\n",
    "feature_importances"
   ]
  },
  {
   "cell_type": "code",
   "execution_count": null,
   "metadata": {},
   "outputs": [],
   "source": [
    "dtc.classes_"
   ]
  },
  {
   "attachments": {
    "example-decision-tree.png": {
     "image/png": "[encoded data removed]"
    }
   },
   "cell_type": "markdown",
   "metadata": {},
   "source": [
    "### Step 5. Visualize the Model\n",
    "\n",
    "Unfortunately,\n",
    "creating a _graphical representation_ of a decision tree\n",
    "(as shown in the image below) is [outside the scope of these lessons](http://scikit-learn.org/stable/modules/tree.html).\n",
    "\n",
    "![example-decision-tree.png](attachment:example-decision-tree.png)\n",
    "\n",
    "Instead, we use a (third-party) function **`tree_print()`**,\n",
    "which is imported from `treeviz.py`\n",
    "to show a _textual representation_."
   ]
  },
  {
   "cell_type": "code",
   "execution_count": null,
   "metadata": {},
   "outputs": [],
   "source": [
    "tree_print(dtc, X_dtc_train)"
   ]
  },
  {
   "cell_type": "markdown",
   "metadata": {},
   "source": [
    "Recall that we set `max_depth=3` when creating the decision-tree object.\n",
    "Apparently, the dependent value can be predicted fully with a smaller tree,\n",
    "since the mined decision tree has a depth of just 2."
   ]
  },
  {
   "cell_type": "markdown",
   "metadata": {},
   "source": [
    "### Step 6. Make Predictions\n",
    "\n",
    "Once you have fitted a model to the training data set, you can use it to predict the dependent values for given independent values, also outside the training set. For that purpose, the regression object provides a function **`predict()`**.\n",
    "\n",
    "Let us use it in our example to predict the outcomes for `a` and `b` values in the training set:"
   ]
  },
  {
   "cell_type": "code",
   "execution_count": null,
   "metadata": {},
   "outputs": [],
   "source": [
    "y_dtc_pred = dtc.predict(X_dtc_train)\n",
    "y_dtc_pred"
   ]
  },
  {
   "cell_type": "markdown",
   "metadata": {},
   "source": [
    "Note that this produces an array.\n",
    "We can compare these predictions to the real values in the training set."
   ]
  },
  {
   "cell_type": "code",
   "execution_count": null,
   "metadata": {},
   "outputs": [],
   "source": [
    "pd.DataFrame({'real': y_dtc_train['c'], 'predicted': y_dtc_pred})"
   ]
  },
  {
   "cell_type": "markdown",
   "metadata": {},
   "source": [
    "### Step 7. Assess the Model's Quality\n",
    "\n",
    "The quality of a decision tree can be expressed as its *accuracy*.\n",
    "\n",
    "#### Step 7a. Goodness of Fit\n",
    "\n",
    "One way is to look at how well the model fits the training set. The *goodness of fit* of a classification model, e.g. a decision tree, can be measured by computing the accuracy on the **training set** as follows."
   ]
  },
  {
   "cell_type": "code",
   "execution_count": null,
   "metadata": {},
   "outputs": [],
   "source": [
    "dtc.score(X_dtc_train, y_dtc_train)"
   ]
  },
  {
   "cell_type": "markdown",
   "metadata": {},
   "source": [
    "This score is at best 1.0 (100% correct)\n",
    "and will drop towards 0.0 with less accuracy.\n",
    "\n",
    "> **Note:** _Accuracy_ treats all errors in the same way.\n",
    "When not all types of errors have the same impact\n",
    "(think of _false positives_ versus *false negatives*),\n",
    "accuracy is not a good measure."
   ]
  },
  {
   "cell_type": "markdown",
   "metadata": {},
   "source": [
    "To get an idea of types of errors in the model predictions, we can create a **confusion matrix** using the `confusion_matrix` function from `sklearn`. As there are four categories in this example (`'black'`, `'blue'`, `'orange'` and `'red'`), this matrix will be $4 \\times 4$."
   ]
  },
  {
   "cell_type": "code",
   "execution_count": null,
   "metadata": {},
   "outputs": [],
   "source": [
    "confusion_matrix(y_dtc_train, y_dtc_pred)"
   ]
  },
  {
   "cell_type": "markdown",
   "metadata": {},
   "source": [
    "For a visualization of this matrix that includes the label of each row/column, we can use `ConfusionMatrixDisplay.from_prediction` as follows.\n",
    "Here we use `plt.grid()` to turn off the grid, as it obfuscates this type of plot."
   ]
  },
  {
   "cell_type": "code",
   "execution_count": null,
   "metadata": {},
   "outputs": [],
   "source": [
    "ConfusionMatrixDisplay.from_predictions(y_dtc_train, y_dtc_pred)\n",
    "plt.grid();"
   ]
  },
  {
   "cell_type": "markdown",
   "metadata": {},
   "source": [
    "Because the accuracy score is 1.0 (maximal), it is no surprise that only the diagonal of this matrix has nonzero entries."
   ]
  },
  {
   "cell_type": "markdown",
   "metadata": {},
   "source": [
    "#### Step 7b. Predictive Performance\n",
    "\n",
    "We are often interested in how well a trained model generalizes, i.e. how well it will perform on data *outside of the training set*. We can try to measure how well a model generalizes by computing the accuracy on the **test set**."
   ]
  },
  {
   "cell_type": "code",
   "execution_count": null,
   "metadata": {},
   "outputs": [],
   "source": [
    "dtc.score(X_dtc_test, y_dtc_test)"
   ]
  },
  {
   "cell_type": "markdown",
   "metadata": {},
   "source": [
    "Because of the aforementioned randomness in the fitting algorithm of a decision tree, this accuracy will be either 0.66... or 1.0 in the cell above. \n",
    "As the test set only contains 3 data points, this means that the tree correctly predicts either 2 or 3 `c`-values out of 3."
   ]
  },
  {
   "cell_type": "markdown",
   "metadata": {},
   "source": [
    "## Exercises on Decision Trees\n",
    "\n",
    "Let us see if we can learn a decision tree to predict the origin of the cars in the Auto MPG data set."
   ]
  },
  {
   "cell_type": "markdown",
   "metadata": {},
   "source": [
    "### Exercise 2.a: Fit a Decision Tree for `'origin'`\n",
    "\n",
    "Fit a decision tree with a **maximum depth of $3$** using the *training data set*, with `'origin'` as _dependent variable_ and the features\n",
    "`'mpg', 'cylinders', 'displacement', 'weight', 'acceleration', 'year'`\n",
    "as _independent variables_. Perform the following steps:\n",
    "\n",
    "**Step 1. Select the data**\n",
    "\n",
    "* Assign the following list of column labels to `features`: `'mpg', 'cylinders', 'displacement', 'weight', 'acceleration', 'year'`.\n",
    "* Using `df_mpg_train` and `df_mpg_test`:\n",
    "    * Assign the *training data* for the independent variable to a data frame `X_mpg_dtc_train`.\n",
    "    * Assign the *training data* for the dependent variable to a data frame `y_mpg_dtc_train`.\n",
    "    * Assign the *test data* for the independent variable to a data frame `X_mpg_dtc_test`.\n",
    "    * Assign the *test data* for the dependent variable to a data frame `y_mpg_dtc_test`.\n",
    "\n",
    "**Step 2. Create the decision-tree object**\n",
    "\n",
    "* Assign the decision tree classifier to `dtc_depth_3`.\n",
    "\n",
    "**Step 3. Fit the model**\n",
    "\n",
    "**Step 4. Extract model parameters**\n",
    "\n",
    "* Create a data frame `feature_importances_depth_3` with the _relative importance_ of the feature."
   ]
  },
  {
   "cell_type": "code",
   "execution_count": null,
   "metadata": {},
   "outputs": [],
   "source": [
    "#// BEGIN_TODO [DMM_2a] Decision tree (4 points)\n",
    "\n",
    "# ===== =====> Replace this line by your code. <===== ===== #\n",
    "\n",
    "#// END_TODO [DMM_2a]\n",
    "\n",
    "feature_importances_depth_3"
   ]
  },
  {
   "cell_type": "markdown",
   "metadata": {},
   "source": [
    "### Exercise 2.b: Assess the Goodness of Fit & Types of errors\n",
    "\n",
    "Assess the goodness fit of the decision tree by computing the accuracy on the training set. Assign your answer to the variable `acc_depth_3_train`.  \n",
    "Next, use the model to predict the `'origin'` of each car in the training set, and store the result in `df_mpg_train` as a column called `predicted_origin`.  \n",
    "Finally, use this column in combination with `y_mpg_dtc_train` to create a confusion matrix of the training set predictions.\n"
   ]
  },
  {
   "cell_type": "code",
   "execution_count": null,
   "metadata": {},
   "outputs": [],
   "source": [
    "#// BEGIN_TODO [DMM_2b] Training set accuracy for a decision tree of depth <= 3 & Confusion matrix (2 points)\n",
    "\n",
    "# ===== =====> Replace this line by your code. <===== ===== #\n",
    "\n",
    "#// END_TODO [DMM_2b]\n",
    "\n",
    "acc_depth_3_train"
   ]
  },
  {
   "cell_type": "code",
   "execution_count": null,
   "metadata": {},
   "outputs": [],
   "source": [
    "df_mpg_train.head()"
   ]
  },
  {
   "cell_type": "markdown",
   "metadata": {},
   "source": [
    "### Exercise 2.c: Visualize the Model\n",
    "\n",
    "Show a textual representation of the decision tree."
   ]
  },
  {
   "cell_type": "code",
   "execution_count": null,
   "metadata": {},
   "outputs": [],
   "source": [
    "#// BEGIN_TODO [DMM_2c] Textual representation of decision tree (1 point)\n",
    "\n",
    "# ===== =====> Replace this line by your code. <===== ===== #\n",
    "\n",
    "#// END_TODO [DMM_2c]"
   ]
  },
  {
   "cell_type": "markdown",
   "metadata": {},
   "source": [
    "### Exercise 2.d: Assess the Predictive Performance\n",
    "\n",
    "The obtained decision tree gives us a simple scheme to predict the origin of cars based on their features. Let us see how good these predictions are for the cars in the test set: assess the quality of the decision tree by computing its accuracy for the _test set_. Assign your answer to the variable `acc_depth_3_test`."
   ]
  },
  {
   "cell_type": "code",
   "execution_count": null,
   "metadata": {},
   "outputs": [],
   "source": [
    "#// BEGIN_TODO [DMM_2d] Test set accuracy for a decision tree of depth <= 3 (1 point)\n",
    "\n",
    "# ===== =====> Replace this line by your code. <===== ===== #\n",
    "\n",
    "#// END_TODO [DMM_2d]\n",
    "\n",
    "acc_depth_3_test"
   ]
  },
  {
   "cell_type": "markdown",
   "metadata": {},
   "source": [
    "# 3. Clustering\n",
    "\n",
    "The goal of _clustering_ is to come up with a _collection of clusters_ that best fits the data.\n",
    "It is an _unsupervised learning_ method\n",
    "that seeks to group the data points in coherent groups, where\n",
    "\n",
    "* distances _within_ (intra) groups are relatively *small*, and\n",
    "* distances _between_ (inter) groups are relatively _large_.\n",
    "\n",
    "In this lesson, we will use the **K-Means** algorithm for clustering.\n",
    "It is non-deterministic and must be started with the desired number of clusters.\n",
    "\n",
    "If you are interested in more details, you can consult the documentation at SciKit Learn:\n",
    "\n",
    "* [K-Means algorithm](http://scikit-learn.org/stable/modules/clustering.html#k-means)\n",
    "* [The `sklearn.cluster.KMeans` cluster object](http://scikit-learn.org/stable/modules/generated/sklearn.cluster.KMeans.html)"
   ]
  },
  {
   "cell_type": "markdown",
   "metadata": {},
   "source": [
    "### Step 1. Select the Data\n",
    "\n",
    "We select the `'a'` and `'b'` columns from `df_example`:"
   ]
  },
  {
   "cell_type": "code",
   "execution_count": null,
   "metadata": {},
   "outputs": [],
   "source": [
    "X_km = df_example[['a', 'b']].copy()"
   ]
  },
  {
   "cell_type": "markdown",
   "metadata": {},
   "source": [
    "### Step 2. Create the Cluster Object\n",
    "\n",
    "Next, we create the _cluster object_ for **K-Means clustering**,\n",
    "supplying the desired number of clusters as an argument (**`n_clusters=...`**),\n",
    "and store it in the variable `km`.\n",
    "\n",
    "In this example, we go for four clusters."
   ]
  },
  {
   "cell_type": "code",
   "execution_count": null,
   "metadata": {},
   "outputs": [],
   "source": [
    "km = KMeans(n_clusters=4)"
   ]
  },
  {
   "cell_type": "markdown",
   "metadata": {},
   "source": [
    "### Step 3. Fit the Model\n",
    "\n",
    "Invoke the **`fit()`** function of the cluster object,\n",
    "supplying the selected data."
   ]
  },
  {
   "cell_type": "code",
   "execution_count": null,
   "metadata": {},
   "outputs": [],
   "source": [
    "km.fit(X_km.values)"
   ]
  },
  {
   "cell_type": "markdown",
   "metadata": {},
   "source": [
    "### Step 4. Extract Model Parameters\n",
    "\n",
    "In the case of K-Means clustering,\n",
    "the relevant attributes of the cluster object `km` are:\n",
    "\n",
    "* **`km.cluster_centers_ `**: the _locations of the cluster centers_.\n",
    "* **`km.labels_`**: the _cluster labels_ for the data points (labels are in the range from $0$ through $k-1$, where $k = $ `n_clusters`).\n",
    "\n",
    "It is convenient\n",
    "\n",
    "* to convert the cluster centers to a data frame with the same column labels as the original data,\n",
    "    and\n",
    "* to add the labels as a new column to the data being clustered.\n",
    "\n",
    "In our example, we do this as follows."
   ]
  },
  {
   "cell_type": "code",
   "execution_count": null,
   "metadata": {},
   "outputs": [],
   "source": [
    "centers = pd.DataFrame(km.cluster_centers_, columns=X_km.columns)\n",
    "centers"
   ]
  },
  {
   "cell_type": "code",
   "execution_count": null,
   "metadata": {},
   "outputs": [],
   "source": [
    "X_km['cluster'] = km.labels_\n",
    "X_km"
   ]
  },
  {
   "cell_type": "markdown",
   "metadata": {},
   "source": [
    "### Step 5. Visualize the Model\n",
    "\n",
    "To visualize the clusters,\n",
    "we create a scatter plot,\n",
    "where we color each data point according to its cluster.\n",
    "\n",
    "Finally, we add the cluster centers marked by a cross."
   ]
  },
  {
   "cell_type": "code",
   "execution_count": null,
   "metadata": {},
   "outputs": [],
   "source": [
    "ax = X_km[X_km['cluster']==0].plot(kind='scatter', x='a', y='b', s=50, c='green')\n",
    "X_km[X_km['cluster']==1].plot(kind='scatter',x='a',y='b',s=50, c='orange', ax = ax)\n",
    "X_km[X_km['cluster']==2].plot(kind='scatter',x='a',y='b',s=50, c='purple', ax = ax)\n",
    "X_km[X_km['cluster']==3].plot(kind='scatter',x='a',y='b',s=50, c='blue', ax = ax)\n",
    "\n",
    "centers.plot(kind = 'scatter', x='a', y='b', c=['green','orange','purple','blue'], s=50, marker='x', ax=ax)\n",
    "ax.legend([\"cluster 0\", \"cluster 1\", \"cluster 2\", \"cluster 3\"])\n",
    "ax.set_title(\"Example Data Set with Clusters\", weight='bold', size=16);"
   ]
  },
  {
   "cell_type": "markdown",
   "metadata": {},
   "source": [
    "### Step 6. Make Predictions\n",
    "\n",
    "Given one or more additional data points, you can find their clusters,\n",
    "i.e., the label of the nearest cluster center, with the function **`predict()`**."
   ]
  },
  {
   "cell_type": "code",
   "execution_count": null,
   "metadata": {},
   "outputs": [],
   "source": [
    "test_km = [(1, 4), (2, 4), (4, 6), (5, 4), (7, 6), (8, 8)]\n",
    "km.predict(test_km)"
   ]
  },
  {
   "attachments": {
    "kmeans-regions.png": {
     "image/png": "[encoded data removed]"
    }
   },
   "cell_type": "markdown",
   "metadata": {},
   "source": [
    "Check these predictions. It may be helpful to consult the following plot\n",
    "(its creation is beyond the scope of these lessons),\n",
    "which shows the cluster (color) predicted by `km.predict()`\n",
    "for all points in the plot area.\n",
    "\n",
    "![kmeans-regions.png](attachment:kmeans-regions.png)"
   ]
  },
  {
   "cell_type": "markdown",
   "metadata": {},
   "source": [
    "### Step 7. Assess the Model's Quality\n",
    "\n",
    "For clustering, a quality measure is the _sum of squared distances_ of data points\n",
    "to their closest cluster center, also known as _inertia_.\n",
    "Its value is non-negative, and 0 is the best.\n",
    "\n",
    "It is obtained as follows."
   ]
  },
  {
   "cell_type": "code",
   "execution_count": null,
   "metadata": {},
   "outputs": [],
   "source": [
    "inertia = km.inertia_\n",
    "inertia"
   ]
  },
  {
   "cell_type": "markdown",
   "metadata": {},
   "source": [
    "> **Warning**: The inertia will always go down if you create more clusters, similarly to how the value of $R^2$ for linear regression always goes up if you add more independent variables. Again, this does _not_ mean that more clusters are always better: at some point, every point will just have its own cluster, and the clustering becomes meaningless."
   ]
  },
  {
   "cell_type": "markdown",
   "metadata": {},
   "source": [
    "## Exercises on Clustering\n",
    "\n",
    "In this exercise, we will attempt to identify different types of *wheat seeds*, by clustering on their geometrical properties. We will use the data in `df_seeds`."
   ]
  },
  {
   "cell_type": "markdown",
   "metadata": {},
   "source": [
    "### Exercise 3.a: Cluster the Wheat Seeds \n",
    "\n",
    "Cluster the wheat seed data with the $k$-means algorithm with $k$ set to $3$. Perform the following steps:\n",
    "\n",
    "**Step 1. Select the data**\n",
    "\n",
    "* Copy the entire `df_seeds` data frame to a data frame `X_seeds_train`.\n",
    "\n",
    "**Step 2. Create the cluster object**\n",
    "\n",
    "* Assign the cluster object to `km_seeds`.\n",
    "\n",
    "**Step 3. Fit the model**\n",
    "\n",
    "**Step 4. Extract the model parameters**\n",
    "\n",
    "* Assign the cluster centers to `centers_seeds` as a data frame, with the independent variables as column names.\n",
    "* Add a new column named `'cluster'` with the cluster labels to the data frame `X_seeds_train`."
   ]
  },
  {
   "cell_type": "code",
   "execution_count": null,
   "metadata": {},
   "outputs": [],
   "source": [
    "#// BEGIN_TODO [DMM_3a] Mine 3 clusters (3 points)\n",
    "\n",
    "# ===== =====> Replace this line by your code. <===== ===== #\n",
    "\n",
    "#// END_TODO [DMM_3a]\n",
    "\n",
    "X_seeds_train.head(10)"
   ]
  },
  {
   "cell_type": "code",
   "execution_count": null,
   "metadata": {},
   "outputs": [],
   "source": [
    "centers_seeds"
   ]
  },
  {
   "cell_type": "markdown",
   "metadata": {},
   "source": [
    "### Exercise 3.b: Visualize the Clusters\n",
    "\n",
    "Plot the results in a scatter plot, with the `'asymmetry'` column on the $x$-axis, and the `'perimeter'` column on the $y$-axis. Display each cluster in a different color. In addition, put red markers at the cluster centers. "
   ]
  },
  {
   "cell_type": "code",
   "execution_count": null,
   "metadata": {},
   "outputs": [],
   "source": [
    "#// BEGIN_TODO [DMM_3b] Plot the clusters distinguished by color (2 points)\n",
    "\n",
    "# ===== =====> Replace this line by your code. <===== ===== #\n",
    "\n",
    "#// END_TODO [DMM_3b]"
   ]
  },
  {
   "cell_type": "markdown",
   "metadata": {},
   "source": [
    "### Exercise 3.c: Make Predictions\n",
    "\n",
    "Predict the cluster for seeds with the following geometrical properties\n",
    "given in the data frame `X_seeds_test` below. Assign your answer to a new column `'predicted_cluster'` that you should add to `X_seeds_test`."
   ]
  },
  {
   "cell_type": "code",
   "execution_count": null,
   "metadata": {},
   "outputs": [],
   "source": [
    "X_seeds_test = pd.DataFrame([[14.3, 14.0, 5.5, 3.1, 2.8, 4.9],\n",
    "                             [16.5, 15.7, 6.3, 3.5, 3.4, 6.0],\n",
    "                             [11.5, 13.0, 5.0, 2.7, 4.8, 5.0]],\n",
    "                            columns=df_seeds.columns)\n",
    "\n",
    "#// BEGIN_TODO [DMM_3c] Predict clusters (2 points)\n",
    "\n",
    "# ===== =====> Replace this line by your code. <===== ===== #\n",
    "\n",
    "#// END_TODO [DMM_3c]\n",
    "\n",
    "X_seeds_test"
   ]
  },
  {
   "cell_type": "markdown",
   "metadata": {},
   "source": [
    "### Exercise 3.d: Assess the Model's Quality\n",
    "\n",
    "Determine the model's _inertia_, and assign it to the variable `inertia_seeds`."
   ]
  },
  {
   "cell_type": "code",
   "execution_count": null,
   "metadata": {},
   "outputs": [],
   "source": [
    "#// BEGIN_TODO [DMM_3d] Model quality (1 point)\n",
    "\n",
    "# ===== =====> Replace this line by your code. <===== ===== #\n",
    "\n",
    "#// END_TODO [DMM_3d]\n",
    "\n",
    "inertia_seeds"
   ]
  },
  {
   "cell_type": "markdown",
   "metadata": {},
   "source": [
    "### Exercise 3.e: Compare with the Actual Seed Varieties\n",
    "\n",
    "Using the $k$-means algorithm, we have identified our own types of wheat seeds. Clustering is an unsupervised learning technique, which is usually used when the data is not labeled. For this particular data set, however, the seeds actually come from three established wheat varieties. Let us see how our types compare to the varieties. \n",
    "\n",
    "The first seventy seeds in the data set were from the _Kama_ variety, the second seventy were _Rosa_ wheat seeds and the last seventy were _Canadian_ wheat seeds.\n",
    "\n",
    "Add this information as strings in a column `'variety'` to the data frame `X_seeds_train`. Afterwards, we will compare the clusters with the variety labels."
   ]
  },
  {
   "cell_type": "code",
   "execution_count": null,
   "metadata": {},
   "outputs": [],
   "source": [
    "#// BEGIN_TODO [DMM_3e] Add variety column (1 point)\n",
    "\n",
    "# ===== =====> Replace this line by your code. <===== ===== #\n",
    "\n",
    "#// END_TODO [DMM_3e]\n",
    "\n",
    "X_seeds_train"
   ]
  },
  {
   "cell_type": "markdown",
   "metadata": {},
   "source": [
    "By executing the following cell, you can get some insight into how the clusters produced by the $k$-means algorithm compare to the established varieties."
   ]
  },
  {
   "cell_type": "code",
   "execution_count": null,
   "metadata": {},
   "outputs": [],
   "source": [
    "X_seeds_train.groupby('cluster')['variety'].describe()"
   ]
  },
  {
   "cell_type": "markdown",
   "metadata": {},
   "source": [
    "If everything went well, you will see that there is actually quite a good correspondence!"
   ]
  },
  {
   "cell_type": "markdown",
   "metadata": {},
   "source": [
    "---"
   ]
  },
  {
   "cell_type": "markdown",
   "metadata": {},
   "source": [
    "# 4. Exercise: Different Models for Linear Regression\n",
    "\n",
    "\n",
    "In the earlier exercises you were closely guided. In the following exercises we will put your knowledge to the test.\n",
    "\n",
    "Note that these exercises may seem more difficult as you will need to work more indepedently. When you struggle with an exercise then go back to the corresponding earlier section and make sure you really understand the introduced concepts. Do not hesitate to experiment with your own code!\n",
    "\n",
    "\n",
    "In Exercise 1, we fitted a linear model \"explaining\" `mpg` from `weight`. In this exercise, we will add more independent variables, and see whether the predictions become more accurate. "
   ]
  },
  {
   "cell_type": "markdown",
   "metadata": {},
   "source": [
    "### Exercise 4.a: Fit a Linear Model for `'mpg'` with a Cross Term and a Quadratic Term\n",
    "\n",
    "The relationship between `mpg` and the `weight` may actually depend on the `horsepower`. Such dependencies can be captured with cross terms.\n",
    "\n",
    "Fit a model with `mpg` as the dependent variable,\n",
    "and four independent variables: `weight`, `horsepower`, `weight` $\\times$ `horsepower`, and `weight`$^2$.\n",
    "\n",
    "Which percentage of the variation in `mpg` is explained by the variation in these four factors?\n",
    "\n",
    "Assign\n",
    "\n",
    "* the training data for the independent variable to `X_mpg_ct_train`, with column names `'weight'`, `'horsepower'`, `'weight x hp'` and `'weight^2'`, using `df_mpg_train`;\n",
    "* the test data for the independent variable to `X_mpg_ct_test` using `df_mpg_test`, with the same column names as `X_mpg_ct_train`;\n",
    "* the fitted regression object to `reg_mpg_ct`;\n",
    "* the coefficients to `coef_mpg_ct` (as an array);\n",
    "* the intercept to `intercept_mpg_ct` (as a float);\n",
    "* $R^2$ evaluated on the **training set** to `R2_mpg_ct`, and;\n",
    "* the mean absolute error evaluated on the **test set** to `MAE_mpg_ct`."
   ]
  },
  {
   "cell_type": "code",
   "execution_count": null,
   "metadata": {},
   "outputs": [],
   "source": [
    "#// BEGIN_TODO [DMM_4a] Model with cross term and quadratic term (5 points)\n",
    "\n",
    "# ===== =====> Replace this line by your code. <===== ===== #\n",
    "\n",
    "#// END_TODO [DMM_4a]\n",
    "\n",
    "coef_mpg_ct, intercept_mpg_ct, R2_mpg_ct, MAE_mpg_ct"
   ]
  },
  {
   "cell_type": "markdown",
   "metadata": {},
   "source": [
    "### Exercise 4.b: Did the Goodness of Fit Improve?\n",
    "\n",
    "Does this model have a better $R^2$ *on the training set* than the model with just the quadratic term? Assign your boolean answer to the variable `R2_improved_for_ct`."
   ]
  },
  {
   "cell_type": "code",
   "execution_count": null,
   "metadata": {},
   "outputs": [],
   "source": [
    "#// BEGIN_TODO [DMM_4b] Did R2 on the training set improve? (1 point)\n",
    "\n",
    "# ===== =====> Replace this line by your code. <===== ===== #\n",
    "\n",
    "#// END_TODO [DMM_4b]\n",
    "\n",
    "R2_improved_for_ct"
   ]
  },
  {
   "cell_type": "markdown",
   "metadata": {},
   "source": [
    "### Exercise 4.c: Did the Predictive Performance Improve?\n",
    "\n",
    "Does this model have a better mean absolute error *on the test set* than the model with just the weight term? Assign your boolean answer to the variable `MAE_improved_for_ct`."
   ]
  },
  {
   "cell_type": "code",
   "execution_count": null,
   "metadata": {},
   "outputs": [],
   "source": [
    "#// BEGIN_TODO [DMM_4c] Did MAE on the test set improve? (2 points)\n",
    "\n",
    "# ===== =====> Replace this line by your code. <===== ===== #\n",
    "\n",
    "#// END_TODO [DMM_4c]\n",
    "\n",
    "MAE_improved_for_ct"
   ]
  },
  {
   "cell_type": "markdown",
   "metadata": {},
   "source": [
    "# 5. Exercise: Depths of Decision Trees\n",
    "\n",
    "In [Exercise 2.a](#Exercise-2.a), we have created a decision tree of depth 3 to classify cars into their origins. In this exercise, we will investigate what happens to the decision trees when we do not put a maximum on the depth of the tree.\n",
    "We can decide how deep we allow a decision tree to be\n",
    "by setting the appropriate parameter."
   ]
  },
  {
   "cell_type": "markdown",
   "metadata": {},
   "source": [
    "### Exercise 5.a: Fit a Decision Tree of Unbounded Maximum Depth\n",
    "\n",
    "Let us see what happens if we leave the decision tree unbounded. Fit a decision tree with unspecified maximum depth to predict the `origin`. Assign the decision tree classifier to `dtc_unbdd`.\n",
    "\n",
    "> **Hint:** Use `X_mpg_dtc_train` and `y_mpg_dtc_train` which you have defined earlier."
   ]
  },
  {
   "cell_type": "code",
   "execution_count": null,
   "metadata": {},
   "outputs": [],
   "source": [
    "#// BEGIN_TODO [DMM_5a] Unbounded decision tree (2 points)\n",
    "\n",
    "# ===== =====> Replace this line by your code. <===== ===== #\n",
    "\n",
    "#// END_TODO [DMM_5a]\n",
    "\n",
    "tree_print(dtc_unbdd, X_mpg_dtc_train)"
   ]
  },
  {
   "cell_type": "markdown",
   "metadata": {},
   "source": [
    "### Exercise 5.b: Extract Model Parameters\n",
    "\n",
    "Which depth level does the tree reach? Assign your integer answer to the variable `depth_level_tree`.\n",
    "\n",
    "> **Hint:** You may simply look at the tree and provide a number."
   ]
  },
  {
   "cell_type": "code",
   "execution_count": null,
   "metadata": {},
   "outputs": [],
   "source": [
    "#// BEGIN_TODO [DMM_5b] Depth of unbounded tree (1 point)\n",
    "\n",
    "# ===== =====> Replace this line by your code. <===== ===== #\n",
    "\n",
    "#// END_TODO [DMM_5b]\n",
    "\n",
    "depth_level_tree"
   ]
  },
  {
   "cell_type": "markdown",
   "metadata": {},
   "source": [
    "### Exercise 5.c: Assess the Goodness of Fit\n",
    "\n",
    "Does the tree of [Exercise 5.a: Fit a Decision Tree of Unbounded Maximum Depth](#Exercise-5.a:-Fit-a-Decision-Tree-of-Unbounded-Maximum-Depth) make any mistakes on the training set?\n",
    "\n",
    "Assign\n",
    "\n",
    "* the predicted classification for all cars in the _training data set_ to the variable `y_pred_unbdd_train`, and;\n",
    "* the accuracy of the tree for the _training data set_ to `accuracy_unbdd_train`."
   ]
  },
  {
   "cell_type": "code",
   "execution_count": null,
   "metadata": {},
   "outputs": [],
   "source": [
    "#// BEGIN_TODO [DMM_5c] Training set accuracy for unbounded tree (3 points)\n",
    "\n",
    "# ===== =====> Replace this line by your code. <===== ===== #\n",
    "\n",
    "#// END_TODO [DMM_5c]\n",
    "\n",
    "accuracy_unbdd_train"
   ]
  },
  {
   "cell_type": "markdown",
   "metadata": {},
   "source": [
    "### Exercise 5.d: Assess the Predictive Performance\n",
    "\n",
    "The unbounded depth tree performs well on the training data set. But how good is it for predicting the origin of cars for data it has not seen before? \n",
    "\n",
    "Compute the accuracy of the predictions of the unbounded decision tree on the test set.\n",
    "\n",
    "Assign\n",
    "\n",
    "* the predicted classification for all cars in the _test data set_ to the variable `y_pred_unbdd_test`, and;\n",
    "* the accuracy of the tree for the _test data set_ to `accuracy_unbdd_test`."
   ]
  },
  {
   "cell_type": "code",
   "execution_count": null,
   "metadata": {},
   "outputs": [],
   "source": [
    "#// BEGIN_TODO [DMM_5d] Test set accuracy for unbounded tree (3 points)\n",
    "\n",
    "# ===== =====> Replace this line by your code. <===== ===== #\n",
    "\n",
    "#// END_TODO [DMM_5d]\n",
    "\n",
    "accuracy_unbdd_test"
   ]
  },
  {
   "cell_type": "markdown",
   "metadata": {},
   "source": [
    "### Exercise 5.e: Which Tree is More Appropriate?\n",
    "\n",
    "Which of the trees we have considered in this exercise, and Exercise 2, is more appropriate and why?\n",
    "\n",
    ">a. The unbounded tree, because it makes the least mistakes.\n",
    ">\n",
    ">b. The tree of depth 3, because it has a better balance between accuracy and simplicity.\n",
    "\n",
    "Assign your answer (string `'a'` or `'b'`) to the variable `more_appropriate_tree`."
   ]
  },
  {
   "cell_type": "code",
   "execution_count": null,
   "metadata": {},
   "outputs": [],
   "source": [
    "#// BEGIN_TODO [DMM_5e] Most appropriate tree? (1 point)\n",
    "\n",
    "# ===== =====> Replace this line by your code. <===== ===== #\n",
    "\n",
    "#// END_TODO [DMM_5e]\n",
    "\n",
    "more_appropriate_tree"
   ]
  },
  {
   "cell_type": "markdown",
   "metadata": {},
   "source": [
    "# Feedback\n",
    "\n",
    "Please fill in this questionaire to help us improve this course for the next year. Your feedback will be anonymized and will not affect your grade in any way!"
   ]
  },
  {
   "cell_type": "markdown",
   "metadata": {},
   "source": [
    "### How many hours did you spend on these Exercises?\n",
    "\n",
    "Assign a number to `feedback_time`."
   ]
  },
  {
   "cell_type": "code",
   "execution_count": null,
   "metadata": {},
   "outputs": [],
   "source": [
    "#// BEGIN_FEEDBACK [Feedback_1] (0 point)\n",
    "\n",
    "#// END_FEEDBACK [Feedback_1] (0 point)\n",
    "\n",
    "import numbers\n",
    "assert isinstance(feedback_time, numbers.Number), \"Please assign a number to feedback_time\"\n",
    "feedback_time"
   ]
  },
  {
   "cell_type": "markdown",
   "metadata": {},
   "source": [
    "### How difficult did you find these Exercises?\n",
    "\n",
    "Assign an integer to `feedback_difficulty`, on a scale 0 - 10, with 0 being very easy, 5 being just right, and 10 being very difficult."
   ]
  },
  {
   "cell_type": "code",
   "execution_count": null,
   "metadata": {},
   "outputs": [],
   "source": [
    "#// BEGIN_FEEDBACK [Feedback_2] (0 point)\n",
    "\n",
    "#// END_FEEDBACK [Feedback_2] (0 point)\n",
    "\n",
    "import numbers\n",
    "assert isinstance(feedback_difficulty, numbers.Number), \"Please assign a number to feedback_difficulty\"\n",
    "feedback_difficulty"
   ]
  },
  {
   "cell_type": "markdown",
   "metadata": {},
   "source": [
    "### (Optional) What did you like?\n",
    "\n",
    "Assign a string to `feedback_like`."
   ]
  },
  {
   "cell_type": "code",
   "execution_count": null,
   "metadata": {},
   "outputs": [],
   "source": [
    "#// BEGIN_FEEDBACK [Feedback_3] (0 point)\n",
    "\n",
    "#// END_FEEDBACK [Feedback_3] (0 point)"
   ]
  },
  {
   "cell_type": "markdown",
   "metadata": {},
   "source": [
    "### (Optional) What can be improved?\n",
    "\n",
    "Assign a string to `feedback_improve`. Please be specific, so that we can act on your feedback. For example, mention the specific exercises and what was unclear."
   ]
  },
  {
   "cell_type": "code",
   "execution_count": null,
   "metadata": {},
   "outputs": [],
   "source": [
    "#// BEGIN_FEEDBACK [Feedback_4] (0 point)\n",
    "\n",
    "#// END_FEEDBACK [Feedback_4] (0 point)"
   ]
  },
  {
   "cell_type": "markdown",
   "metadata": {},
   "source": [
    "\n",
    "\n",
    "\n",
    "## How to Submit Your Work\n",
    "\n",
    "1. **Before submitting**, you must run your notebook by doing **Kernel > Restart & Run All**.  \n",
    "   Make sure that your notebook runs without errors **in linear order**.\n",
    "1. Remember to rename the notebook, replacing `...-template.ipynb` with `...-yourIDnr.ipynb`, where `yourIDnr` is your TU/e identification number.\n",
    "1. Submit the executed notebook with your work\n",
    "   for the appropriate assignment in **Canvas**.\n",
    "1. In the **Momotor** tab in Canvas,\n",
    "  you can select that assignment again to find some feedback on your submitted work.\n",
    "  If there are any problems reported by _Momotor_,\n",
    "  then you need to fix those,\n",
    "  and **resubmit the fixed notebook**.\n",
    "\n",
    "In case of a high workload on our server\n",
    "(because many students submit close to the deadline),\n",
    "it may take longer to receive the feedback.\n",
    "\n",
    "\n"
   ]
  },
  {
   "cell_type": "markdown",
   "metadata": {},
   "source": [
    "---"
   ]
  },
  {
   "cell_type": "code",
   "execution_count": null,
   "metadata": {},
   "outputs": [],
   "source": [
    "# List all defined names\n",
    "%whos"
   ]
  },
  {
   "cell_type": "markdown",
   "metadata": {},
   "source": [
    "---\n",
    "\n",
    "# (End of Notebook) <span class=\"tocSkip\"></span>\n",
    "\n",
    "&copy; 2017-2023 - **TU/e** - Eindhoven University of Technology"
   ]
  }
 ],
 "metadata": {
  "hide_input": false,
  "kernelspec": {
   "display_name": "Python 3",
   "language": "python",
   "name": "python3"
  },
  "language_info": {
   "codemirror_mode": {
    "name": "ipython",
    "version": 3
   },
   "file_extension": ".py",
   "mimetype": "text/x-python",
   "name": "python",
   "nbconvert_exporter": "python",
   "pygments_lexer": "ipython3",
   "version": "3.10.9"
  },
  "toc": {
   "base_numbering": 1,
   "nav_menu": {
    "height": "174px",
    "width": "252px"
   },
   "number_sections": false,
   "sideBar": true,
   "skip_h1_title": false,
   "title_cell": "Table of Contents",
   "title_sidebar": "Contents",
   "toc_cell": true,
   "toc_position": {
    "height": "652px",
    "left": "0px",
    "right": "1041px",
    "top": "107px",
    "width": "294px"
   },
   "toc_section_display": "block",
   "toc_window_display": true
  }
 },
 "nbformat": 4,
 "nbformat_minor": 4
}
