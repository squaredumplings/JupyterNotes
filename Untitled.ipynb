{
 "cells": [
  {
   "cell_type": "code",
   "execution_count": 1,
   "id": "4105fd33",
   "metadata": {},
   "outputs": [
    {
     "name": "stdout",
     "output_type": "stream",
     "text": [
      "aaaauuuuugggghhaaaa\n"
     ]
    }
   ],
   "source": [
    "print(\"aaaauuuuugggghhaaaa\")"
   ]
  },
  {
   "cell_type": "code",
   "execution_count": 2,
   "id": "1d1525ae",
   "metadata": {},
   "outputs": [
    {
     "name": "stdout",
     "output_type": "stream",
     "text": [
      "Ari is the prettiest\n"
     ]
    }
   ],
   "source": [
    "print(\"Ari is the prettiest\")"
   ]
  },
  {
   "cell_type": "markdown",
   "id": "fc462ec4",
   "metadata": {},
   "source": [
    "$$\\frac{1}{a_2}$$"
   ]
  },
  {
   "cell_type": "markdown",
   "id": "2906dedc",
   "metadata": {},
   "source": []
  }
 ],
 "metadata": {
  "kernelspec": {
   "display_name": "Python 3 (ipykernel)",
   "language": "python",
   "name": "python3"
  },
  "language_info": {
   "codemirror_mode": {
    "name": "ipython",
    "version": 3
   },
   "file_extension": ".py",
   "mimetype": "text/x-python",
   "name": "python",
   "nbconvert_exporter": "python",
   "pygments_lexer": "ipython3",
   "version": "3.10.9"
  }
 },
 "nbformat": 4,
 "nbformat_minor": 5
}
