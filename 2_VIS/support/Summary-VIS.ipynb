{
 "cells": [
  {
   "cell_type": "markdown",
   "metadata": {},
   "source": [
    "# Summary of VIS\n",
    "\n",
    "This notebook contains a list of Python methods that were introduced in the VIS programming exercises.\n",
    "\n",
    "### Import the libraries"
   ]
  },
  {
   "cell_type": "code",
   "execution_count": null,
   "metadata": {},
   "outputs": [],
   "source": [
    "import numpy as np\n",
    "import pandas as pd\n",
    "\n",
    "# next command ensures that plots appear inside the notebook\n",
    "%matplotlib inline\n",
    "import matplotlib as mpl\n",
    "import matplotlib.pyplot as plt\n",
    "import seaborn as sns  # also improves the look of plots\n",
    "sns.set()  # set Seaborn defaults\n",
    "plt.rcParams['figure.figsize'] = 10, 5  # default hor./vert. size of plots, in inches\n",
    "plt.rcParams['lines.markeredgewidth'] = 1  # to fix issue with seaborn box plots; needed after import seaborn"
   ]
  },
  {
   "cell_type": "code",
   "execution_count": null,
   "metadata": {},
   "outputs": [],
   "source": [
    "df_stocks = pd.read_csv('../datasets/stocks-monthly.csv',parse_dates=[0]).set_index('Date')"
   ]
  },
  {
   "cell_type": "markdown",
   "metadata": {},
   "source": [
    "## A simple plot"
   ]
  },
  {
   "cell_type": "code",
   "execution_count": null,
   "metadata": {},
   "outputs": [],
   "source": [
    "df_stocks['NASDAQ'].plot();"
   ]
  },
  {
   "cell_type": "markdown",
   "metadata": {},
   "source": [
    "## Title, axis labels, legend\n"
   ]
  },
  {
   "cell_type": "code",
   "execution_count": null,
   "metadata": {},
   "outputs": [],
   "source": [
    "ax_nasdaq = df_stocks['NASDAQ'].plot()\n",
    "ax_nasdaq.set_title(\"Development of NASDAQ Composite index\", size=16, weight='bold')\n",
    "ax_nasdaq.set_xlabel('Date')\n",
    "ax_nasdaq.set_ylabel(\"Index\")\n",
    "ax_nasdaq.legend(['NASDAQ']);"
   ]
  },
  {
   "cell_type": "markdown",
   "metadata": {},
   "source": [
    "## Saving a plot\n"
   ]
  },
  {
   "cell_type": "code",
   "execution_count": null,
   "metadata": {},
   "outputs": [],
   "source": [
    "ax_nasdaq.get_figure().savefig('NASDAQ-composite.png')"
   ]
  },
  {
   "cell_type": "markdown",
   "metadata": {},
   "source": [
    "## Line styles, colors, marker styles\n",
    "### Line styles\n"
   ]
  },
  {
   "cell_type": "code",
   "execution_count": null,
   "metadata": {},
   "outputs": [],
   "source": [
    "mpl.lines.lineStyles"
   ]
  },
  {
   "cell_type": "code",
   "execution_count": null,
   "metadata": {},
   "outputs": [],
   "source": [
    "ax_nasdaq = df_stocks['NASDAQ'].plot(linestyle=':')"
   ]
  },
  {
   "cell_type": "markdown",
   "metadata": {},
   "source": [
    "### Marker styles\n"
   ]
  },
  {
   "cell_type": "code",
   "execution_count": null,
   "metadata": {},
   "outputs": [],
   "source": [
    "mpl.markers.MarkerStyle.markers"
   ]
  },
  {
   "cell_type": "code",
   "execution_count": null,
   "metadata": {},
   "outputs": [],
   "source": [
    "ax_nasdaq = df_stocks['NASDAQ'].plot( marker='8' )"
   ]
  },
  {
   "cell_type": "markdown",
   "metadata": {},
   "source": [
    "### Colors\n"
   ]
  },
  {
   "cell_type": "code",
   "execution_count": null,
   "metadata": {},
   "outputs": [],
   "source": [
    "mpl.colors.BASE_COLORS"
   ]
  },
  {
   "cell_type": "code",
   "execution_count": null,
   "metadata": {},
   "outputs": [],
   "source": [
    "ax_nasdaq = df_stocks['NASDAQ'].plot(color=\"r\")"
   ]
  },
  {
   "cell_type": "code",
   "execution_count": null,
   "metadata": {},
   "outputs": [],
   "source": [
    "mpl.colors.cnames"
   ]
  },
  {
   "cell_type": "markdown",
   "metadata": {},
   "source": [
    "## Plot range limits and plot size\n"
   ]
  },
  {
   "cell_type": "code",
   "execution_count": null,
   "metadata": {},
   "outputs": [],
   "source": [
    "ax_nasdaq = df_stocks['NASDAQ'].plot(figsize=(16,9))\n",
    "ax_nasdaq.tick_params(labelsize=14)\n",
    "ax_nasdaq.set_ylim(4000,6000)\n",
    "ax_nasdaq.set_xlim('2015-01-01', '2016-12-31');"
   ]
  },
  {
   "cell_type": "markdown",
   "metadata": {},
   "source": [
    "## Text and annotation\n"
   ]
  },
  {
   "cell_type": "code",
   "execution_count": null,
   "metadata": {},
   "outputs": [],
   "source": [
    "ax = df_stocks['NASDAQ'].plot(figsize=(9,6))\n",
    "ax.set_ylim(0,8000)\n",
    "ax.set_xlim('2007-01-01', '2018-01-01');  # limit the x-range\n",
    "\n",
    "ax.text('2015-01-01', 6500, 'Where is this going?')  # add text; can use LaTeX; needs doubled backslashes\n",
    "arrow = {'facecolor':'black', 'width':2, 'shrink':0.05}  # arrow properties\n",
    "ax.annotate('Bankruptcy of Lehman Brothers', xy=('2008-09-15',2400), xytext=('2009-06-06',3500), arrowprops=arrow);  # add annotation"
   ]
  },
  {
   "cell_type": "markdown",
   "metadata": {},
   "source": [
    "## Combining multiple plots\n"
   ]
  },
  {
   "cell_type": "markdown",
   "metadata": {},
   "source": [
    "### Superimposing\n"
   ]
  },
  {
   "cell_type": "code",
   "execution_count": null,
   "metadata": {},
   "outputs": [],
   "source": [
    "ax_combined = df_stocks['GOOG'].plot()\n",
    "df_stocks['AMZN'].plot(ax=ax_combined)\n",
    "ax_combined.legend(['GOOG', 'AMZN']);"
   ]
  },
  {
   "cell_type": "markdown",
   "metadata": {},
   "source": [
    "### Juxtaposition (subplots)\n"
   ]
  },
  {
   "cell_type": "code",
   "execution_count": null,
   "metadata": {},
   "outputs": [],
   "source": [
    "fig, ax = plt.subplots(nrows=2, ncols=2, squeeze=False, sharex=True, figsize=(10,10))\n",
    "df_stocks['NASDAQ'].plot(ax=ax[0, 0])\n",
    "df_stocks['AMZN'].plot(ax=ax[0, 1])\n",
    "df_stocks['GOOG'].plot(ax=ax[1, 0])\n",
    "df_stocks['MSFT'].plot(ax=ax[1, 1]);\n",
    "ax[0, 0].set_title('NASDAQ')\n",
    "ax[0, 1].set_title('AMZN')\n",
    "ax[1, 0].set_title('GOOG')\n",
    "ax[1, 1].set_title('MSFT')\n",
    "ax[0, 0].set_ylabel('Price (USD)')\n",
    "ax[1, 0].set_ylabel('Price (USD)')\n",
    "fig.suptitle(\"Development of stocks over time\", size=18, weight='bold');"
   ]
  },
  {
   "cell_type": "markdown",
   "metadata": {},
   "source": [
    "## Scatter plots\n",
    "### Scatter matrix\n"
   ]
  },
  {
   "cell_type": "code",
   "execution_count": null,
   "metadata": {},
   "outputs": [],
   "source": [
    "df_sd = pd.DataFrame(((x, v, c, e, not c)\n",
    "                      for c in (False, True)\n",
    "                      for x in np.random.sample(5000 if c else 20000)\n",
    "                      for e in np.random.sample(1)\n",
    "                      for v in [x**3 + (e-0.5)/10 if c else x + (e - 0.8)*0.7]\n",
    "                      if 0 <= v < 1),\n",
    "                     columns=list('abcef'))"
   ]
  },
  {
   "cell_type": "code",
   "execution_count": null,
   "metadata": {},
   "outputs": [],
   "source": [
    "# scatter matrix for pairs of colums 'a', 'b', and 'e'\n",
    "pd.plotting.scatter_matrix(df_sd[['a', 'b', 'e']], diagonal='density', figsize=(10,10));"
   ]
  },
  {
   "cell_type": "markdown",
   "metadata": {},
   "source": [
    "### Transparency (alpha setting), point size\n"
   ]
  },
  {
   "cell_type": "code",
   "execution_count": null,
   "metadata": {},
   "outputs": [],
   "source": [
    "# effect of alpha (transparency: 0 = transparent; 1 = opaque)\n",
    "fig, ax = plt.subplots(ncols=2, sharey=True)\n",
    "df_sd.plot(kind='scatter', x='a', y='b', c='blue', alpha=1, ax=ax[0])  # too high\n",
    "df_sd.plot(kind='scatter', x='a', y='b', c='blue', alpha=0.005, ax=ax[1]);  # a bit low"
   ]
  },
  {
   "cell_type": "code",
   "execution_count": null,
   "metadata": {},
   "outputs": [],
   "source": [
    "# effect of size (s=)\n",
    "fig, ax = plt.subplots(ncols=2, sharey=True, figsize=(11, 5))\n",
    "df_sd.plot(kind='scatter', x='a', y='b', c='blue', s=10, ax=ax[0])  # too high\n",
    "df_sd.plot(kind='scatter', x='a', y='b', c='blue', s=.01, ax=ax[1]);  # a bit low"
   ]
  },
  {
   "cell_type": "markdown",
   "metadata": {},
   "source": [
    "### Modulating dot color or size\n"
   ]
  },
  {
   "cell_type": "code",
   "execution_count": null,
   "metadata": {},
   "outputs": [],
   "source": [
    "# modulate color (c=) by value in column 'e'\n",
    "df_sd.plot(kind='scatter', x='a', y='b', c='e', figsize=(6,5));"
   ]
  },
  {
   "cell_type": "markdown",
   "metadata": {},
   "source": [
    "## Plotting grouped data\n"
   ]
  },
  {
   "cell_type": "code",
   "execution_count": null,
   "metadata": {},
   "outputs": [],
   "source": [
    "ax = df_sd.groupby('c').plot(kind='scatter', x='a', y='b', c=\"blue\", figsize=(6, 5))\n",
    "ax[0].set_title('c is False', size=16)\n",
    "ax[1].set_title('c is True' , size=16);"
   ]
  },
  {
   "cell_type": "code",
   "execution_count": null,
   "metadata": {},
   "outputs": [],
   "source": [
    "colors = {True: \"k\", False: \"r\"}"
   ]
  },
  {
   "cell_type": "code",
   "execution_count": null,
   "metadata": {},
   "outputs": [],
   "source": [
    "fig, ax = plt.subplots(figsize=(6, 5))\n",
    "for name, group in df_sd.groupby('c'):\n",
    "    group.plot(kind='scatter', x='a', y='b', c=colors[name], ax=ax)"
   ]
  },
  {
   "cell_type": "markdown",
   "metadata": {},
   "source": [
    "# Seaborn and Pandas"
   ]
  },
  {
   "cell_type": "code",
   "execution_count": null,
   "metadata": {},
   "outputs": [],
   "source": [
    "iris = pd.read_csv('../datasets/iris.csv')\n",
    "iris1 = iris[iris['species'] == 'Iris-setosa']\n",
    "iris2 = iris[iris['species'] == 'Iris-versicolor']\n",
    "iris3 = iris[iris['species'] == 'Iris-virginica']\n",
    "iris2 = iris2.reset_index(drop=True)\n",
    "iris3 = iris3.reset_index(drop=True)"
   ]
  },
  {
   "cell_type": "markdown",
   "metadata": {},
   "source": [
    "### Histogram and density plot\n"
   ]
  },
  {
   "cell_type": "code",
   "execution_count": null,
   "metadata": {},
   "outputs": [],
   "source": [
    "sns.distplot(iris['petal length']);"
   ]
  },
  {
   "cell_type": "code",
   "execution_count": null,
   "metadata": {},
   "outputs": [],
   "source": [
    "sns.distplot(iris[['petal length']]);"
   ]
  },
  {
   "cell_type": "code",
   "execution_count": null,
   "metadata": {},
   "outputs": [],
   "source": [
    "sns.distplot(iris[['petal length']], kde=False);"
   ]
  },
  {
   "cell_type": "code",
   "execution_count": null,
   "metadata": {},
   "outputs": [],
   "source": [
    "sns.distplot(iris[['petal length']], hist=False);"
   ]
  },
  {
   "cell_type": "markdown",
   "metadata": {},
   "source": [
    "## Strip plot\n"
   ]
  },
  {
   "cell_type": "code",
   "execution_count": null,
   "metadata": {},
   "outputs": [],
   "source": [
    "sns.stripplot(data=iris, x='species', y='petal length', jitter=True);"
   ]
  },
  {
   "cell_type": "markdown",
   "metadata": {},
   "source": [
    "## Violin plot\n"
   ]
  },
  {
   "cell_type": "code",
   "execution_count": null,
   "metadata": {},
   "outputs": [],
   "source": [
    "sns.violinplot(data=iris, x='species', y='petal length');"
   ]
  },
  {
   "cell_type": "markdown",
   "metadata": {},
   "source": [
    "## Heat map\n"
   ]
  },
  {
   "cell_type": "code",
   "execution_count": null,
   "metadata": {},
   "outputs": [],
   "source": [
    "levels = [\"tiny\", \"small\", \"medium\", \"big\", \"large\"]\n",
    "iris[\"petal width level\"] = pd.cut(iris[\"petal width\"], len(levels), labels=levels)\n",
    "iris[\"petal length level\"] = pd.cut(iris[\"petal length\"], len(levels), labels=levels)\n",
    "iris_grouped = iris.groupby([\"petal width level\", \"petal length level\"]).count()\n",
    "iris_grouped[\"count\"] = iris_grouped[\"species\"].fillna(0)\n",
    "iris_matrix = iris_grouped[\"count\"].unstack()"
   ]
  },
  {
   "cell_type": "code",
   "execution_count": null,
   "metadata": {
    "scrolled": true
   },
   "outputs": [],
   "source": [
    "sns.heatmap(iris_matrix, square=True);"
   ]
  },
  {
   "cell_type": "code",
   "execution_count": null,
   "metadata": {},
   "outputs": [],
   "source": []
  }
 ],
 "metadata": {
  "kernelspec": {
   "display_name": "Python 3",
   "language": "python",
   "name": "python3"
  },
  "language_info": {
   "codemirror_mode": {
    "name": "ipython",
    "version": 3
   },
   "file_extension": ".py",
   "mimetype": "text/x-python",
   "name": "python",
   "nbconvert_exporter": "python",
   "pygments_lexer": "ipython3",
   "version": "3.7.7"
  },
  "toc": {
   "base_numbering": 1,
   "nav_menu": {
    "height": "174px",
    "width": "252px"
   },
   "number_sections": false,
   "sideBar": true,
   "skip_h1_title": false,
   "title_cell": "Table of Contents",
   "title_sidebar": "Contents",
   "toc_cell": false,
   "toc_position": {
    "height": "684px",
    "left": "0px",
    "right": "989px",
    "top": "107px",
    "width": "202px"
   },
   "toc_section_display": "block",
   "toc_window_display": true
  }
 },
 "nbformat": 4,
 "nbformat_minor": 2
}
