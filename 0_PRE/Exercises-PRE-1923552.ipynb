{
 "cells": [
  {
   "cell_type": "markdown",
   "metadata": {},
   "source": [
    "# Programming Lesson and Exercises - PRE\n",
    "\n",
    "The goal of these exercises is to teach you the use of _Python 3_ in the context of _Data Analytics_. These programming lessons do not require prior programming experience. If you do have experience with programming in Python then you may find some exercises rather easy, so consider them as a refresher.\n",
    "\n",
    "\n",
    "This notebook has the following structure:\n",
    "\n",
    "- The first part introduces the concepts for this week. The theory is interleaved with small exercises, which have the goal of letting you practice the concepts that were just intruduced.\n",
    "- At the end there are one or more larger exercises, which have the goal to test what you have learned earlier. These will be more difficult and will require more independent work than the exercises in the first part.\n",
    "\n",
    "All exercises can be solved with the concepts that were introduced earlier. Since there are often more than one correct way to solve a programming problem, we try to accept various correct anwers. However, many of the automatic tests in Momotor (see _How to submit your work_ below) assume that your answers are constructed using the concepts introduced in these notebooks. If you look for answers on the Internet (e.g. if you import other libraries) you run the risk that your answers will be rejected.\n",
    "\n",
    "Some of the small exercises can be solved by copy-pasting code from the examples. However, it is up to you to try to solve the exercises yourself, which will help you learn, before copy-pasting the answers. The ease of looking up answers is meant to provide guidance when you get stuck, especially for those of you who are new to programming.\n",
    "\n",
    "For your convenience, in the `support` directory you will find a summary of the Python methods introduced in this notebook.\n",
    "\n",
    "\n",
    "<div class=\"alert-info alert\" role=\"alert-info\">\n",
    "    Make sure you have completed the \"Getting Started\" assignment on Canvas and submitted the <code>verify-tools-template.ipynb</code> notebook, before you continue with these exercises.\n",
    "    While you read this notebook, execute all code cells in linear order from the beginning.\n",
    "</div>"
   ]
  },
  {
   "cell_type": "markdown",
   "metadata": {},
   "source": [
    "\n",
    "# Introduction to This Template Notebook\n",
    "\n",
    "* This is a **personal** notebook.\n",
    "* Make sure you work in a **copy** of `...-template.ipynb`,\n",
    "**renamed** to `...-yourIDnr.ipynb`,\n",
    "where `yourIDnr` is your TU/e identification number.\n",
    "\n",
    "<div class=\"alert alert-danger\" role=\"danger\">\n",
    "<h3>Integrity</h3>\n",
    "<ul>\n",
    "    <li>In this course you must act according to the rules of the TU/e code of scientific conduct.</li>\n",
    "    <li>All the exercises and the graded assignments are to be executed individually and independently.</li>\n",
    "    <li>You must not copy from the Internet, your friends, books... If you represent other people's work as your own, then that constitutes fraud and will be reported to the Examination Committee.</li>\n",
    "    <li>Making your work available to others (complicity) also constitutes fraud.</li>\n",
    "</ul>\n",
    "</div>\n",
    "\n",
    "You are expected to work with Python code in this notebook.\n",
    "\n",
    "The locations where you should write your solutions can be recognized by\n",
    "**marker lines**,\n",
    "which look like this:\n",
    "\n",
    ">`#//`\n",
    ">    `BEGIN_TODO [Label]` `Description` `(n points)`\n",
    ">\n",
    ">`#//`\n",
    ">    `END_TODO [Label]`\n",
    "\n",
    "<div class=\"alert alert-warning\" role=\"alert\">Do NOT modify or delete these marker lines.  Keep them as they are.<br/>\n",
    "NEVER write code <i>outside</i> the marked blocks.\n",
    "Such code cannot be evaluated.\n",
    "</div>\n",
    "\n",
    "Proceed in this notebook as follows:\n",
    "* **Read** the text.\n",
    "* **Fill in** your solutions between `BEGIN_TODO` and `END_TODO` marker lines.\n",
    "* **Run** _all_ code cells (also the ones _without_ your code),\n",
    "    _in linear order_ from the first code cell.\n",
    "\n",
    "**Personalize your notebook**:\n",
    "1. Copy the following three lines of code:\n",
    "\n",
    "  ```python\n",
    "  AUTHOR_NAME = 'Your Full Name'\n",
    "  AUTHOR_ID_NR = '1234567'\n",
    "  AUTHOR_DATE = 'YYYY-MM-DD'\n",
    "  ```\n",
    "1. Paste them between the marker lines in the next code cell.\n",
    "1. Fill in your _full name_, _identification number_, and the current _date_ (i.e. when you first modified this notebook, e.g. '2023-11-01') as strings between the `Author` markers.\n",
    "1. Run the code cell by putting the cursor there and typing **Control-Enter**.\n"
   ]
  },
  {
   "cell_type": "code",
   "execution_count": 2,
   "metadata": {},
   "outputs": [],
   "source": [
    "#// BEGIN_TODO [Author] Name, Id.nr., Date, as strings (1 point)\n",
    "\n",
    "AUTHOR_NAME = 'Mihnea Buzoiu'\n",
    "AUTHOR_ID_NR = '1923552'\n",
    "AUTHOR_DATE = '2023-11-15'\n",
    "\n",
    "#// END_TODO [Author]"
   ]
  },
  {
   "cell_type": "markdown",
   "metadata": {},
   "source": [
    "## Table of Contents\n",
    "\n",
    "- [Learning Objectives](#Learning-Objectives)\n",
    "- [Other Resources for Learning Python](#Other-Resources-for-Learning-Python)\n",
    "- [1. Programming in Python](#1.-Programming-in-Python) \n",
    "  - [Syntax vs. Semantics](#Syntax-vs.-Semantics)\n",
    "- [2. Data Types](#2.-Data-Types)\n",
    "- [3. Data Values](#3.-Data-Values)\n",
    "- [4. Expressions](#4.-Expressions) \n",
    "  - [Arithmetic Operators](#Arithmetic-Operators) \n",
    "  - [String Operators](#String-Operators) \n",
    "    - [Exercise 4.a](#Exercise-4.a)\n",
    "    - [Exercise 4.b](#Exercise-4.b)\n",
    "    - [Exercise 4.c](#Exercise-4.c)\n",
    "    - [Exercise 4.d](#Exercise-4.d)\n",
    "    - [Exercise 4.e](#Exercise-4.e)\n",
    "- [5. Variables and Assignments](#5.-Variables-and-Assignments) \n",
    "  - [Exercise 5.a](#Exercise-5.a)\n",
    "  - [Type of a Variable or Expression](#Type-of-a-Variable-or-Expression) \n",
    "    - [Exercise 5.b](#Exercise-5.b)\n",
    "    - [Exercise 5.c](#Exercise-5.c)\n",
    "- [6. More Expressions](#6.-More-Expressions) \n",
    "  - [Comparison Operators](#Comparison-Operators) \n",
    "    - [Exercise 6.a](#Exercise-6.a)\n",
    "    - [Exercise 6.b](#Exercise-6.b)\n",
    "    - [Exercise 6.c](#Exercise-6.c)\n",
    "    - [Exercise 6.d](#Exercise-6.d)\n",
    "  - [Logical Operators](#Logical-Operators)\n",
    "    - [Exercise 6.e](#Exercise-6.e)\n",
    "- [7. Lists](#7.-Lists) \n",
    "  - [List Construction](#List-Construction)\n",
    "    - [Exercise 7.a](#Exercise-7.a)\n",
    "  - [List Comprehensions](#List-Comprehensions)\n",
    "    - [Exercise 7.b](#Exercise-7.b)\n",
    "    - [Exercise 7.c](#Exercise-7.c)\n",
    "  - [Sequence Membership](#Sequence-Membership)\n",
    "    - [Exercise 7.d](#Exercise-7.d)\n",
    "  - [Indexing a Sequence](#Indexing-a-Sequence)\n",
    "    - [Exercise 7.e](#Exercise-7.e)\n",
    "    - [Exercise 7.f](#Exercise-7.f)\n",
    "    - [Exercise 7.g](#Exercise-7.g)\n",
    "  - [Slicing a Sequence](#Slicing-a-Sequence)\n",
    "    - [Exercise 7.h](#Exercise-7.h)\n",
    "    - [Exercise 7.i](#Exercise-7.i)\n",
    "    - [Exercise 7.j](#Exercise-7.j)\n",
    "  - [Adding Elements to a List](#Adding-Elements-to-a-List)\n",
    "  - [Changing List Elements](#Changing-List-Elements)\n",
    "    - [Exercise 7.k](#Exercise-7.k)\n",
    "    - [Exercise 7.l](#Exercise-7.l)\n",
    "- [8. Dictionaries](#8.-Dictionaries) \n",
    "  - [Dictionary Membership](#Dictionary-Membership) \n",
    "    - [Exercise 8.a](#Exercise-8.a)\n",
    "  - [Indexing a Dictionary](#Indexing-a-Dictionary)\n",
    "    - [Exercise 8.b](#Exercise-8.b)\n",
    "    - [Exercise 8.c](#Exercise-8.c)\n",
    "  - [Adding and Changing Dictionary Values](#Adding-and-Changing-Dictionary-Values) \n",
    "    - [Exercise 8.d](#Exercise-8.d)\n",
    "- [9. Function Calls](#9.-Function-Calls)\n",
    "- [10. If Statement](#10.-If-Statement) \n",
    "  - [Exercise 10.a](#Exercise-10.a)\n",
    "- [11. For Loop](#11.-For-Loop) \n",
    "  - [Exercise 11.a](#Exercise-11.a)\n",
    "  - [Exercise 11.b](#Exercise-11.b)\n",
    "- [12. Comments for Documentation](#12.-Comments-for-Documentation) \n",
    "  - [Exercise 12.a](#Exercise-12.a)\n",
    "- [13. Errors](#13.-Errors)\n",
    "- [14. Python Best Practices](#14.-Python-Best-Practices)\n",
    "- [15. Exercise: Exam Grades](#15.-Exercise:-Exam-Grades) \n",
    "  - [Exercise 15.a](#Exercise-15.a)\n",
    "  - [Exercise 15.b](#Exercise-15.b)\n",
    "  - [Exercise 15.c](#Exercise-15.c)\n",
    "  - [Exercise 15.d](#Exercise-15.d)\n",
    "  - [Exercise 15.e](#Exercise-15.e)\n",
    "  - [Exercise 15.f](#Exercise-15.f)\n"
   ]
  },
  {
   "cell_type": "markdown",
   "metadata": {},
   "source": [
    "--- \n",
    "# Learning Objectives\n",
    "\n",
    "After this lesson, you should\n",
    "\n",
    "* Know the basic **data types** of Python, and the **literals** to denote data values.\n",
    "* Know how to use **expressions** and **variables** to work with data.\n",
    "* Know how to use **lists** and **dictionaries**.\n",
    "* Know how to call **functions**.\n",
    "* Know how to use the **if statement** and the **for loop**.\n",
    "* Know how **comments** are used in Python.\n",
    "* Know some simple **error diagnosis** techniques."
   ]
  },
  {
   "cell_type": "markdown",
   "metadata": {},
   "source": [
    "# Other Resources for Learning Python\n",
    "\n",
    "In this lesson, we introduce the basic ingredients for programming in Python. We have selected a small number of key features to prepare you for the rest of this course.\n",
    "\n",
    "However, this lesson cannot and will not cover all details. Sometimes you may want to consult other information sources:\n",
    "    \n",
    "* _A Whirlwind Tour of Python_ by Jake VanderPlas   \n",
    "   The entire book is available as PDF and as a collection of (linked) notebooks:  \n",
    "    https://github.com/jakevdp/WhirlwindTourOfPython/\n",
    "\n",
    "* _Python Data Science Handbook_ by Jake VanderPlas   \n",
    "   If you are interested in a more in depth view on what we do in this course, the book is available at   \n",
    "    https://jakevdp.github.io/PythonDataScienceHandbook/"
   ]
  },
  {
   "cell_type": "markdown",
   "metadata": {},
   "source": [
    "## 1. Programming in Python\n",
    "\n",
    "A program is a precise description of how to manipulate data. Just like a recipe for cooking a dish, a program consists of a sequence of instructions that precisely describe to a machine the steps it should perform in order to achieve a certain goal. The basic instructions to manipulate data include instructions to:\n",
    "\n",
    "* **input** data from the external world\n",
    "    (e.g., the keyboard, coordinates of a mouse click, a sensor, a file in external memory);\n",
    "* **store** data in internal memory\n",
    "    (typically, associating a name with it for later reference;\n",
    "    also known as a **variable**);\n",
    "* **process** data by applying a formula, also known as an **expression**\n",
    "    (e.g. combining it with other data, such as adding two numbers);\n",
    "* **retrieve** data from internal memory\n",
    "    (e.g. to use it in an expression);\n",
    "* **output** data to the external world\n",
    "    (e.g. show it on the screen, print it on paper, set the speed of a motor, write it to an external file).\n",
    "    \n",
    "A program can be executed, by performing the instructions in the program text.\n",
    "This is called program **execution**. Executing a program is also referred to as **running a program**. During execution, the stored data can change over time.\n",
    "\n",
    "### Syntax vs. Semantics\n",
    "\n",
    "The syntax describes how a program is written, while the semantics describes what a program does. In other words,\n",
    "\n",
    "* **syntax** or **form** (shape, structure)\n",
    "    defines what texts constitute valid programs\n",
    "    and what texts do not;\n",
    "    that is, it defines what valid programs _look_ like;\n",
    "    what form they take on;\n",
    "\n",
    "* **semantics** or **meaning**\n",
    "    defines for each valid program\n",
    "    what computation it expresses;\n",
    "    that is, how it _behaves_ when executed;\n",
    "    what its computational _meaning_ is.\n",
    "    \n",
    "This is similar to natural languages like English, where the syntax defines the spelling and grammar, and the semantics defines the meaning of words and sentences."
   ]
  },
  {
   "cell_type": "markdown",
   "metadata": {},
   "source": [
    "## 2. Data Types\n",
    "\n",
    "The Python programming language provides support for the following **primitive data types**:\n",
    "\n",
    "* **integers** (whole numbers), named **`int`**\n",
    "* **floating-point numbers** (as approximations of real numbers), named **`float`**\n",
    "* **booleans** (truth values for use in logical expressions), named **`bool`**\n",
    "* **strings** (texts or character sequences), named **`str`**\n",
    "\n",
    "And Python supports **composite data types**\n",
    "that combine values from (primitive and/or composite) data types into\n",
    "composite data values.\n",
    "An important composite data type in Python is:\n",
    "\n",
    "* **lists** (sequences of values from other types, including lists), named **`list`**\n",
    "\n",
    "> Note that Python treats strings as a primitive data type;\n",
    "> it does not have a separate data type for\n",
    ">\n",
    "> * **characters** (textual symbols)\n",
    ">\n",
    "> In Python, one just uses strings of length one as loose characters."
   ]
  },
  {
   "cell_type": "markdown",
   "metadata": {},
   "source": [
    "## 3. Data Values\n",
    "\n",
    "To refer to a specific value *in Python code*,\n",
    "you can write a **literal** to represent that value.\n",
    "There are many rules that govern the notation for such literals,\n",
    "but in most cases, the notation is straightforward.\n",
    "Here are some examples.\n",
    "\n",
    "* integers:\n",
    "    &nbsp; `0` &nbsp;&nbsp; `1` &nbsp;&nbsp; `2` &nbsp;&nbsp; `10` &nbsp;&nbsp; `256` &nbsp;&nbsp; `-1`\n",
    "* floating-point numbers:\n",
    "    &nbsp; `0.0` &nbsp;&nbsp; `3.1416` &nbsp;&nbsp; `6.0221e23` &nbsp;&nbsp; `-1.6022e-19`\n",
    "* booleans:\n",
    "    &nbsp; `False` &nbsp;&nbsp; `True`\n",
    "* strings:\n",
    "    &nbsp; `''` &nbsp;&nbsp; `'a'` &nbsp;&nbsp;\n",
    "    `'Data Analytics'` &nbsp;&nbsp; `\"double quotes\"` &nbsp;&nbsp; `'single quotes'`\n",
    "\n",
    "The characters in a string literal are enclosed by matching *single* or *double* quotes.\n",
    "\n",
    "Sometimes we want to include _special characters_ in a string, e.g. a single quote (as in \"John's house\") or a new line. In strings, a **backslash** is used as the _escape_ character to denote special characters:\n",
    "\n",
    "* `\\n` is a _newline_ character;\n",
    "* `\\'` is a single quote character (no backslash needed between double quotes);\n",
    "* `\\\"` is a double quote character (no backslash needed between single quotes);\n",
    "* `\\\\` is a backslash character.\n",
    "\n",
    "For example, the string \"John's house\" can be written as `'John\\'s house'` or `\"John's house\"`.\n",
    "\n",
    "And the string\n",
    "\n",
    "\"a<br>\n",
    "b<br>\n",
    "c\"\n",
    "\n",
    "can be written as `'a\\nb\\nc'`."
   ]
  },
  {
   "cell_type": "markdown",
   "metadata": {},
   "source": [
    "## 4. Expressions\n",
    "\n",
    "An alternative to using a _literal_ for denoting a value\n",
    "is to _compute_ the desired value\n",
    "through a program fragment,\n",
    "in particular, through an **expression**.\n",
    "Such expressions can involve literals, **operators**,\n",
    "**variables**, and/or **function calls** (explained below).\n",
    "\n",
    "For instance, here is _one thousand and one_ written as `int` literal:"
   ]
  },
  {
   "cell_type": "code",
   "execution_count": 3,
   "metadata": {},
   "outputs": [
    {
     "data": {
      "text/plain": [
       "1001"
      ]
     },
     "execution_count": 3,
     "metadata": {},
     "output_type": "execute_result"
    }
   ],
   "source": [
    "1001"
   ]
  },
  {
   "cell_type": "markdown",
   "metadata": {},
   "source": [
    "And here is an expression\n",
    "that yields this same `int` value,\n",
    "using the addition operator `+`:"
   ]
  },
  {
   "cell_type": "code",
   "execution_count": 4,
   "metadata": {},
   "outputs": [
    {
     "data": {
      "text/plain": [
       "1001"
      ]
     },
     "execution_count": 4,
     "metadata": {},
     "output_type": "execute_result"
    }
   ],
   "source": [
    "1000 + 1"
   ]
  },
  {
   "cell_type": "markdown",
   "metadata": {},
   "source": [
    "Which values can be used with which operators depends on the types of the values involved.\n",
    "\n",
    "However, you can convert the value of one type to another type. For example, the line below converts the integer value `1001` to the string value `'1001'`:"
   ]
  },
  {
   "cell_type": "code",
   "execution_count": 5,
   "metadata": {},
   "outputs": [
    {
     "data": {
      "text/plain": [
       "'1001'"
      ]
     },
     "execution_count": 5,
     "metadata": {},
     "output_type": "execute_result"
    }
   ],
   "source": [
    "str(1001)"
   ]
  },
  {
   "cell_type": "markdown",
   "metadata": {},
   "source": [
    "Some operators are defined for different types. Their behavior depends on the type of involved values. For example, the `+` operator on string values represents string *concatenation* (joining two or more strings together)."
   ]
  },
  {
   "cell_type": "code",
   "execution_count": 6,
   "metadata": {},
   "outputs": [
    {
     "data": {
      "text/plain": [
       "'10012'"
      ]
     },
     "execution_count": 6,
     "metadata": {},
     "output_type": "execute_result"
    }
   ],
   "source": [
    "'1001' + '2'"
   ]
  },
  {
   "cell_type": "markdown",
   "metadata": {},
   "source": [
    "### Arithmetic Operators\n",
    "\n",
    "In Python, one can use the common **arithmetic operators** on\n",
    "integers and floating-point numbers:\n",
    "\n",
    "* `+` and `-` for addition and subtraction/negation\n",
    "* `*` and `/` for multiplication and division\n",
    "* `**` for exponentiation, e.g. `2**3` stands for $2^3$\n",
    "* `//` and `%` for integer division and remainder\n",
    "\n",
    "Notes:\n",
    "* The usual **binding precedences** apply.  \n",
    "    From strongest to weakest, the order is:\n",
    "\n",
    "    * exponentiation\n",
    "    * negation (unary minus) \n",
    "    * multiplication, division, and remainder\n",
    "    * addition and subtraction\n",
    "\n",
    "* Division using `/` always returns a `float` (also when the arguments are  of type `int`, e.g. `6/3` will result in `2.0` and not `2`).\n",
    "\n",
    "* Integer division `//` returns an `int`, rounding down the value (e.g. `100//101` will result in `0`).\n",
    "\n",
    "* Floating-point arithmetic is inherently not exact;\n",
    "    it has **limited precision** due to rounding. This topic is outside the scope of this course, see [Floating point arithmetic](https://en.wikipedia.org/wiki/Floating-point_arithmetic) for more details.\n",
    "    \n",
    "**Parentheses** are used for grouping regardless of binding precedence:"
   ]
  },
  {
   "cell_type": "code",
   "execution_count": 7,
   "metadata": {},
   "outputs": [
    {
     "data": {
      "text/plain": [
       "3"
      ]
     },
     "execution_count": 7,
     "metadata": {},
     "output_type": "execute_result"
    }
   ],
   "source": [
    "1 + 2 * 3 - 4"
   ]
  },
  {
   "cell_type": "code",
   "execution_count": 8,
   "metadata": {},
   "outputs": [
    {
     "data": {
      "text/plain": [
       "5"
      ]
     },
     "execution_count": 8,
     "metadata": {},
     "output_type": "execute_result"
    }
   ],
   "source": [
    "(1 + 2) * 3  - 4"
   ]
  },
  {
   "cell_type": "markdown",
   "metadata": {},
   "source": [
    "### String Operators\n",
    "\n",
    "The operators `+` and `*` can also be applied to strings,\n",
    "to **join** and **replicate** them: \n",
    "\n",
    "* `'abc' + \"xyz\"` equals `'abcxyz'`\n",
    "* `3 * 'ha'` and `'ha' * 3` and `'ha' + 'ha' + 'ha'` all equal `'hahaha'`"
   ]
  },
  {
   "cell_type": "markdown",
   "metadata": {},
   "source": [
    "#### Exercise 4.a\n",
    "\n",
    "Write an expression to evaluate the product of $1903$ and $22302$.\n",
    "\n",
    "> **Important:** write your answer between the `BEGIN_TODO` and `END_TODO` lines. This is required for all your answers, in all notebooks in this course!"
   ]
  },
  {
   "cell_type": "code",
   "execution_count": 109,
   "metadata": {},
   "outputs": [
    {
     "name": "stdout",
     "output_type": "stream",
     "text": [
      "42440706\n"
     ]
    }
   ],
   "source": [
    "#// BEGIN_TODO [PRE_4a] Product evaluation (1 point)\n",
    "\n",
    "1903 * 22302\n",
    "\n",
    "#// END_TODO [PRE_4a]"
   ]
  },
  {
   "cell_type": "markdown",
   "metadata": {},
   "source": [
    "#### Exercise 4.b\n",
    "\n",
    "Write **one** expression to evaluate the formula $N(N+1)/2$ for $N=100$;\n",
    "this gives the sum of the integers from 1 through 100.\n",
    "Make sure that the result is an **integer** and not a _floating-point number_.  \n",
    "\n",
    "> **Hint:** Use integer division."
   ]
  },
  {
   "cell_type": "code",
   "execution_count": 10,
   "metadata": {},
   "outputs": [
    {
     "name": "stdout",
     "output_type": "stream",
     "text": [
      "5050\n"
     ]
    }
   ],
   "source": [
    "#// BEGIN_TODO [PRE_4b] Sum of integers 1 through 100 (1 point)\n",
    "\n",
    "100*101//2\n",
    "\n",
    "#// END_TODO [PRE_4b]"
   ]
  },
  {
   "cell_type": "markdown",
   "metadata": {},
   "source": [
    "#### Exercise 4.c\n",
    "\n",
    "Write an expression to determine the last two digits of $2^{100}$, using the remainder operation.\n",
    "\n",
    "> **Hint:** The last two digits of a number <code>n</code> are the remainder after dividing that number by 100: `n % 100`."
   ]
  },
  {
   "cell_type": "code",
   "execution_count": 11,
   "metadata": {},
   "outputs": [
    {
     "name": "stdout",
     "output_type": "stream",
     "text": [
      "76\n"
     ]
    }
   ],
   "source": [
    "#// BEGIN_TODO [PRE_4c] Last two digits of 2 to the power 100 (1 point)\n",
    "\n",
    "2**100%100\n",
    "\n",
    "#// END_TODO [PRE_4c]"
   ]
  },
  {
   "cell_type": "markdown",
   "metadata": {},
   "source": [
    "#### Exercise 4.d\n",
    "\n",
    "Write _two_ **floating-point expressions** (*on one line, separated by a comma*) to compute\n",
    "\n",
    "* $1.0 + 10^{-16} + 10^{-16} + 10^{-16}$\n",
    "* $1.0 + \\left(10^{-16} + 10^{-16} + 10^{-16}\\right)$\n",
    "\n",
    "and observe the results.  What do you notice?\n",
    "\n",
    "> **Hints:**\n",
    "> - Use scientific notation with an `e`, where $X*10^Y$ is written as `XeY`, e.g. $10^{2}$ is written as `1e2`, $5*10^{-3}$ is written as `5e-3`.\n",
    "> - The expressions involve the same values and operators; they differ only in the order of evaluation.\n",
    "\n",
    "This illustrates one concern with floating-point arithmetic."
   ]
  },
  {
   "cell_type": "code",
   "execution_count": 12,
   "metadata": {},
   "outputs": [
    {
     "name": "stdout",
     "output_type": "stream",
     "text": [
      "1.0000000000000033\n",
      "1.000000000000003\n"
     ]
    }
   ],
   "source": [
    "#// BEGIN_TODO [PRE_4d] Two floating-point additions using different evaluation orders (1 point)\n",
    "\n",
    "1.0 + 10e-16 + 10e-16 + 10e-16, 1.0 + (10e-16 + 10e-16 + 10e-16)\n",
    "\n",
    "#// END_TODO [PRE_4d]"
   ]
  },
  {
   "cell_type": "markdown",
   "metadata": {},
   "source": [
    "#### Exercise 4.e\n",
    "\n",
    "Write a **string expression** to construct the 80-character string consisting of\n",
    "ten minuses (`-`) followed by ten pluses (`+`), repeated four times. Use the `+` and `-` characters only once in the expression.\n",
    "\n",
    "> **Hint:** Use operators for joining and replicating strings; don't forget parentheses."
   ]
  },
  {
   "cell_type": "code",
   "execution_count": 13,
   "metadata": {},
   "outputs": [
    {
     "name": "stdout",
     "output_type": "stream",
     "text": [
      "----------++++++++++----------++++++++++----------++++++++++----------++++++++++\n"
     ]
    }
   ],
   "source": [
    "#// BEGIN_TODO [PRE_4e] Ten minuses followed by ten pluses, repeated four times (1 point)\n",
    "\n",
    "4 * (10 * '-' + 10 * '+')\n",
    "#// END_TODO [PRE_4e]"
   ]
  },
  {
   "cell_type": "markdown",
   "metadata": {},
   "source": [
    "## 5. Variables and Assignments\n",
    "\n",
    "A value can be given a name through an **assignment** with the syntax\n",
    "\n",
    "```python\n",
    "name = expression\n",
    "```\n",
    "\n",
    "where `name` is an **identifier**\n",
    "consisting of letters, digits, and/or underscores, *not starting with a digit*, for example:"
   ]
  },
  {
   "cell_type": "code",
   "execution_count": 14,
   "metadata": {},
   "outputs": [],
   "source": [
    "x = 2 * 7 + 5"
   ]
  },
  {
   "cell_type": "markdown",
   "metadata": {},
   "source": [
    "Such a name is also known as a **variable**.\n",
    "\n",
    "> **Note:** Some identifiers are _predefined_ and should not be used as variable names, e.g. you should never define a variable named `int` or `list`.\n",
    "\n",
    "At each moment during execution, a defined variable has one specific value. The value can be inspected by writing the variable name in the last row of a code cell."
   ]
  },
  {
   "cell_type": "code",
   "execution_count": 15,
   "metadata": {},
   "outputs": [
    {
     "data": {
      "text/plain": [
       "19"
      ]
     },
     "execution_count": 15,
     "metadata": {},
     "output_type": "execute_result"
    }
   ],
   "source": [
    "x"
   ]
  },
  {
   "cell_type": "markdown",
   "metadata": {},
   "source": [
    "Over time, the value of a variable can change, e.g., through assignment statements."
   ]
  },
  {
   "cell_type": "code",
   "execution_count": 16,
   "metadata": {},
   "outputs": [
    {
     "data": {
      "text/plain": [
       "6.2831852"
      ]
     },
     "execution_count": 16,
     "metadata": {},
     "output_type": "execute_result"
    }
   ],
   "source": [
    "x = 2 * 3.1415926\n",
    "x"
   ]
  },
  {
   "cell_type": "markdown",
   "metadata": {},
   "source": [
    "Variables can be used in expressions, and are replaced by their current value when the expression is evaluated."
   ]
  },
  {
   "cell_type": "code",
   "execution_count": 17,
   "metadata": {},
   "outputs": [
    {
     "data": {
      "text/plain": [
       "8.2831852"
      ]
     },
     "execution_count": 17,
     "metadata": {},
     "output_type": "execute_result"
    }
   ],
   "source": [
    "y = x + 2\n",
    "y"
   ]
  },
  {
   "cell_type": "markdown",
   "metadata": {},
   "source": [
    "The semantics of the assignment statement\n",
    "\n",
    "```python\n",
    "name = expression\n",
    "```\n",
    "\n",
    "is\n",
    "\n",
    "1. evaluate the expression;\n",
    "1. bind (assign) the resulting value as a new value to the named variable.\n",
    "\n",
    "> **Note**:\n",
    "> 1. `=` is not the same as the equality operator (Python uses `==` for that, see below).\n",
    "> 1. `=` is not symmetric: `v = expr` and `expr = v` are not the same thing\n",
    ">    (in fact, `expr = v` is often invalid syntax, e.g., `1 + 1 = v` makes no sense)."
   ]
  },
  {
   "cell_type": "markdown",
   "metadata": {},
   "source": [
    "#### Exercise 5.a\n",
    "\n",
    "Below we define variables `pi` and `r`, representing an approximation of the number $\\pi$ and the radius of a circle. Use these variables to compute the area of a circle with radius `r` and assign it to the variable `circle_area`."
   ]
  },
  {
   "cell_type": "code",
   "execution_count": 18,
   "metadata": {},
   "outputs": [
    {
     "data": {
      "text/plain": [
       "50.2654816"
      ]
     },
     "execution_count": 18,
     "metadata": {},
     "output_type": "execute_result"
    }
   ],
   "source": [
    "pi = 3.1415926\n",
    "r = 4\n",
    "\n",
    "#// BEGIN_TODO [PRE_5a] Circle area (1 point)\n",
    "\n",
    "circle_area = pi*r*r\n",
    "\n",
    "#// END_TODO [PRE_5a]\n",
    "\n",
    "circle_area"
   ]
  },
  {
   "cell_type": "markdown",
   "metadata": {},
   "source": [
    "### Type of a Variable or Expression"
   ]
  },
  {
   "cell_type": "markdown",
   "metadata": {},
   "source": [
    "The built-in function **`type(v)`** returns the type of a value `v`. For example, the type of a string value is `str`:"
   ]
  },
  {
   "cell_type": "code",
   "execution_count": 19,
   "metadata": {},
   "outputs": [
    {
     "data": {
      "text/plain": [
       "str"
      ]
     },
     "execution_count": 19,
     "metadata": {},
     "output_type": "execute_result"
    }
   ],
   "source": [
    "type('one thousand')"
   ]
  },
  {
   "cell_type": "markdown",
   "metadata": {},
   "source": [
    "and the type of an integer value is `int`:"
   ]
  },
  {
   "cell_type": "code",
   "execution_count": 20,
   "metadata": {},
   "outputs": [
    {
     "data": {
      "text/plain": [
       "int"
      ]
     },
     "execution_count": 20,
     "metadata": {},
     "output_type": "execute_result"
    }
   ],
   "source": [
    "type(1001)"
   ]
  },
  {
   "cell_type": "markdown",
   "metadata": {},
   "source": [
    "#### Exercise 5.b\n",
    "\n",
    "Using the built-in function `type()`,\n",
    "determine the type of the string literal `'100'`."
   ]
  },
  {
   "cell_type": "code",
   "execution_count": 21,
   "metadata": {},
   "outputs": [
    {
     "data": {
      "text/plain": [
       "str"
      ]
     },
     "execution_count": 21,
     "metadata": {},
     "output_type": "execute_result"
    }
   ],
   "source": [
    "#// BEGIN_TODO [PRE_5b] Type of '100' (1 point)\n",
    "\n",
    "a = '100'\n",
    "\n",
    "type(a)\n",
    "\n",
    "#// END_TODO [PRE_5b]"
   ]
  },
  {
   "cell_type": "markdown",
   "metadata": {},
   "source": [
    "#### Exercise 5.c\n",
    "\n",
    "Let us define a variable `x` equal to 3.1415926:"
   ]
  },
  {
   "cell_type": "code",
   "execution_count": 22,
   "metadata": {},
   "outputs": [],
   "source": [
    "x = 3.1415926"
   ]
  },
  {
   "cell_type": "markdown",
   "metadata": {},
   "source": [
    "Using the built-infunction `type()`, determine the type of variable x."
   ]
  },
  {
   "cell_type": "code",
   "execution_count": 23,
   "metadata": {},
   "outputs": [
    {
     "data": {
      "text/plain": [
       "float"
      ]
     },
     "execution_count": 23,
     "metadata": {},
     "output_type": "execute_result"
    }
   ],
   "source": [
    "#// BEGIN_TODO [PRE_5c] Type of a variable (1 point)\n",
    "\n",
    "type(x)\n",
    "\n",
    "#// END_TODO [PRE_5c]"
   ]
  },
  {
   "cell_type": "markdown",
   "metadata": {},
   "source": [
    "## 6. More Expressions\n",
    "\n",
    "### Comparison Operators\n",
    "\n",
    "**Comparison operators** yield boolean values (i.e. `True` or `False`):\n",
    "\n",
    "* `==` and `!=` for _equality_ and _inequality_ (`<>` cannot be used)\n",
    "* `<` and `>` for _less than_ and _greater than_\n",
    "* `<=` and `>=` for _less than or equal_ and _greater than or equal_ (`=<` and `=>` cannot be used)\n",
    "\n",
    "Notes:\n",
    "\n",
    "* Comparison operators apply to numbers, strings, and lists (but not to a mix).\n",
    "* Avoid equality operators on floating-point numbers.  \n",
    "    Reason: Floating-point arithmetic is inherently not exact.  \n",
    "    Thus, we have `0.1 + 0.2 != 0.3`.\n",
    "* For string comparison, the _lexicographic_ order is used.\n",
    "* Comparison operators can be **chained**: `expr_1 <= expr_2 < expr_3`"
   ]
  },
  {
   "cell_type": "markdown",
   "metadata": {},
   "source": [
    "#### Exercise 6.a\n",
    "\n",
    "Write a **comparison expression** to compare `1 + 2` and `3` for equality,\n",
    "and execute it.  "
   ]
  },
  {
   "cell_type": "code",
   "execution_count": 24,
   "metadata": {},
   "outputs": [
    {
     "data": {
      "text/plain": [
       "True"
      ]
     },
     "execution_count": 24,
     "metadata": {},
     "output_type": "execute_result"
    }
   ],
   "source": [
    "#// BEGIN_TODO [PRE_6a] Is 1 + 2 equal to 3? (1 point)\n",
    "\n",
    "1 + 2 == 3\n",
    "\n",
    "#// END_TODO [PRE_6a]"
   ]
  },
  {
   "cell_type": "markdown",
   "metadata": {},
   "source": [
    "#### Exercise 6.b\n",
    "\n",
    "Write a **comparison expression** to compare `0.1 + 0.2` and `0.3` for equality,\n",
    "and execute it.  "
   ]
  },
  {
   "cell_type": "code",
   "execution_count": 25,
   "metadata": {},
   "outputs": [
    {
     "data": {
      "text/plain": [
       "False"
      ]
     },
     "execution_count": 25,
     "metadata": {},
     "output_type": "execute_result"
    }
   ],
   "source": [
    "#// BEGIN_TODO [PRE_6b] Are 0.1 + 0.2 and 0.3 equal? (1 point)\n",
    "\n",
    "0.1 + 0.2 == 0.3\n",
    "\n",
    "#// END_TODO [PRE_6b]"
   ]
  },
  {
   "cell_type": "markdown",
   "metadata": {},
   "source": [
    "This shows that floating point arithmetic is not exact. Therefore, when comparing floating point numbers, you may specify an interval within which a number should lie."
   ]
  },
  {
   "cell_type": "markdown",
   "metadata": {},
   "source": [
    "#### Exercise 6.c\n",
    "\n",
    "Write a **comparison expression** to verify that $0.1 + 0.2$ lies strictly between $0.299999$ and $0.300001$.  \n",
    "\n",
    "> **Hint:** Use comparison operator chaining of the form `a < b < c`."
   ]
  },
  {
   "cell_type": "code",
   "execution_count": 26,
   "metadata": {},
   "outputs": [
    {
     "data": {
      "text/plain": [
       "True"
      ]
     },
     "execution_count": 26,
     "metadata": {},
     "output_type": "execute_result"
    }
   ],
   "source": [
    "#// BEGIN_TODO [PRE_6c] Verify that 0.1 + 0.2 lies strictly between 0.299999 and 0.300001 (1 point)\n",
    "\n",
    "0.299999 < 0.1 + 0.2 < 0.300001\n",
    "\n",
    "#// END_TODO [PRE_6c]"
   ]
  },
  {
   "cell_type": "markdown",
   "metadata": {},
   "source": [
    "#### Exercise 6.d\n",
    "\n",
    "Write a **comparison expression** to verify that $10^{30}$ lies strictly between $2^{99}$ and $2^{100}$."
   ]
  },
  {
   "cell_type": "code",
   "execution_count": 110,
   "metadata": {},
   "outputs": [
    {
     "data": {
      "text/plain": [
       "True"
      ]
     },
     "execution_count": 110,
     "metadata": {},
     "output_type": "execute_result"
    }
   ],
   "source": [
    "#// BEGIN_TODO [PRE_6d] Verify that 10 to 30 lies strictly between 2 to 99 and 2 to 100 (1 point)\n",
    "\n",
    "2**99 < 10**30 < 2**100\n",
    "\n",
    "#// END_TODO [PRE_6d]"
   ]
  },
  {
   "cell_type": "markdown",
   "metadata": {},
   "source": [
    "### Logical Operators\n",
    "\n",
    "**Logical operators** operate on boolean values:\n",
    "\n",
    "* `and`, `or`, and `not` for conjunction, disjunction, and negation, and\n",
    "* `if`-`else` for **conditional evaluation**.\n",
    "\n",
    "```python\n",
    "expression_1 if condition else expression_2\n",
    "```\n",
    "\n",
    "For example, `True and False` computes the conjunction of `True` and `False` and returns `False`, while `not a` computes the negation of the value stored in variable `a`. If you are negating a Boolean expression you can surround it in parentheses `not(expression)`.\n",
    "\n",
    "Note:\n",
    "\n",
    "* The logical operators bind _weaker_ than the other operators. Hence, you need parentheses when comparing the results of logical operators.\n",
    "    \n",
    "    * `a and b == c` &nbsp; is interpreted as &nbsp; `a and (b == c)` &nbsp; and _not_ as &nbsp; `(a and b) == c`"
   ]
  },
  {
   "cell_type": "markdown",
   "metadata": {},
   "source": [
    "#### Exercise 6.e\n",
    "\n",
    "Write a **logical expression**, for integers $a,b,c$ defined below, that computes if it is _not_ the case that: $a$ is less than $b$ and $c$ is greater than or equal to $b$."
   ]
  },
  {
   "cell_type": "code",
   "execution_count": 28,
   "metadata": {},
   "outputs": [
    {
     "data": {
      "text/plain": [
       "True"
      ]
     },
     "execution_count": 28,
     "metadata": {},
     "output_type": "execute_result"
    }
   ],
   "source": [
    "a = 4\n",
    "b = 4\n",
    "c = 3\n",
    "\n",
    "#// BEGIN_TODO [PRE_6e] Logical expression with a, b, c (1 point)\n",
    "\n",
    "not((a<b) and (c>=b))\n",
    "\n",
    "#// END_TODO [PRE_6e]"
   ]
  },
  {
   "cell_type": "markdown",
   "metadata": {},
   "source": [
    "## 7. Lists\n",
    "\n",
    "### List Construction\n",
    "\n",
    "List values must always be constructed through expressions.\n",
    "\n",
    "**Square brackets** are used to construct list values containing a given sequence of elements:\n",
    "\n",
    "* `[]`\n",
    "* `[1, 2, 3]`\n",
    "* `['a', 'b', 'c']`\n",
    "* `[['a', 1], ['b', 2]]`\n",
    "\n",
    "Observe that\n",
    "\n",
    "* a list can have zero elements: `[]` is the **empty list**;\n",
    "* a list can have a single element: `[0]`;\n",
    "* not all elements in a list need to have the same type;\n",
    "* a list can have other lists as elements.\n",
    "\n",
    "Lists can be joined and replicated through `+` and `*`, just like strings."
   ]
  },
  {
   "cell_type": "markdown",
   "metadata": {},
   "source": [
    "#### Exercise 7.a\n",
    "\n",
    "Write a **list expression** to construct a list consisting of the sequence of numbers: $1$, $2$, $1$, $2$, $1$, and $2$.  "
   ]
  },
  {
   "cell_type": "code",
   "execution_count": 29,
   "metadata": {},
   "outputs": [
    {
     "data": {
      "text/plain": [
       "[1, 2, 1, 2, 1, 2]"
      ]
     },
     "execution_count": 29,
     "metadata": {},
     "output_type": "execute_result"
    }
   ],
   "source": [
    "#// BEGIN_TODO [PRE_7a] Alternating list of three repetitions of 1, 2 (1 point)\n",
    "\n",
    "[1, 2, 1, 2, 1, 2]\n",
    "\n",
    "#// END_TODO [PRE_7a]"
   ]
  },
  {
   "cell_type": "markdown",
   "metadata": {},
   "source": [
    "### List Comprehensions\n",
    "\n",
    "Python provides an easy way to construct lists, called _list comprehensions_. As a first example, we want to create the list `[0, 2, 4, 6, 8]`. As you can see, this list contains elements `2 * n` for `n = 0, 1, 2, 3, 4`, i.e. `n` ranges over the integers from `0` to `5` (not inclusive). In Python, we can create this list by executing"
   ]
  },
  {
   "cell_type": "code",
   "execution_count": 30,
   "metadata": {},
   "outputs": [
    {
     "data": {
      "text/plain": [
       "[0, 2, 4, 6, 8]"
      ]
     },
     "execution_count": 30,
     "metadata": {},
     "output_type": "execute_result"
    }
   ],
   "source": [
    "[2 * n for n in [0, 1, 2, 3, 4]]"
   ]
  },
  {
   "cell_type": "markdown",
   "metadata": {},
   "source": [
    "In general, a list comprehension has the following syntax:\n",
    "\n",
    "```python\n",
    "[expression for variable in range]\n",
    "``` \n",
    "\n",
    "which iterates the `variable` over the elements in the `range`, computes an `expression` (containing the `variable`), and appends it to the list.\n",
    "\n",
    "We can replace the range of `n` by any expression that returns a list (or in general a so-called _iterable_ object). For example, the requirement that `n` runs from `0` to `5` (not inclusive), i.e. that it runs through all integers in the interval $[0, 5)$, can be encoded by the expression `range(5)`."
   ]
  },
  {
   "cell_type": "code",
   "execution_count": 31,
   "metadata": {},
   "outputs": [
    {
     "data": {
      "text/plain": [
       "[0, 2, 4, 6, 8]"
      ]
     },
     "execution_count": 31,
     "metadata": {},
     "output_type": "execute_result"
    }
   ],
   "source": [
    "[2 * n for n in range(5)]"
   ]
  },
  {
   "cell_type": "markdown",
   "metadata": {},
   "source": [
    "We could let `n` run from `3` to `5` (not inclusive) by replacing `range(5)` by `range(3,5)`:"
   ]
  },
  {
   "cell_type": "code",
   "execution_count": 32,
   "metadata": {},
   "outputs": [
    {
     "data": {
      "text/plain": [
       "[6, 8]"
      ]
     },
     "execution_count": 32,
     "metadata": {},
     "output_type": "execute_result"
    }
   ],
   "source": [
    "[2 * n for n in range(3,5)]"
   ]
  },
  {
   "cell_type": "markdown",
   "metadata": {},
   "source": [
    "We can iterate over any list. For example, we can use the `len()` function to get the length of a string, e.g."
   ]
  },
  {
   "cell_type": "code",
   "execution_count": 33,
   "metadata": {},
   "outputs": [
    {
     "data": {
      "text/plain": [
       "4"
      ]
     },
     "execution_count": 33,
     "metadata": {},
     "output_type": "execute_result"
    }
   ],
   "source": [
    "len('abcd')"
   ]
  },
  {
   "cell_type": "markdown",
   "metadata": {},
   "source": [
    "Given the following list"
   ]
  },
  {
   "cell_type": "code",
   "execution_count": 34,
   "metadata": {},
   "outputs": [],
   "source": [
    "animal_list = ['dog', 'cat', 'horse', 'elephant']"
   ]
  },
  {
   "cell_type": "markdown",
   "metadata": {},
   "source": [
    "we can get a new list containing the length `len(w)` of every word `w` in the list `animal_list` by"
   ]
  },
  {
   "cell_type": "code",
   "execution_count": 35,
   "metadata": {},
   "outputs": [
    {
     "data": {
      "text/plain": [
       "[3, 3, 5, 8]"
      ]
     },
     "execution_count": 35,
     "metadata": {},
     "output_type": "execute_result"
    }
   ],
   "source": [
    "[len(w) for w in animal_list]"
   ]
  },
  {
   "cell_type": "markdown",
   "metadata": {},
   "source": [
    "We can even add a condition about which elements should be included in the list. For instance, we can make a new list consisting only of those elements of `animal_list` of length less than `4` by"
   ]
  },
  {
   "cell_type": "code",
   "execution_count": 36,
   "metadata": {},
   "outputs": [
    {
     "data": {
      "text/plain": [
       "['dog', 'cat']"
      ]
     },
     "execution_count": 36,
     "metadata": {},
     "output_type": "execute_result"
    }
   ],
   "source": [
    "[w for w in animal_list if len(w) < 4]"
   ]
  },
  {
   "cell_type": "markdown",
   "metadata": {},
   "source": [
    "#### Exercise 7.b\n",
    "\n",
    "Let again the `animal_list` be given by"
   ]
  },
  {
   "cell_type": "code",
   "execution_count": 37,
   "metadata": {},
   "outputs": [],
   "source": [
    "animal_list = ['dog', 'cat', 'horse', 'elephant']"
   ]
  },
  {
   "cell_type": "markdown",
   "metadata": {},
   "source": [
    "Use a **list comprehension** to construct a list containing the plural of each animal in the `animal_list` (i.e. the list should contain the following elements: `['dogs', 'cats', 'horses', 'elephants']`)."
   ]
  },
  {
   "cell_type": "code",
   "execution_count": 38,
   "metadata": {},
   "outputs": [
    {
     "data": {
      "text/plain": [
       "['dogs', 'cats', 'horses', 'elephants']"
      ]
     },
     "execution_count": 38,
     "metadata": {},
     "output_type": "execute_result"
    }
   ],
   "source": [
    "#// BEGIN_TODO [PRE_7b] Create list of plurals (1 point)\n",
    "\n",
    "[(a + 's') for a in animal_list]\n",
    "\n",
    "#// END_TODO [PRE_7b]"
   ]
  },
  {
   "cell_type": "markdown",
   "metadata": {},
   "source": [
    "#### Exercise 7.c\n",
    "\n",
    "Use a list comprehesion to construct a list with $n^2$ for integers $n$ in the interval $[3, 10)$, but **do not include the term for** $n = 7$."
   ]
  },
  {
   "cell_type": "code",
   "execution_count": 39,
   "metadata": {},
   "outputs": [
    {
     "data": {
      "text/plain": [
       "[9, 16, 25, 36, 64, 81]"
      ]
     },
     "execution_count": 39,
     "metadata": {},
     "output_type": "execute_result"
    }
   ],
   "source": [
    "#// BEGIN_TODO [PRE_7c] Create list of squares, exclude 7 (1 point)\n",
    "\n",
    "[n*n for n in range (3, 10) if n != 7]\n",
    "\n",
    "#// END_TODO [PRE_7c]"
   ]
  },
  {
   "cell_type": "markdown",
   "metadata": {},
   "source": [
    "### Sequence Membership\n",
    "\n",
    "Python provides convenient expressions to check whether an element does or does not occur in a sequence:\n",
    "\n",
    "* `x in sequence`: returns whether `x` occurs in `sequence`.\n",
    "* `x not in sequence`: returns whether `x` does not occur in `sequence`; short for `not (x in sequence)`."
   ]
  },
  {
   "cell_type": "markdown",
   "metadata": {},
   "source": [
    "#### Exercise 7.d\n",
    "\n",
    "Write an **expression** to confirm that `'dog'` is an element of the `animal_list`. "
   ]
  },
  {
   "cell_type": "code",
   "execution_count": 40,
   "metadata": {},
   "outputs": [
    {
     "data": {
      "text/plain": [
       "True"
      ]
     },
     "execution_count": 40,
     "metadata": {},
     "output_type": "execute_result"
    }
   ],
   "source": [
    "#// BEGIN_TODO [PRE_7d] Whether \"dog\" is a member of preceding list (1 point)\n",
    "\n",
    "'dog' in animal_list\n",
    "\n",
    "#// END_TODO [PRE_7d]"
   ]
  },
  {
   "cell_type": "markdown",
   "metadata": {},
   "source": [
    "### Indexing a Sequence\n",
    "\n",
    "Sequences (strings and lists) can be **indexed**\n",
    "to get an element at a specific position in the sequence.\n",
    "\n",
    "Consider the following sequence `seq` as an example:"
   ]
  },
  {
   "cell_type": "code",
   "execution_count": 41,
   "metadata": {},
   "outputs": [],
   "source": [
    "seq = ['a','b','c','d','e']"
   ]
  },
  {
   "cell_type": "markdown",
   "metadata": {},
   "source": [
    "The sequence `seq` has five elements. Indeed, we can check the length of the sequence `seq` by using the `len()` function."
   ]
  },
  {
   "cell_type": "code",
   "execution_count": 42,
   "metadata": {},
   "outputs": [
    {
     "data": {
      "text/plain": [
       "5"
      ]
     },
     "execution_count": 42,
     "metadata": {},
     "output_type": "execute_result"
    }
   ],
   "source": [
    "len(seq)"
   ]
  },
  {
   "cell_type": "markdown",
   "metadata": {},
   "source": [
    "The index of every element is the position at which it appears in the sequence, **starting from index 0**. The index of the element `'a'` is **0**, the index of the element `'b'` is **1**, etc. In the English language, it is more common to refer to the element `'a'` as the first element of the sequence, and we will follow that convention as well. We can extract the **3rd** element of the sequence (i.e. the element at index 2) by evaluating"
   ]
  },
  {
   "cell_type": "code",
   "execution_count": 43,
   "metadata": {},
   "outputs": [
    {
     "data": {
      "text/plain": [
       "'c'"
      ]
     },
     "execution_count": 43,
     "metadata": {},
     "output_type": "execute_result"
    }
   ],
   "source": [
    "seq[2]"
   ]
  },
  {
   "cell_type": "markdown",
   "metadata": {},
   "source": [
    "If you supply an index that is too large, you will get an `IndexError`."
   ]
  },
  {
   "cell_type": "markdown",
   "metadata": {},
   "source": [
    "Python has the useful feature that by supplying a negative index $-k$, it actually returns the element with index $n - k$, where $n$ is the length of the list. This way, `seq[-1]` will yield the last element of the list `seq`."
   ]
  },
  {
   "cell_type": "code",
   "execution_count": 44,
   "metadata": {},
   "outputs": [
    {
     "data": {
      "text/plain": [
       "'e'"
      ]
     },
     "execution_count": 44,
     "metadata": {},
     "output_type": "execute_result"
    }
   ],
   "source": [
    "seq[-1]"
   ]
  },
  {
   "cell_type": "markdown",
   "metadata": {},
   "source": [
    "When a list contains another list as an element, we say that one list is **nested** inside another list.\n",
    "This is one way to represent tabular data and matrices.\n",
    "To access elements in the _inner_ list, you need _two_ levels of indexing:"
   ]
  },
  {
   "cell_type": "code",
   "execution_count": 45,
   "metadata": {},
   "outputs": [
    {
     "data": {
      "text/plain": [
       "203"
      ]
     },
     "execution_count": 45,
     "metadata": {},
     "output_type": "execute_result"
    }
   ],
   "source": [
    "matrix = [101, [201, 202, 203, 204], 102]\n",
    "matrix[1][2]"
   ]
  },
  {
   "cell_type": "markdown",
   "metadata": {},
   "source": [
    "#### Exercise 7.e\n",
    "\n",
    "Write an expression to get the sixth character of string `s`.\n",
    "\n",
    "> **Note:** a space counts as a character."
   ]
  },
  {
   "cell_type": "code",
   "execution_count": 46,
   "metadata": {},
   "outputs": [
    {
     "data": {
      "text/plain": [
       "'A'"
      ]
     },
     "execution_count": 46,
     "metadata": {},
     "output_type": "execute_result"
    }
   ],
   "source": [
    "s = 'Data Analytics'\n",
    "\n",
    "#// BEGIN_TODO [PRE_7e] Sixth character of s (1 point)\n",
    "\n",
    "s[5]\n",
    "\n",
    "#// END_TODO [PRE_7e]"
   ]
  },
  {
   "cell_type": "markdown",
   "metadata": {},
   "source": [
    "#### Exercise 7.f\n",
    "\n",
    "Write an expression to get the last element from the list `t`."
   ]
  },
  {
   "cell_type": "code",
   "execution_count": 47,
   "metadata": {},
   "outputs": [
    {
     "data": {
      "text/plain": [
       "0"
      ]
     },
     "execution_count": 47,
     "metadata": {},
     "output_type": "execute_result"
    }
   ],
   "source": [
    "t = [2, 'iab', 0]\n",
    "\n",
    "#// BEGIN_TODO [PRE_7f] Last element of t (1 point)\n",
    "\n",
    "t[-1]\n",
    "\n",
    "#// END_TODO [PRE_7f]"
   ]
  },
  {
   "cell_type": "markdown",
   "metadata": {},
   "source": [
    "#### Exercise 7.g\n",
    "\n",
    "Write an expression to get the first character from the second element from the list `t`."
   ]
  },
  {
   "cell_type": "code",
   "execution_count": 48,
   "metadata": {},
   "outputs": [
    {
     "data": {
      "text/plain": [
       "'i'"
      ]
     },
     "execution_count": 48,
     "metadata": {},
     "output_type": "execute_result"
    }
   ],
   "source": [
    "t = [2, 'iab', 0]\n",
    "\n",
    "#// BEGIN_TODO [PRE_7g] First character of second element of t (1 point)\n",
    "\n",
    "t[1][0]\n",
    "\n",
    "#// END_TODO [PRE_7g]"
   ]
  },
  {
   "cell_type": "markdown",
   "metadata": {},
   "source": [
    "### Slicing a Sequence\n",
    "\n",
    "Consider again the sequence `seq`."
   ]
  },
  {
   "cell_type": "code",
   "execution_count": 49,
   "metadata": {},
   "outputs": [],
   "source": [
    "seq = ['a', 'b', 'c', 'd', 'e']"
   ]
  },
  {
   "cell_type": "markdown",
   "metadata": {},
   "source": [
    "We can extract the **subsequence** from index **2** to (but not including!) index **4** by evaluating."
   ]
  },
  {
   "cell_type": "code",
   "execution_count": 50,
   "metadata": {},
   "outputs": [
    {
     "data": {
      "text/plain": [
       "['c', 'd']"
      ]
     },
     "execution_count": 50,
     "metadata": {},
     "output_type": "execute_result"
    }
   ],
   "source": [
    "seq[2:4]"
   ]
  },
  {
   "cell_type": "markdown",
   "metadata": {},
   "source": [
    "Note that we get a new sequence, the subsequence, only consisting of the elements of the original sequence at indexes **2** and **3**; the element with index **4** is _not included_. Such a subsequence consisting of elements with contiguous indices is called a **slice**. \n",
    "\n",
    "If you leave out one of the indices, the slice runs from the beginning or to the end. For instance, `seq[:3]` gives the subsequence consisting of the first three elements of the original list"
   ]
  },
  {
   "cell_type": "code",
   "execution_count": 51,
   "metadata": {},
   "outputs": [
    {
     "data": {
      "text/plain": [
       "['a', 'b', 'c']"
      ]
     },
     "execution_count": 51,
     "metadata": {},
     "output_type": "execute_result"
    }
   ],
   "source": [
    "seq[:3]"
   ]
  },
  {
   "cell_type": "markdown",
   "metadata": {},
   "source": [
    "and `seq[2:]` gives the subsequence starting from index `2`."
   ]
  },
  {
   "cell_type": "code",
   "execution_count": 52,
   "metadata": {},
   "outputs": [
    {
     "data": {
      "text/plain": [
       "['c', 'd', 'e']"
      ]
     },
     "execution_count": 52,
     "metadata": {},
     "output_type": "execute_result"
    }
   ],
   "source": [
    "seq[2:]"
   ]
  },
  {
   "cell_type": "markdown",
   "metadata": {},
   "source": [
    "Negative indices are also allowed. As before, a negative index $-k$ gets replaced by $n-k$ where $n$ is the length of the list. This way, `seq[-2:]` gives the subsequence consisting of the last two elements of the original list."
   ]
  },
  {
   "cell_type": "code",
   "execution_count": 53,
   "metadata": {},
   "outputs": [
    {
     "data": {
      "text/plain": [
       "['d', 'e']"
      ]
     },
     "execution_count": 53,
     "metadata": {},
     "output_type": "execute_result"
    }
   ],
   "source": [
    "seq[-2:]"
   ]
  },
  {
   "cell_type": "markdown",
   "metadata": {},
   "source": [
    "#### Exercise 7.h\n",
    "\n",
    "Write an expression to obtain the fourth to sixth (inclusive) characters of `s`. Make use of slicing."
   ]
  },
  {
   "cell_type": "code",
   "execution_count": 54,
   "metadata": {},
   "outputs": [
    {
     "data": {
      "text/plain": [
       "'a A'"
      ]
     },
     "execution_count": 54,
     "metadata": {},
     "output_type": "execute_result"
    }
   ],
   "source": [
    "#// BEGIN_TODO [PRE_7h] Fourth to sixth characters of s (1 point)\n",
    "\n",
    "s[3:6]\n",
    "\n",
    "#// END_TODO [PRE_7h]"
   ]
  },
  {
   "cell_type": "markdown",
   "metadata": {},
   "source": [
    "#### Exercise 7.i\n",
    "\n",
    "Write an expression to obtain the first four characters of `s`. Make use of slicing."
   ]
  },
  {
   "cell_type": "code",
   "execution_count": 55,
   "metadata": {},
   "outputs": [
    {
     "data": {
      "text/plain": [
       "'Data'"
      ]
     },
     "execution_count": 55,
     "metadata": {},
     "output_type": "execute_result"
    }
   ],
   "source": [
    "#// BEGIN_TODO [PRE_7i] First four characters of s (1 point)\n",
    "\n",
    "s[:4]\n",
    "\n",
    "#// END_TODO [PRE_7i]"
   ]
  },
  {
   "cell_type": "markdown",
   "metadata": {},
   "source": [
    "#### Exercise 7.j\n",
    "\n",
    "Write an expression to obtain the last nine characters of `s`. Make use of slicing."
   ]
  },
  {
   "cell_type": "code",
   "execution_count": 56,
   "metadata": {},
   "outputs": [
    {
     "data": {
      "text/plain": [
       "'Analytics'"
      ]
     },
     "execution_count": 56,
     "metadata": {},
     "output_type": "execute_result"
    }
   ],
   "source": [
    "#// BEGIN_TODO [PRE_7j] Last nine characters of s (1 point)\n",
    "\n",
    "s[-9:]\n",
    "\n",
    "#// END_TODO [PRE_7j]"
   ]
  },
  {
   "cell_type": "markdown",
   "metadata": {},
   "source": [
    "### Adding Elements to a List\n",
    "\n",
    "We will now explain how to add elements to a list. Let us start with the following list `l`.\n",
    "\n",
    ">**Note:** It is tempting to call our list `list`, but as discussed in section 5 that is a predefined name which should thus not be used as a variable name."
   ]
  },
  {
   "cell_type": "code",
   "execution_count": 57,
   "metadata": {},
   "outputs": [],
   "source": [
    "l = ['a','b','c']"
   ]
  },
  {
   "cell_type": "markdown",
   "metadata": {},
   "source": [
    "We can add the element `'d'` to `l` by using the function `append()`."
   ]
  },
  {
   "cell_type": "code",
   "execution_count": 58,
   "metadata": {},
   "outputs": [
    {
     "data": {
      "text/plain": [
       "['a', 'b', 'c', 'd']"
      ]
     },
     "execution_count": 58,
     "metadata": {},
     "output_type": "execute_result"
    }
   ],
   "source": [
    "l.append('d')\n",
    "l"
   ]
  },
  {
   "cell_type": "markdown",
   "metadata": {},
   "source": [
    "### Changing List Elements\n",
    "\n",
    "Each element in a list can be considered a variable.\n",
    "In that sense,\n",
    "a list is a sequence of variables,\n",
    "and list indexing is used to select a specific variable.\n",
    "\n",
    "If we go back to our `seq` example"
   ]
  },
  {
   "cell_type": "code",
   "execution_count": 59,
   "metadata": {},
   "outputs": [],
   "source": [
    "seq = ['a', 'b', 'c', 'd', 'e']"
   ]
  },
  {
   "cell_type": "markdown",
   "metadata": {},
   "source": [
    "we can change the **4th** element of the list (the element at index **3**) into a `'z'` by executing the assignment"
   ]
  },
  {
   "cell_type": "code",
   "execution_count": 60,
   "metadata": {},
   "outputs": [],
   "source": [
    "seq[3] = 'z'"
   ]
  },
  {
   "cell_type": "markdown",
   "metadata": {},
   "source": [
    "Let us check the result"
   ]
  },
  {
   "cell_type": "code",
   "execution_count": 61,
   "metadata": {},
   "outputs": [
    {
     "data": {
      "text/plain": [
       "['a', 'b', 'c', 'z', 'e']"
      ]
     },
     "execution_count": 61,
     "metadata": {},
     "output_type": "execute_result"
    }
   ],
   "source": [
    "seq"
   ]
  },
  {
   "cell_type": "markdown",
   "metadata": {},
   "source": [
    "Here are some further examples:"
   ]
  },
  {
   "cell_type": "code",
   "execution_count": 62,
   "metadata": {},
   "outputs": [
    {
     "data": {
      "text/plain": [
       "[1, 5, 3]"
      ]
     },
     "execution_count": 62,
     "metadata": {},
     "output_type": "execute_result"
    }
   ],
   "source": [
    "x = [1, 2, 3]\n",
    "x[1] = 5\n",
    "x"
   ]
  },
  {
   "cell_type": "markdown",
   "metadata": {},
   "source": [
    "We can change elements in nested lists using multiple levels of indexing:"
   ]
  },
  {
   "cell_type": "code",
   "execution_count": 63,
   "metadata": {},
   "outputs": [
    {
     "data": {
      "text/plain": [
       "[['a', 1], ['c', 2]]"
      ]
     },
     "execution_count": 63,
     "metadata": {},
     "output_type": "execute_result"
    }
   ],
   "source": [
    "y = [['a', 1], ['b', 2]]\n",
    "y[1][0] = 'c'\n",
    "y"
   ]
  },
  {
   "cell_type": "markdown",
   "metadata": {},
   "source": [
    "#### Exercise 7.k\n",
    "\n",
    "Consider the list consisting of the elements `5`, `2`, `'X'`, and `1` (in this order;\n",
    "it has been assigned to the variable `v`).  \n",
    "Write a **list element assignment** to replace the third element by `10`."
   ]
  },
  {
   "cell_type": "code",
   "execution_count": 64,
   "metadata": {},
   "outputs": [
    {
     "data": {
      "text/plain": [
       "[5, 2, 10, 1]"
      ]
     },
     "execution_count": 64,
     "metadata": {},
     "output_type": "execute_result"
    }
   ],
   "source": [
    "v = [5, 2, 'X', 1]\n",
    "\n",
    "#// BEGIN_TODO [PRE_7k] Assign 10 to third element of v (1 point)\n",
    "\n",
    "v[2] = 10\n",
    "\n",
    "#// END_TODO [PRE_7k]\n",
    "\n",
    "v"
   ]
  },
  {
   "cell_type": "markdown",
   "metadata": {},
   "source": [
    "#### Exercise 7.l\n",
    "\n",
    "Consider the list-of-lists `m` defined below, representing a well-known _magic square_.\n",
    "The nested lists represent the rows, as is shown in this diagram:\n",
    "\n",
    "<style type=\"text/css\">\n",
    ".tg  {border-collapse:collapse;border-spacing:0;}\n",
    ".tg td{border-color:black;border-style:solid;border-width:1px;font-family:Arial, sans-serif;font-size:14px;\n",
    "  overflow:hidden;padding:10px 5px;word-break:normal;}\n",
    ".tg th{border-color:black;border-style:solid;border-width:1px;font-family:Arial, sans-serif;font-size:14px;\n",
    "  font-weight:normal;overflow:hidden;padding:10px 5px;word-break:normal;}\n",
    ".tg .tg-opee{background-color:#ffffc7;border-color:inherit;font-weight:bold;text-align:left;vertical-align:top}\n",
    ".tg .tg-ev0v{background-color:#dae8fc;border-color:inherit;font-weight:bold;text-align:left;vertical-align:top}\n",
    ".tg .tg-7od5{background-color:#9aff99;border-color:inherit;text-align:left;vertical-align:top}\n",
    ".tg .tg-0pky{border-color:inherit;text-align:left;vertical-align:top}\n",
    ".tg .tg-fymr{border-color:inherit;font-weight:bold;text-align:left;vertical-align:top}\n",
    ".tg .tg-x6qq{background-color:#dae8fc;border-color:inherit;text-align:left;vertical-align:top}\n",
    ".tg .tg-ncd7{background-color:#ffffc7;border-color:inherit;text-align:left;vertical-align:top}\n",
    "</style>\n",
    "<table class=\"tg\">\n",
    "<thead>\n",
    "  <tr>\n",
    "    <th class=\"tg-0pky\"></th>\n",
    "    <th class=\"tg-0pky\" colspan=\"3\"></th>\n",
    "    <th class=\"tg-fymr\">Sum</th>\n",
    "  </tr>\n",
    "</thead>\n",
    "<tbody>\n",
    "  <tr>\n",
    "    <td class=\"tg-0pky\" rowspan=\"3\"></td>\n",
    "    <td class=\"tg-7od5\">8</td>\n",
    "    <td class=\"tg-x6qq\">3</td>\n",
    "    <td class=\"tg-x6qq\">4</td>\n",
    "    <td class=\"tg-ev0v\">15</td>\n",
    "  </tr>\n",
    "  <tr>\n",
    "    <td class=\"tg-ncd7\">1</td>\n",
    "    <td class=\"tg-0pky\">5</td>\n",
    "    <td class=\"tg-0pky\">9</td>\n",
    "    <td class=\"tg-fymr\">15</td>\n",
    "  </tr>\n",
    "  <tr>\n",
    "    <td class=\"tg-ncd7\">6</td>\n",
    "    <td class=\"tg-0pky\">7</td>\n",
    "    <td class=\"tg-0pky\">2</td>\n",
    "    <td class=\"tg-fymr\">15</td>\n",
    "  </tr>\n",
    "  <tr>\n",
    "    <td class=\"tg-fymr\">Sum</td>\n",
    "    <td class=\"tg-opee\">15</td>\n",
    "    <td class=\"tg-fymr\">15</td>\n",
    "    <td class=\"tg-fymr\">15</td>\n",
    "    <td class=\"tg-0pky\"></td>\n",
    "  </tr>\n",
    "</tbody>\n",
    "</table>\n",
    "\n",
    "Write two **expressions** (separated by a comma) to compute\n",
    "the sum of the elements in the _first row_ and the sum of those in the _last column_."
   ]
  },
  {
   "cell_type": "code",
   "execution_count": 65,
   "metadata": {},
   "outputs": [
    {
     "data": {
      "text/plain": [
       "(15, 15)"
      ]
     },
     "execution_count": 65,
     "metadata": {},
     "output_type": "execute_result"
    }
   ],
   "source": [
    "m = [[8, 3, 4], [1, 5, 9], [6, 7, 2]]\n",
    "\n",
    "#// BEGIN_TODO [PRE_7l] Sum of first row, sum of last column (1 point)\n",
    "\n",
    "m[0][0] + m[0][1] + m[0][2], m[0][2] + m[1][2] + m[2][2]\n",
    "\n",
    "#// END_TODO [PRE_7l]"
   ]
  },
  {
   "cell_type": "markdown",
   "metadata": {},
   "source": [
    "## 8. Dictionaries\n",
    "\n",
    "A dictionary is a collection of key-value pairs. In the following code cell, we construct a dictionary called `age`."
   ]
  },
  {
   "cell_type": "code",
   "execution_count": 66,
   "metadata": {},
   "outputs": [
    {
     "data": {
      "text/plain": [
       "{'Alice': 19, 'Bob': 23, 'Eve': 37, 'Mallory': 9}"
      ]
     },
     "execution_count": 66,
     "metadata": {},
     "output_type": "execute_result"
    }
   ],
   "source": [
    "age = {'Alice': 19, 'Bob': 23, 'Eve': 37, 'Mallory': 9}\n",
    "age"
   ]
  },
  {
   "cell_type": "markdown",
   "metadata": {},
   "source": [
    "The dictionary `age` contains four key-value pairs. The strings `'Alice', 'Bob', 'Eve', 'Mallory'` are keys, and the integers `19, 23, 37, 9` are their corresponding values."
   ]
  },
  {
   "cell_type": "markdown",
   "metadata": {},
   "source": [
    "Dictionary values can be of any type. There are some restrictions on the allowed key types (they need to be immutable), but you can assume that most types used in this course are valid, _except for lists_. For example, the following dictionary combines keys and values of different types:"
   ]
  },
  {
   "cell_type": "code",
   "execution_count": 67,
   "metadata": {},
   "outputs": [
    {
     "data": {
      "text/plain": [
       "{'Name': 'Bob', 'Age': 24, 'Height': 181.7, 1: 'Amsterdam', 2: 'London'}"
      ]
     },
     "execution_count": 67,
     "metadata": {},
     "output_type": "execute_result"
    }
   ],
   "source": [
    "{'Name': 'Bob', 'Age': 24, 'Height': 181.7, 1: 'Amsterdam', 2: 'London'}"
   ]
  },
  {
   "cell_type": "markdown",
   "metadata": {},
   "source": [
    "Dictionary keys are unique. Defining a dictionary with duplicate keys will keep the last value."
   ]
  },
  {
   "cell_type": "code",
   "execution_count": 68,
   "metadata": {},
   "outputs": [
    {
     "data": {
      "text/plain": [
       "{'Alice': 19, 'Bob': 99, 'Eve': 37, 'Mallory': 9}"
      ]
     },
     "execution_count": 68,
     "metadata": {},
     "output_type": "execute_result"
    }
   ],
   "source": [
    "age = {'Alice': 19, 'Bob': 24, 'Eve': 37, 'Mallory': 9, 'Bob': 99}\n",
    "age"
   ]
  },
  {
   "cell_type": "markdown",
   "metadata": {},
   "source": [
    "### Dictionary Membership\n",
    "\n",
    "Python provides convenient functions to check whether a key does or does not occur in a dictionary:\n",
    "\n",
    "* `x in dictionary`: returns whether the key `x` occurs in `dictionary`.\n",
    "* `x not in dictionary`: returns whether the key `x` does not occur in `dictionary`; short for `not (x in dictionary)`."
   ]
  },
  {
   "cell_type": "markdown",
   "metadata": {},
   "source": [
    "#### Exercise 8.a\n",
    "\n",
    "Write an **expression** to confirm that `'Peter'` does _not_ occur in the `age` dictionary. "
   ]
  },
  {
   "cell_type": "code",
   "execution_count": 69,
   "metadata": {},
   "outputs": [
    {
     "data": {
      "text/plain": [
       "False"
      ]
     },
     "execution_count": 69,
     "metadata": {},
     "output_type": "execute_result"
    }
   ],
   "source": [
    "#// BEGIN_TODO [PRE_8a] 'Peter' is not a member of the age dictionary (1 point)\n",
    "\n",
    "'Peter' not in age\n",
    "\n",
    "#// END_TODO [PRE_8a]"
   ]
  },
  {
   "cell_type": "markdown",
   "metadata": {},
   "source": [
    "### Indexing a Dictionary\n",
    "\n",
    "The number of key-value pairs inside a dictionary can be retrieved using `len()`."
   ]
  },
  {
   "cell_type": "code",
   "execution_count": 70,
   "metadata": {},
   "outputs": [
    {
     "data": {
      "text/plain": [
       "4"
      ]
     },
     "execution_count": 70,
     "metadata": {},
     "output_type": "execute_result"
    }
   ],
   "source": [
    "len(age)"
   ]
  },
  {
   "cell_type": "markdown",
   "metadata": {},
   "source": [
    "You can look up a value in the dictionary by providing the corresponding key with square-bracket notation, similar to when you get a value in a list by providing an index. For example, we can retrieve Bob's age with:"
   ]
  },
  {
   "cell_type": "code",
   "execution_count": 71,
   "metadata": {},
   "outputs": [
    {
     "data": {
      "text/plain": [
       "99"
      ]
     },
     "execution_count": 71,
     "metadata": {},
     "output_type": "execute_result"
    }
   ],
   "source": [
    "age['Bob']"
   ]
  },
  {
   "cell_type": "markdown",
   "metadata": {},
   "source": [
    "Sometimes we say that a dictionary _maps_ keys to their corresponding value."
   ]
  },
  {
   "cell_type": "markdown",
   "metadata": {},
   "source": [
    "#### Exercise 8.b\n",
    "\n",
    "Retrieve Alice's age from the `age` dictionary."
   ]
  },
  {
   "cell_type": "code",
   "execution_count": 72,
   "metadata": {},
   "outputs": [
    {
     "data": {
      "text/plain": [
       "19"
      ]
     },
     "execution_count": 72,
     "metadata": {},
     "output_type": "execute_result"
    }
   ],
   "source": [
    "#// BEGIN_TODO [PRE_8b] Retrieve a value from a dictionary (1 point)\n",
    "\n",
    "age['Alice']\n",
    "\n",
    "#// END_TODO [PRE_8b]"
   ]
  },
  {
   "cell_type": "markdown",
   "metadata": {},
   "source": [
    "#### Exercise 8.c\n",
    "\n",
    "Compute the average age of all the people in the `age` dictionary.\n",
    "\n",
    "> **Hint:** Use the `len` function."
   ]
  },
  {
   "cell_type": "code",
   "execution_count": 73,
   "metadata": {},
   "outputs": [
    {
     "data": {
      "text/plain": [
       "41.0"
      ]
     },
     "execution_count": 73,
     "metadata": {},
     "output_type": "execute_result"
    }
   ],
   "source": [
    "#// BEGIN_TODO [PRE_8c] Compute the average age of all the people in the age dictionary (1 point)\n",
    "\n",
    "sum(age.values())/len(age)\n",
    "\n",
    "#// END_TODO [PRE_8c]"
   ]
  },
  {
   "cell_type": "markdown",
   "metadata": {},
   "source": [
    "### Adding and Changing Dictionary Values\n",
    "\n",
    "A value can be changed by assigning the new value to a particular key, using similar notation to lists. For example, we can change Bob's age with:"
   ]
  },
  {
   "cell_type": "code",
   "execution_count": 74,
   "metadata": {},
   "outputs": [
    {
     "data": {
      "text/plain": [
       "{'Alice': 19, 'Bob': 25, 'Eve': 37, 'Mallory': 9}"
      ]
     },
     "execution_count": 74,
     "metadata": {},
     "output_type": "execute_result"
    }
   ],
   "source": [
    "age['Bob'] = 25\n",
    "age"
   ]
  },
  {
   "cell_type": "markdown",
   "metadata": {},
   "source": [
    "A new key-value pair can be added to a dictionary by assigning the value to the new key."
   ]
  },
  {
   "cell_type": "code",
   "execution_count": 75,
   "metadata": {},
   "outputs": [
    {
     "data": {
      "text/plain": [
       "{'Alice': 19, 'Bob': 25, 'Eve': 37, 'Mallory': 9, 'Tom': 67}"
      ]
     },
     "execution_count": 75,
     "metadata": {},
     "output_type": "execute_result"
    }
   ],
   "source": [
    "age['Tom'] = 67\n",
    "age"
   ]
  },
  {
   "cell_type": "markdown",
   "metadata": {},
   "source": [
    "#### Exercise 8.d\n",
    "\n",
    "Add `'Charlie'` with age 7 to the `age` dictionary."
   ]
  },
  {
   "cell_type": "code",
   "execution_count": 76,
   "metadata": {},
   "outputs": [],
   "source": [
    "#// BEGIN_TODO [PRE_8d] Add 'Charlie' with age 7 to the age dictionary (1 point)\n",
    "\n",
    "age['Charlie'] = 7\n",
    "\n",
    "#// END_TODO [PRE_8d]"
   ]
  },
  {
   "cell_type": "markdown",
   "metadata": {},
   "source": [
    "## 9. Function Calls\n",
    "\n",
    "Python provides many useful functions, which operate on data. You have already encountered the `type()` and `len()` functions. A function has a *name*, it takes zero or more *arguments* and returns zero or more *return values*. Functions are called by specifying the function name and providing values for the arguments in brackets. For example, `sum(x)` calls the function with the name `sum`, with one argument `x`, and returns a number representing the sum of all elements in the list `x`. The following example sums up the elements in the list `[1, 5, -3, 4.2]`:"
   ]
  },
  {
   "cell_type": "code",
   "execution_count": 77,
   "metadata": {},
   "outputs": [
    {
     "data": {
      "text/plain": [
       "7.2"
      ]
     },
     "execution_count": 77,
     "metadata": {},
     "output_type": "execute_result"
    }
   ],
   "source": [
    "sum([1, 5, -3, 4.2])"
   ]
  },
  {
   "cell_type": "markdown",
   "metadata": {},
   "source": [
    "You can supply variables instead of literal values as arguments."
   ]
  },
  {
   "cell_type": "code",
   "execution_count": 78,
   "metadata": {},
   "outputs": [
    {
     "data": {
      "text/plain": [
       "7.2"
      ]
     },
     "execution_count": 78,
     "metadata": {},
     "output_type": "execute_result"
    }
   ],
   "source": [
    "y = [1, 5, -3, 4.2]\n",
    "sum(y)"
   ]
  },
  {
   "cell_type": "markdown",
   "metadata": {},
   "source": [
    "In the remainder of this course, you will come across many functions provided by Python itself or a library. You can get help on the functions using **Shift-Tab** or by hovering over them, depending on your editor. For example, look up what the `sum` function does:"
   ]
  },
  {
   "cell_type": "code",
   "execution_count": 79,
   "metadata": {},
   "outputs": [
    {
     "data": {
      "text/plain": [
       "<function sum(iterable, /, start=0)>"
      ]
     },
     "execution_count": 79,
     "metadata": {},
     "output_type": "execute_result"
    }
   ],
   "source": [
    "sum"
   ]
  },
  {
   "cell_type": "markdown",
   "metadata": {},
   "source": [
    "You will notice that the `sum` function takes two arguments: an `iterable` (which in this course you can consider being simply a list) and an optional positional argument `start`. Optional arguments are specified with `argument_name=default_value`, where `default_value` refers to the value the argument assumes if it is not explicitly specified. You supply optional positional arguments to a function call by providing their value."
   ]
  },
  {
   "cell_type": "code",
   "execution_count": 80,
   "metadata": {},
   "outputs": [
    {
     "data": {
      "text/plain": [
       "17.2"
      ]
     },
     "execution_count": 80,
     "metadata": {},
     "output_type": "execute_result"
    }
   ],
   "source": [
    "sum(y, 10)"
   ]
  },
  {
   "cell_type": "markdown",
   "metadata": {},
   "source": [
    "## 10. If Statement\n",
    "\n",
    "Sometimes, you will only want to execute a piece of code if a certain _condition_ is satisfied, and run another piece of code otherwise. This is possible with an **if statement**.\n",
    "\n",
    "The if statement has the following syntax:\n",
    "```python\n",
    "if condition:\n",
    "    statements\n",
    "elif condition:      \n",
    "    statements      \n",
    "else condition:      \n",
    "    statements\n",
    "```\n",
    "where **`statements`** is a block of one or more statements **indented** to the same level. It has the following semantics:\n",
    "\n",
    "1. evaluate the conditions one by one, and;\n",
    "1. execute the statements corresponding to the first condition that evaluates to `True`.\n",
    "\n",
    "For example, let us generate random numbers (as if it were to throw a dice). For that, we need to load a function from the library by executing the following cell:"
   ]
  },
  {
   "cell_type": "code",
   "execution_count": 81,
   "metadata": {},
   "outputs": [],
   "source": [
    "from random import randrange"
   ]
  },
  {
   "cell_type": "markdown",
   "metadata": {},
   "source": [
    "We can now get a random number from `0` up to (but not including) `10` with the expression:"
   ]
  },
  {
   "cell_type": "code",
   "execution_count": 82,
   "metadata": {},
   "outputs": [
    {
     "data": {
      "text/plain": [
       "2"
      ]
     },
     "execution_count": 82,
     "metadata": {},
     "output_type": "execute_result"
    }
   ],
   "source": [
    "randrange(0, 10)"
   ]
  },
  {
   "cell_type": "markdown",
   "metadata": {},
   "source": [
    "You can execute the cell several times and you will see that the number changes.\n",
    "\n",
    "In the following code cell, the variables `num1` and `num2` are assigned random integers from 0 to 10. The result of the next lines is that if `num2 > num1`, the variable `msg` gets assigned the string `'num2 is larger than num1'`. Else, if `num2 == num1`, the variable `msg` gets assigned `'num2 is equal to num1'`. Else, the variable `msg` gets assigned `'num2 is less than num1'`."
   ]
  },
  {
   "cell_type": "code",
   "execution_count": 83,
   "metadata": {},
   "outputs": [
    {
     "data": {
      "text/plain": [
       "(2, 4, 'num2 is larger than num1')"
      ]
     },
     "execution_count": 83,
     "metadata": {},
     "output_type": "execute_result"
    }
   ],
   "source": [
    "num1 = randrange(0, 10)\n",
    "num2 = randrange(0, 10)\n",
    "\n",
    "if num2 > num1:                    \n",
    "    msg = 'num2 is larger than num1' \n",
    "elif num2 == num1:                 \n",
    "    msg = 'num2 is equal to num1'    \n",
    "else:                        \n",
    "    msg = 'num2 is less than num1'   \n",
    "    \n",
    "num1, num2, msg"
   ]
  },
  {
   "cell_type": "markdown",
   "metadata": {},
   "source": [
    "You can execute the cell several times and you will see that the values of `num1`, `num2`, and `msg` change.\n",
    "\n",
    "> **Notes:** \n",
    "> - The *condition* can be any logical expression (e.g. `5 < num1 and num1 < num2`).\n",
    "> - The `elif` and `else` clauses are optional.\n",
    "\n",
    "> **Important:** In Python indentation is very important. In these notebooks, we use 4 spaces for indentation. When you press TAB then 4 spaces are automatically inserted. The statements in the block following a condition (e.g. `msg = 'num2 is larger than num1'`) should be indented with 4 spaces relative to the condition (e.g. `if num2 > num1:`). In case a block contains more than one line, all the lines belonging to the block should be indented equally."
   ]
  },
  {
   "cell_type": "markdown",
   "metadata": {},
   "source": [
    "### Exercise 10.a\n",
    "\n",
    "In the following code cell, `a` is assigned a random integer between 1 and 20 (not inclusive) and `b` is assigned a list of prime numbers between 1 and 20. Use an if statement to assign to the variable `c` the string `'prime'` if `b` contains `a` and `'not prime'` otherwise."
   ]
  },
  {
   "cell_type": "code",
   "execution_count": 84,
   "metadata": {},
   "outputs": [
    {
     "data": {
      "text/plain": [
       "'16 is not prime'"
      ]
     },
     "execution_count": 84,
     "metadata": {},
     "output_type": "execute_result"
    }
   ],
   "source": [
    "a = randrange(1, 20)\n",
    "b = [2, 3, 5, 7, 11, 13, 17, 19]\n",
    "\n",
    "#// BEGIN_TODO [PRE_10a] Prime numbers (1 point)\n",
    "\n",
    "if a in b:\n",
    "    c = 'prime'\n",
    "else: c = 'not prime'\n",
    "\n",
    "#// END_TODO [PRE_10a]\n",
    "\n",
    "str(a) + ' is ' + c"
   ]
  },
  {
   "cell_type": "markdown",
   "metadata": {},
   "source": [
    "Note the use of `str()` function to convert the integer `a` to a string, so that it can be concatenated to the remaining strings `' is '` and `c`."
   ]
  },
  {
   "cell_type": "markdown",
   "metadata": {},
   "source": [
    "## 11. For Loop"
   ]
  },
  {
   "cell_type": "markdown",
   "metadata": {},
   "source": [
    "The **for loop** allows us to iterate over a list, i.e. to execute a set of statements for each element of a list. It has the following syntax:\n",
    "```python\n",
    "for x in list:      \n",
    "    statements\n",
    "```\n",
    "where **`statements`** is a block of one or more statements **indented** to the same level. It has the following semantics:\n",
    "\n",
    "1. assign elements from `list` to the variable `x` one by one, and;\n",
    "1. execute the `statements` for each element assigned to `x`.\n",
    "\n",
    "For example, let us define a list of numbers `number_list`."
   ]
  },
  {
   "cell_type": "code",
   "execution_count": 85,
   "metadata": {},
   "outputs": [],
   "source": [
    "number_list = [2, 5, 3, 8, 3, 10, 2, 4, 35, 6]"
   ]
  },
  {
   "cell_type": "markdown",
   "metadata": {},
   "source": [
    "We can use a **for loop** to compute the sum of all elements in the list as follows:"
   ]
  },
  {
   "cell_type": "code",
   "execution_count": 86,
   "metadata": {},
   "outputs": [
    {
     "name": "stdout",
     "output_type": "stream",
     "text": [
      "The sum so far is:  2\n",
      "The sum so far is:  7\n",
      "The sum so far is:  10\n",
      "The sum so far is:  18\n",
      "The sum so far is:  21\n",
      "The sum so far is:  31\n",
      "The sum so far is:  33\n",
      "The sum so far is:  37\n",
      "The sum so far is:  72\n",
      "The sum so far is:  78\n"
     ]
    },
    {
     "data": {
      "text/plain": [
       "78"
      ]
     },
     "execution_count": 86,
     "metadata": {},
     "output_type": "execute_result"
    }
   ],
   "source": [
    "sum_so_far = 0\n",
    "\n",
    "for number in number_list:\n",
    "    sum_so_far = sum_so_far + number\n",
    "    print('The sum so far is: ', sum_so_far)\n",
    "    \n",
    "sum_so_far"
   ]
  },
  {
   "cell_type": "markdown",
   "metadata": {},
   "source": [
    "The piece of code in the indented block is executed for each element in the list `number_list`.\n",
    "\n",
    "The first time the block is executed, `number` equals `2`, the second time `number` equals `5`, and so on until `number` equals `6`. \n",
    "\n",
    "On line 4, the `sum_so_far` is incremented by `number`. \n",
    "\n",
    "After finishing the for loop, the variable `sum_so_far` is equal to sum of the numbers in `number_list`.\n",
    "\n",
    "> **Important:** The statements in the block following the `for ... :` line should be indented with 4 spaces. In case a block contains more than one line, all the lines belonging to the block should be indented equally."
   ]
  },
  {
   "cell_type": "markdown",
   "metadata": {},
   "source": [
    "In this particular case, we can use a built-in function `sum()` to calculate the sum of all elements in the list."
   ]
  },
  {
   "cell_type": "code",
   "execution_count": 87,
   "metadata": {},
   "outputs": [
    {
     "data": {
      "text/plain": [
       "78"
      ]
     },
     "execution_count": 87,
     "metadata": {},
     "output_type": "execute_result"
    }
   ],
   "source": [
    "sum(number_list)"
   ]
  },
  {
   "cell_type": "markdown",
   "metadata": {},
   "source": [
    "### Exercise 11.a\n",
    "\n",
    "Consider the following string"
   ]
  },
  {
   "cell_type": "code",
   "execution_count": 88,
   "metadata": {},
   "outputs": [],
   "source": [
    "text = '''\n",
    "       The mystery of the letter 'f' and the funky aspects of information processing of the human brain. \n",
    "       Could you tell me how often the letter 'f' appears in this fragment of text?\n",
    "       '''"
   ]
  },
  {
   "cell_type": "markdown",
   "metadata": {},
   "source": [
    "Use a **for loop** to count the number of times the character *f* appears in `text` above and assign it to the variable `f_count`.\n",
    "\n",
    "> **Hint:** A string can be considered a list of characters, so `for x in s:` will iterate `x` over the characters in string `s`."
   ]
  },
  {
   "cell_type": "code",
   "execution_count": 89,
   "metadata": {},
   "outputs": [
    {
     "data": {
      "text/plain": [
       "10"
      ]
     },
     "execution_count": 89,
     "metadata": {},
     "output_type": "execute_result"
    }
   ],
   "source": [
    "#// BEGIN_TODO [PRE_11a] Count letters f (1 point)\n",
    "\n",
    "f_count = 0\n",
    "\n",
    "for x in text:\n",
    "    if x == 'f':\n",
    "        f_count += 1\n",
    "\n",
    "#// END_TODO [PRE_11a]\n",
    "\n",
    "f_count"
   ]
  },
  {
   "cell_type": "markdown",
   "metadata": {},
   "source": [
    "Did you arrive at the same number of `'f'`'s by counting yourself? Who do you trust?"
   ]
  },
  {
   "cell_type": "markdown",
   "metadata": {},
   "source": [
    "### Exercise 11.b\n",
    "\n",
    "Consider the following list"
   ]
  },
  {
   "cell_type": "code",
   "execution_count": 90,
   "metadata": {},
   "outputs": [],
   "source": [
    "numbers = [1, 1, 2, 3, 5, 8, 13, 21, 34, 55, 89, 144, 233, 377, 610, 987, 1597, 2584, 4181, 6765, 10946, 17711]"
   ]
  },
  {
   "cell_type": "markdown",
   "metadata": {},
   "source": [
    "Use a **for loop** to iterate through list `numbers` and find those numbers that are divisible by 7. Assign those numbers to the list variable `divisible_by_7`.\n",
    "\n",
    "> **Hint:** A number $x$ is divisible by $y$ if the remainder of the division of $x$ by $y$ is 0. "
   ]
  },
  {
   "cell_type": "code",
   "execution_count": 91,
   "metadata": {},
   "outputs": [
    {
     "data": {
      "text/plain": [
       "[21, 987]"
      ]
     },
     "execution_count": 91,
     "metadata": {},
     "output_type": "execute_result"
    }
   ],
   "source": [
    "#// BEGIN_TODO [PRE_11b] Numbers divisible by 7 (1 point)\n",
    "\n",
    "divisible_by_7 = []\n",
    "\n",
    "for x in numbers:\n",
    "    if x % 7 == 0:\n",
    "        divisible_by_7.append(x)\n",
    "\n",
    "#// END_TODO [PRE_11b]\n",
    "\n",
    "divisible_by_7"
   ]
  },
  {
   "cell_type": "markdown",
   "metadata": {},
   "source": [
    "## 12. Comments for Documentation\n",
    "\n",
    "Comments in Python start with a **`#`** character\n",
    "and extend to the end of the line (their syntax)."
   ]
  },
  {
   "cell_type": "code",
   "execution_count": 92,
   "metadata": {},
   "outputs": [],
   "source": [
    "# This is a comment"
   ]
  },
  {
   "cell_type": "markdown",
   "metadata": {},
   "source": [
    "Comments are ignored during execution (their semantics)."
   ]
  },
  {
   "cell_type": "markdown",
   "metadata": {},
   "source": [
    "We use comments to state the **goal** of a program fragment:\n",
    "\n",
    "* the **assumptions** about its initial state,\n",
    "    in particular, about its *input data*, and;\n",
    "* the desired **effect** or **result**,\n",
    "    in particular desired properties of its _output data_ in relation to the input data.\n",
    "\n",
    "Example:"
   ]
  },
  {
   "cell_type": "code",
   "execution_count": 93,
   "metadata": {},
   "outputs": [
    {
     "data": {
      "text/plain": [
       "(1.0, -3.0)"
      ]
     },
     "execution_count": 93,
     "metadata": {},
     "output_type": "execute_result"
    }
   ],
   "source": [
    "# assumption: a != 0  and  b ** 2 >= 4 * a * c\n",
    "# result: x_1 and x_2 are approximate solutions to a * x ** 2 + b * x + c == 0\n",
    "\n",
    "a = 1\n",
    "b = 2\n",
    "c = -3\n",
    "\n",
    "discriminant = b ** 2 - 4 * a * c  # not negative\n",
    "x_1, x_2 =  (-b + discriminant ** 0.5) / (2 * a), (-b - discriminant ** 0.5) / (2 * a)\n",
    "\n",
    "x_1, x_2"
   ]
  },
  {
   "cell_type": "markdown",
   "metadata": {},
   "source": [
    "Comments are also used to document the **design** of a program:\n",
    "\n",
    "* indicate structure\n",
    "* explain why it works"
   ]
  },
  {
   "cell_type": "markdown",
   "metadata": {},
   "source": [
    "> **Important:** Because we are working with *Jupyter notebooks*, we can use *markdown* cells to comment the code. In fact, this keeps the notebooks much more readable. Especially when the number of instructions to execute for one exercise gets larger, we strongly recommend that you follow a style with only a few lines per code cell, and *markdown* cells in between to comment on your code.\n",
    "> You can turn a cell to _markdown_ mode by clicking on it and selecting Markdown in the toolbar above."
   ]
  },
  {
   "cell_type": "markdown",
   "metadata": {},
   "source": [
    "### Exercise 12.a\n",
    "\n",
    "Comments can also be used to (temporarily) suppress the execution of a line of code.\n",
    "Just prepend `#` in front of a line to suppress its execution\n",
    "(this is also known as **commenting out** a line).\n",
    "To undo this (also known as **uncommenting** a line) remove the `#`,\n",
    "and make sure that the line starts at the proper level of indentation.\n",
    "\n",
    "Consider the following Python code:\n",
    "\n",
    "```python\n",
    "a = b\n",
    "#b = a + 3\n",
    "a = c - 3\n",
    "c = b + 4\n",
    "b = a\n",
    "```\n",
    "\n",
    "* Copy this code into the next code cell (between the marker lines);\n",
    "* **uncomment** the line that is *commented out*, and;\n",
    "* **comment out** a single assignment statement to make the final execution result show `(0, 0, 3)`.\n",
    "\n",
    "> **Hint:** Don't be afraid to experiment."
   ]
  },
  {
   "cell_type": "code",
   "execution_count": 94,
   "metadata": {},
   "outputs": [
    {
     "data": {
      "text/plain": [
       "(1, 2, 3)"
      ]
     },
     "execution_count": 94,
     "metadata": {},
     "output_type": "execute_result"
    }
   ],
   "source": [
    "a = 1\n",
    "b = 2\n",
    "c = 3\n",
    "\n",
    "#// BEGIN_TODO [PRE_12a] Comment out a line (1 point)\n",
    "\n",
    "# ===== =====> Replace this line by your code. <===== ===== #\n",
    "\n",
    "#// END_TODO [PRE_12a]\n",
    "\n",
    "a, b, c"
   ]
  },
  {
   "cell_type": "code",
   "execution_count": 95,
   "metadata": {},
   "outputs": [],
   "source": [
    "a = b\n",
    "#b = a + 3\n",
    "a = c - 3\n",
    "c = b + 4\n",
    "b = a"
   ]
  },
  {
   "cell_type": "markdown",
   "metadata": {},
   "source": [
    "## 13. Errors\n",
    "\n",
    "When learning to program you will invariably run into many errors. There is no recipe to avoid errors completely.\n",
    "All engineers will need to learn how to deal with errors. To do so, we suggest you adhere to the following advice:\n",
    "\n",
    "* carefully reread a program if you suspect an error;\n",
    "* be critical of programs, especially your own (always question why you would trust them);\n",
    "* provide a convincing argument for why a program design works (explain it to someone else);\n",
    "* test your program fragments with carefully chosen inputs and inspect the outputs;\n",
    "* build in automated tests to check expectations, and;\n",
    "* when you detect an error, fix it.\n",
    "\n",
    "You will find more information on reporting and diagnosing errors in the notebook `error-diagnosis.ipynb` inside the `support` folder.\n",
    "\n",
    "> **Important:** Go through `error-diagnosis.ipynb` carefully and revisit it when running into errors later during the course!"
   ]
  },
  {
   "cell_type": "markdown",
   "metadata": {},
   "source": [
    "## 14. Python Best Practices\n",
    "\n",
    "Some common programming conventions (not only for Python) are:\n",
    "\n",
    "1. Write (at most) one statement per line.\n",
    "1. Write whitespace around operators.\n",
    "1. Write one blank line between program fragments to indicate grouping.\n",
    "1. Break down long expressions by assigning subexpressions to auxiliary variables.\n",
    "1. Use **meaningful** names; improve the readability of names with **underscores**.\n",
    "1. After defining a variable, **verify** its value.\n",
    "1. Use each variable for **one purpose** and document that purpose in a comment.  \n",
    "1. Don't reuse the same variable for a different purpose; rather, introduce a new variable.\n",
    "    \n",
    "These practices make a big difference for the human programmer:\n",
    "\n",
    "* You will make fewer mistakes.\n",
    "* If you do make mistakes, it will be easier to find them.\n",
    "* If you cannot find them,\n",
    "    then it will be easier for others to help you find them."
   ]
  },
  {
   "cell_type": "markdown",
   "metadata": {},
   "source": [
    "## 15. Exercise: Exam Grades\n",
    "\n",
    "\n",
    "In the earlier exercises you were closely guided. In the following exercises we will put your knowledge to the test.\n",
    "\n",
    "Note that these exercises may seem more difficult as you will need to work more indepedently. When you struggle with an exercise then go back to the corresponding earlier section and make sure you really understand the introduced concepts. Do not hesitate to experiment with your own code!\n",
    "\n",
    "\n",
    "The following list contains the exam grades of a past course:"
   ]
  },
  {
   "cell_type": "code",
   "execution_count": 96,
   "metadata": {},
   "outputs": [],
   "source": [
    "grades = [7, 4, 4, 4, 8, 6, 6, 6, 5, 8, 4, 5, 5, 7, 6, 7, 4, 7, 7, 7, 9, 8, 10, 6, 4, 7, 8, 5, 9, 6, 7, 6, 4, 4, 3, 8, 6, 9, 4, 8, 10, 6, 7, 4, 8]"
   ]
  },
  {
   "cell_type": "markdown",
   "metadata": {},
   "source": [
    "### Exercise 15.a\n",
    "\n",
    "Compute the *mean* of the grades and assign it to the variable `mean_grades`. Make use of built-in functions to simplify your code.\n",
    "\n",
    "> **Hint:** Recall the definition of a *mean* from the EDA lecture."
   ]
  },
  {
   "cell_type": "code",
   "execution_count": 97,
   "metadata": {},
   "outputs": [
    {
     "data": {
      "text/plain": [
       "6.288888888888889"
      ]
     },
     "execution_count": 97,
     "metadata": {},
     "output_type": "execute_result"
    }
   ],
   "source": [
    "#// BEGIN_TODO [PRE_15a] Compute the mean (2 point)\n",
    "\n",
    "mean_grades = sum(grades)/len(grades)\n",
    "\n",
    "#// END_TODO [PRE_15a]\n",
    "\n",
    "mean_grades"
   ]
  },
  {
   "cell_type": "markdown",
   "metadata": {},
   "source": [
    "### Exercise 15.b\n",
    "\n",
    "Compute the *sample standard deviation* of the grades and assign it to the variable `std_grades`. Again, make use of built-in functions to simplify your code.\n",
    "\n",
    "> **Hint:** Recall the definition of a *sample standard deviation* from the EDA lecture. Try using list comprehension. The square root can be computed using the `**` operator, e.g. using `x**0.5` for $\\sqrt{x}$."
   ]
  },
  {
   "cell_type": "code",
   "execution_count": 111,
   "metadata": {},
   "outputs": [
    {
     "data": {
      "text/plain": [
       "1.8168682123396023"
      ]
     },
     "execution_count": 111,
     "metadata": {},
     "output_type": "execute_result"
    }
   ],
   "source": [
    "#// BEGIN_TODO [PRE_15b] Compute the sample standard deviation (3 point)\n",
    "\n",
    "delta_sum = 0\n",
    "\n",
    "for x in grades:\n",
    "    delta_sum += ((x - mean_grades) ** 2)\n",
    "\n",
    "std_grades = ((delta_sum / (len(grades) - 1)) ** 0.5)\n",
    "\n",
    "#// END_TODO [PRE_15b]\n",
    "\n",
    "std_grades"
   ]
  },
  {
   "cell_type": "markdown",
   "metadata": {},
   "source": [
    "### Exercise 15.c\n",
    "\n",
    "Count the number of times that each grade in `grades` occurs in `grades` and store the result in a dictionary `count`, where the grades are the dictionary keys (as integers) and their counts are the corresponding values.\n",
    "\n",
    "For example, for a list of grades `[8, 6, 7, 8, 7]` the dictionary should contain `{8: 2, 6: 1, 7: 2}`.\n",
    "\n",
    "> **Hint:** Try using a for loop."
   ]
  },
  {
   "cell_type": "code",
   "execution_count": 99,
   "metadata": {},
   "outputs": [
    {
     "data": {
      "text/plain": [
       "{7: 9, 4: 10, 8: 7, 6: 9, 5: 4, 9: 3, 10: 2, 3: 1}"
      ]
     },
     "execution_count": 99,
     "metadata": {},
     "output_type": "execute_result"
    }
   ],
   "source": [
    "#// BEGIN_TODO [PRE_15c] Count the grades (3 points)\n",
    "count = dict()\n",
    "\n",
    "for x in grades:\n",
    "    if x not in count.keys():\n",
    "        count[x] = 1\n",
    "    else: count[x] += 1\n",
    "\n",
    "#// END_TODO [PRE_15c]\n",
    "\n",
    "count"
   ]
  },
  {
   "cell_type": "markdown",
   "metadata": {},
   "source": [
    "### Exercise 15.d\n",
    "\n",
    "Look at the `count` dictionary in <span class=\"reference\" ref=\"exercise_count\"><a href=\"#exercise_count\">Exercise 15.c</a></span>, find the *mode* of the grades and assign it to the variable `mode_grades`.\n",
    "\n",
    "For this exercise you can simply look up the value and do not have to compute it programmatically.\n",
    "\n",
    "> **Hint:** Recall the definition of a <i>mode</i> from the EDA lecture."
   ]
  },
  {
   "cell_type": "code",
   "execution_count": 100,
   "metadata": {},
   "outputs": [
    {
     "data": {
      "text/plain": [
       "4"
      ]
     },
     "execution_count": 100,
     "metadata": {},
     "output_type": "execute_result"
    }
   ],
   "source": [
    "#// BEGIN_TODO [PRE_15d] Find the mode (1 point)\n",
    "\n",
    "mode_grades = 4\n",
    "\n",
    "#// END_TODO [PRE_15d]\n",
    "\n",
    "mode_grades"
   ]
  },
  {
   "cell_type": "markdown",
   "metadata": {},
   "source": [
    "### Exercise 15.e\n",
    "\n",
    "Scale the grades in `grades` between 0 and 100 and assign the list to the variable `grades_percent`.\n",
    "\n",
    "> **Hint:** For example, grade 7 should be scaled to 70. Try using list comprehension."
   ]
  },
  {
   "cell_type": "code",
   "execution_count": 101,
   "metadata": {},
   "outputs": [
    {
     "data": {
      "text/plain": [
       "[70,\n",
       " 40,\n",
       " 40,\n",
       " 40,\n",
       " 80,\n",
       " 60,\n",
       " 60,\n",
       " 60,\n",
       " 50,\n",
       " 80,\n",
       " 40,\n",
       " 50,\n",
       " 50,\n",
       " 70,\n",
       " 60,\n",
       " 70,\n",
       " 40,\n",
       " 70,\n",
       " 70,\n",
       " 70,\n",
       " 90,\n",
       " 80,\n",
       " 100,\n",
       " 60,\n",
       " 40,\n",
       " 70,\n",
       " 80,\n",
       " 50,\n",
       " 90,\n",
       " 60,\n",
       " 70,\n",
       " 60,\n",
       " 40,\n",
       " 40,\n",
       " 30,\n",
       " 80,\n",
       " 60,\n",
       " 90,\n",
       " 40,\n",
       " 80,\n",
       " 100,\n",
       " 60,\n",
       " 70,\n",
       " 40,\n",
       " 80]"
      ]
     },
     "execution_count": 101,
     "metadata": {},
     "output_type": "execute_result"
    }
   ],
   "source": [
    "#// BEGIN_TODO [PRE_15e] Scale the grades (2 point)\n",
    "\n",
    "grades_percent = [10 * x for x in grades]\n",
    "\n",
    "#// END_TODO [PRE_15e]\n",
    "\n",
    "grades_percent"
   ]
  },
  {
   "cell_type": "markdown",
   "metadata": {},
   "source": [
    "### Exercise 15.f\n",
    "\n",
    "Standardize the grades in `grades` by subtracting the mean and dividing by the sample standard deviation, and assign the list of standardized grades to the variable `grades_standard`. Use `mean_grades` and `std_grades` to do the standardization.\n",
    "\n",
    "> **Hint:** Recall the definition of a <i>standardization</i> from the EDA lecture. Try using a list comprehension."
   ]
  },
  {
   "cell_type": "code",
   "execution_count": 102,
   "metadata": {},
   "outputs": [
    {
     "data": {
      "text/plain": [
       "[0.39581655679623473,\n",
       " -1.2740345421878803,\n",
       " -1.2740345421878803,\n",
       " -1.2740345421878803,\n",
       " 0.9524335897909397,\n",
       " -0.16080047619847027,\n",
       " -0.16080047619847027,\n",
       " -0.16080047619847027,\n",
       " -0.7174175091931753,\n",
       " 0.9524335897909397,\n",
       " -1.2740345421878803,\n",
       " -0.7174175091931753,\n",
       " -0.7174175091931753,\n",
       " 0.39581655679623473,\n",
       " -0.16080047619847027,\n",
       " 0.39581655679623473,\n",
       " -1.2740345421878803,\n",
       " 0.39581655679623473,\n",
       " 0.39581655679623473,\n",
       " 0.39581655679623473,\n",
       " 1.5090506227856448,\n",
       " 0.9524335897909397,\n",
       " 2.06566765578035,\n",
       " -0.16080047619847027,\n",
       " -1.2740345421878803,\n",
       " 0.39581655679623473,\n",
       " 0.9524335897909397,\n",
       " -0.7174175091931753,\n",
       " 1.5090506227856448,\n",
       " -0.16080047619847027,\n",
       " 0.39581655679623473,\n",
       " -0.16080047619847027,\n",
       " -1.2740345421878803,\n",
       " -1.2740345421878803,\n",
       " -1.8306515751825854,\n",
       " 0.9524335897909397,\n",
       " -0.16080047619847027,\n",
       " 1.5090506227856448,\n",
       " -1.2740345421878803,\n",
       " 0.9524335897909397,\n",
       " 2.06566765578035,\n",
       " -0.16080047619847027,\n",
       " 0.39581655679623473,\n",
       " -1.2740345421878803,\n",
       " 0.9524335897909397]"
      ]
     },
     "execution_count": 102,
     "metadata": {},
     "output_type": "execute_result"
    }
   ],
   "source": [
    "#// BEGIN_TODO [PRE_15f] Standardize the grades (2 point)\n",
    "\n",
    "grades_standard = [(x - mean_grades) / std_grades for x in grades]\n",
    "\n",
    "#// END_TODO [PRE_15f]\n",
    "\n",
    "grades_standard"
   ]
  },
  {
   "cell_type": "markdown",
   "metadata": {},
   "source": [
    "# Feedback\n",
    "\n",
    "Please fill in this questionaire to help us improve this course for the next year. Your feedback will be anonymized and will not affect your grade in any way!"
   ]
  },
  {
   "cell_type": "markdown",
   "metadata": {},
   "source": [
    "### How many hours did you spend on these Exercises?\n",
    "\n",
    "Assign a number to `feedback_time`."
   ]
  },
  {
   "cell_type": "code",
   "execution_count": 103,
   "metadata": {},
   "outputs": [
    {
     "data": {
      "text/plain": [
       "2"
      ]
     },
     "execution_count": 103,
     "metadata": {},
     "output_type": "execute_result"
    }
   ],
   "source": [
    "#// BEGIN_FEEDBACK [Feedback_1] (0 point)\n",
    "\n",
    "feedback_time = 2\n",
    "\n",
    "#// END_FEEDBACK [Feedback_1] (0 point)\n",
    "\n",
    "import numbers\n",
    "assert isinstance(feedback_time, numbers.Number), \"Please assign a number to feedback_time\"\n",
    "feedback_time"
   ]
  },
  {
   "cell_type": "markdown",
   "metadata": {},
   "source": [
    "### How difficult did you find these Exercises?\n",
    "\n",
    "Assign an integer to `feedback_difficulty`, on a scale 0 - 10, with 0 being very easy, 5 being just right, and 10 being very difficult."
   ]
  },
  {
   "cell_type": "code",
   "execution_count": 104,
   "metadata": {},
   "outputs": [
    {
     "data": {
      "text/plain": [
       "4"
      ]
     },
     "execution_count": 104,
     "metadata": {},
     "output_type": "execute_result"
    }
   ],
   "source": [
    "#// BEGIN_FEEDBACK [Feedback_2] (0 point)\n",
    "\n",
    "feedback_difficulty = 4\n",
    "\n",
    "#// END_FEEDBACK [Feedback_2] (0 point)\n",
    "\n",
    "import numbers\n",
    "assert isinstance(feedback_difficulty, numbers.Number), \"Please assign a number to feedback_difficulty\"\n",
    "feedback_difficulty"
   ]
  },
  {
   "cell_type": "markdown",
   "metadata": {},
   "source": [
    "### (Optional) What did you like?\n",
    "\n",
    "Assign a string to `feedback_like`."
   ]
  },
  {
   "cell_type": "code",
   "execution_count": 105,
   "metadata": {},
   "outputs": [],
   "source": [
    "#// BEGIN_FEEDBACK [Feedback_3] (0 point)\n",
    "\n",
    "feedback_line = 'the fact that it was interactive'\n",
    "\n",
    "#// END_FEEDBACK [Feedback_3] (0 point)"
   ]
  },
  {
   "cell_type": "markdown",
   "metadata": {},
   "source": [
    "### (Optional) What can be improved?\n",
    "\n",
    "Assign a string to `feedback_improve`. Please be specific, so that we can act on your feedback. For example, mention the specific exercises and what was unclear."
   ]
  },
  {
   "cell_type": "code",
   "execution_count": 106,
   "metadata": {},
   "outputs": [],
   "source": [
    "#// BEGIN_FEEDBACK [Feedback_4] (0 point)\n",
    "\n",
    "feedback_improve = 'The execises are very short and a bit too involved. Maybe having langer problems, where you can be free to experiment, after the basic are explained would feel more natural. Thus, I hope the grading is leanient with creative solutions.'\n",
    "\n",
    "#// END_FEEDBACK [Feedback_4] (0 point)"
   ]
  },
  {
   "cell_type": "markdown",
   "metadata": {},
   "source": [
    "\n",
    "\n",
    "\n",
    "## How to Submit Your Work\n",
    "\n",
    "1. **Before submitting**, you must run your notebook by doing **Kernel > Restart & Run All**.  \n",
    "   Make sure that your notebook runs without errors **in linear order**.\n",
    "1. Remember to rename the notebook, replacing `...-template.ipynb` with `...-yourIDnr.ipynb`, where `yourIDnr` is your TU/e identification number.\n",
    "1. Submit the executed notebook with your work\n",
    "   for the appropriate assignment in **Canvas**.\n",
    "1. In the **Momotor** tab in Canvas,\n",
    "  you can select that assignment again to find some feedback on your submitted work.\n",
    "  If there are any problems reported by _Momotor_,\n",
    "  then you need to fix those,\n",
    "  and **resubmit the fixed notebook**.\n",
    "\n",
    "In case of a high workload on our server\n",
    "(because many students submit close to the deadline),\n",
    "it may take longer to receive the feedback.\n",
    "\n",
    "\n"
   ]
  },
  {
   "cell_type": "markdown",
   "metadata": {},
   "source": [
    "---"
   ]
  },
  {
   "cell_type": "code",
   "execution_count": 107,
   "metadata": {},
   "outputs": [
    {
     "name": "stdout",
     "output_type": "stream",
     "text": [
      "Variable              Type      Data/Info\n",
      "-----------------------------------------\n",
      "AUTHOR_DATE           str       2023-11-15\n",
      "AUTHOR_ID_NR          str       1923552\n",
      "AUTHOR_NAME           str       Mihnea Buzoiu\n",
      "a                     int       0\n",
      "age                   dict      n=6\n",
      "animal_list           list      n=4\n",
      "b                     int       0\n",
      "c                     int       6\n",
      "circle_area           float     50.2654816\n",
      "count                 dict      n=8\n",
      "delta_sum             float     145.2444444444445\n",
      "digits                int       76\n",
      "discriminant          int       16\n",
      "divisible_by_7        list      n=2\n",
      "f_count               int       10\n",
      "feedback_difficulty   int       4\n",
      "feedback_improve      str       The execises are very sho<...> with creative solutions.\n",
      "feedback_line         str       the fact that it was interactive\n",
      "feedback_time         int       2\n",
      "grades                list      n=45\n",
      "grades_percent        list      n=45\n",
      "grades_standard       list      n=45\n",
      "i                     int       3\n",
      "j                     int       9\n",
      "l                     list      n=4\n",
      "m                     list      n=3\n",
      "matrix                list      n=3\n",
      "mean_grades           float     6.288888888888889\n",
      "mode_grades           int       4\n",
      "msg                   str       num2 is larger than num1\n",
      "n                     int       100\n",
      "num1                  int       2\n",
      "num2                  int       4\n",
      "number                int       6\n",
      "number_list           list      n=10\n",
      "numbers               module    <module 'numbers' from '/<...>b/python3.10/numbers.py'>\n",
      "pi                    float     3.1415926\n",
      "r                     int       4\n",
      "randrange             method    <bound method Random.rand<...>bject at 0x7feba4824a10>>\n",
      "s                     str       Data Analytics\n",
      "seq                   list      n=5\n",
      "std_grades            float     1.796567371680688\n",
      "string                str       ----------++++++++++-----<...>+++++----------++++++++++\n",
      "sum_so_far            int       78\n",
      "t                     list      n=3\n",
      "text                  str       \\n       The mystery of t<...>ragment of text?\\n       \n",
      "v                     list      n=4\n",
      "x                     int       8\n",
      "x_1                   float     1.0\n",
      "x_2                   float     -3.0\n",
      "y                     list      n=4\n"
     ]
    }
   ],
   "source": [
    "# List all defined names\n",
    "%whos"
   ]
  },
  {
   "cell_type": "markdown",
   "metadata": {},
   "source": [
    "---\n",
    "\n",
    "# (End of Notebook) <span class=\"tocSkip\"></span>\n",
    "\n",
    "&copy; 2017-2023 - **TU/e** - Eindhoven University of Technology"
   ]
  }
 ],
 "metadata": {
  "hide_input": false,
  "kernelspec": {
   "display_name": "Python 3 (ipykernel)",
   "language": "python",
   "name": "python3"
  },
  "language_info": {
   "codemirror_mode": {
    "name": "ipython",
    "version": 3
   },
   "file_extension": ".py",
   "mimetype": "text/x-python",
   "name": "python",
   "nbconvert_exporter": "python",
   "pygments_lexer": "ipython3",
   "version": "3.10.9"
  },
  "toc": {
   "base_numbering": 1,
   "nav_menu": {
    "height": "174px",
    "width": "252px"
   },
   "number_sections": false,
   "sideBar": true,
   "skip_h1_title": false,
   "title_cell": "Table of Contents",
   "title_sidebar": "Contents",
   "toc_cell": true,
   "toc_position": {
    "height": "742px",
    "left": "950px",
    "top": "111px",
    "width": "165px"
   },
   "toc_section_display": true,
   "toc_window_display": true
  }
 },
 "nbformat": 4,
 "nbformat_minor": 4
}
